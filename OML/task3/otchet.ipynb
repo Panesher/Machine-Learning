{
 "cells": [
  {
   "cell_type": "markdown",
   "metadata": {},
   "source": [
    "### Вспомогательная функция\n",
    "$\n",
    "f_t(x,\\mu) = tf(x, \\mu) + F(x, \\mu) = \\\\\n",
    "t(\\frac{1}{2}||Ax-b||_2^2+\\lambda \\langle 1, u\\rangle) + \\sum_{i=1}^n (- \\ln(-(x_i - \\mu_i)) - \\ln(-(-x_i-\\mu_i))) = \\\\\n",
    "t(\\frac{1}{2}||Ax-b||_2^2+\\lambda \\langle 1, u\\rangle) + \\sum_{i=1}^n (- \\ln (\\mu_i - x_i) - \\ln(x_i+\\mu_i))\n",
    "$"
   ]
  },
  {
   "cell_type": "markdown",
   "metadata": {},
   "source": [
    "### Направление\n",
    "$\n",
    "d_k = (d_k^x, d_k^\\mu)\\\\\n",
    "d_k^x = -[\\nabla^2f_t(x, \\mu)_x]^{-1}\\nabla f_t(x, \\mu)_x\\\\\n",
    "d_k^\\mu = -[\\nabla^2f_t(x, \\mu)_\\mu]^{-1}\\nabla f_t(x, \\mu)_\\mu\\\\\n",
    "$"
   ]
  },
  {
   "cell_type": "markdown",
   "metadata": {},
   "source": [
    "#### Для х:\n",
    "$\\\\\n",
    "d^xf_t(x,\\mu) = \n",
    "t \\langle Ax - b, Adx\\rangle + \\sum_{i=1}^n (\\frac{1}{\\mu_i - x_i} - \\frac{1}{\\mu_i + x_i})d_{x_i}\n",
    "=\\\\\n",
    "t \\langle A^T(Ax - b), dx\\rangle + \\sum_{i=1}^n (\\frac{1}{\\mu_i - x_i} - \\frac{1}{\\mu_i + x_i})d_{x_i}\n",
    "\\\\\n",
    "\\nabla_x f_t(x, \\mu)_i = (tA^T(Ax - b))_i + \\frac{1}{\\mu_i - x_i} - \\frac{1}{\\mu_i + x_i}\n",
    "\\\\\n",
    "d [f_t(x, \\mu)][dx, dx] = \n",
    "t \\langle A^TAdx, dx\\rangle + \\sum_{i=1}^n (\\frac{1}{(\\mu_i - x_i)^2} + \\frac{1}{(\\mu_i + x_i)^2})d_{x_i}\n",
    "\\\\\n",
    "\\nabla^2_x f_t(x, \\mu)_{ii} = (tA^TA)_{ii} + \\frac{1}{(\\mu_i - x_i)^2} + \\frac{1}{(\\mu_i + x_i)^2}\\\\\n",
    "\\nabla^2_x f_t(x, \\mu)_{ij, i\\ne j} = \n",
    "(tA^TA)_{ij, i\\ne j}$"
   ]
  },
  {
   "cell_type": "markdown",
   "metadata": {},
   "source": [
    "#### Для $\\mu:\\\\$\n",
    "$\n",
    "d^\\mu f_t(x,\\mu) = \n",
    "t\\lambda \\langle 1, d\\mu\\rangle + \\sum_{i=1}^n (- \\frac{1}{\\mu_i - x_i} - \\frac{1}{x_i+\\mu_i})d_{\\mu_i}\n",
    "\\\\\n",
    "\\nabla_\\mu f_t(x, \\mu)_i = t\\lambda - \\frac{1}{\\mu_i - x_i} - \\frac{1}{x_i+\\mu_i}\n",
    "\\\\\n",
    "d^\\mu f_t(x,\\mu)[d\\mu d\\mu] = d(\\sum_{i=1}^n (- \\frac{1}{\\mu_i - x_i} - \\frac{1}{x_i+\\mu_i}))=\n",
    "\\sum_{i=1}^n (\\frac{1}{(\\mu_i - x_i)^2} + \\frac{1}{(x_i+\\mu_i)^2})d_{\\mu_i} d_{\\mu_i}\n",
    "\\\\\n",
    "\\nabla^2_\\mu f_t(x, \\mu)_{ii} = \\frac{1}{(\\mu_i - x_i)^2} + \\frac{1}{(x_i+\\mu_i)^2}\n",
    "\\\\\n",
    "\\nabla^2_\\mu f_t(x, \\mu)_{ij, i\\ne j} = 0$"
   ]
  },
  {
   "cell_type": "markdown",
   "metadata": {},
   "source": [
    "#### Смешанная часть гессиана:\n",
    "$\n",
    "\\nabla^2_\\mu f_t(x, \\mu)_{i_x, i_\\mu} =\n",
    "d/d^{\\mu_i}(\\frac{1}{\\mu_i - x_i} - \\frac{1}{\\mu_i + x_i}) = \n",
    "\\frac{1}{(\\mu_i + x_i)^2} - \\frac{1}{(\\mu_i - x_i)^2}\n",
    "\\\\\n",
    "\\nabla^2_\\mu f_t(x, \\mu)_{i_\\mu, i_x} =\n",
    "d/d^{x_i}(- \\frac{1}{\\mu_i - x_i} - \\frac{1}{x_i+\\mu_i}) = \n",
    "\\frac{1}{(x_i+\\mu_i)^2} - \\frac{1}{(\\mu_i - x_i)^2} = \\nabla^2_\\mu f_t(x, \\mu)_{i_x, i_\\mu}\n",
    "$"
   ]
  },
  {
   "cell_type": "markdown",
   "metadata": {},
   "source": [
    "### Максимальное $\\alpha$\n",
    "\n",
    "$g_i(x, \\mu) = \\langle q, (x, \\mu) \\rangle$, где $(x, \\mu)$ - вектор состоящий из х и $\\mu$, а $q = (..., \\pm 1,..., -1, ...)$ это вектор где на $i_x (=i)$ месте стоит коэфицент для $x_i$, на $i_\\mu (=i + n)$ стоит коэфицент для $\\mu_i$, а в остальных местах 0.\n",
    "\n",
    "Тогда $\\alpha_{\\max} = \\min\\limits_{i\\in I} \\frac{\\langle q_i, (x, \\mu) \\rangle}{\\langle q_i, d \\rangle} = \\min\\limits_{i\\in I} \\frac{sgn(q_{ij})x_j - \\mu_j}{sgn(q_{ij})d_j-d_{j+n}}$, где $I$ - множество индексов, где знаменатель больше 0."
   ]
  },
  {
   "cell_type": "markdown",
   "metadata": {},
   "source": [
    "### Начальная точка\n",
    "\n",
    "В данной задаче нам нужно выбрать подходящую под условия начальную точку: $x = 0_n, \\mu = 1_n$"
   ]
  },
  {
   "cell_type": "markdown",
   "metadata": {},
   "source": [
    "### Способ решения\n",
    "\n",
    "Предлагаю взять для способа решения `LBFGS`, чтобы наши вычисления поместились в RAM и не было потребности вычислять гессиан."
   ]
  }
 ],
 "metadata": {
  "interpreter": {
   "hash": "10432db674fa96a70b9a84b01f304535c194208972c10226c055a15e3a7600a6"
  },
  "kernelspec": {
   "display_name": "Python 3.9.7 ('base')",
   "language": "python",
   "name": "python3"
  },
  "language_info": {
   "name": "python",
   "version": "3.9.7"
  },
  "orig_nbformat": 4
 },
 "nbformat": 4,
 "nbformat_minor": 2
}
