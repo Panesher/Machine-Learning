{
 "cells": [
  {
   "cell_type": "markdown",
   "metadata": {
    "id": "JvRsAzIosVs3"
   },
   "source": [
    "# Машинное обучение, ФКН ВШЭ\n",
    "\n",
    "## Практическое задание 4. Классификация. \n",
    "\n",
    "### Общая информация\n",
    "Дата выдачи: 29.10.2021\n",
    "\n",
    "Мягкий дедлайн: 23:59MSK 10.11.2021 (за каждый день просрочки снимается 1 балл)\n",
    "\n",
    "Жесткий дедлайн: 23:59MSK 13.11.2021"
   ]
  },
  {
   "cell_type": "markdown",
   "metadata": {
    "id": "fX1HzIqQsVs6"
   },
   "source": [
    "### О задании\n",
    "\n",
    "В этом задании вы:\n",
    "- ознакомитесь с тем, что происходит \"внутри\" метода опорных векторов и логистической регрессии\n",
    "- познакомитесь с калибровкой вероятности\n",
    "- изучите методы трансформации переменных и методы отбора признаков\n",
    "- попробуете оценить экономический эффект модели\n",
    "\n",
    "\n",
    "### Оценивание и штрафы\n",
    "Каждая из задач имеет определенную «стоимость» (указана в скобках около задачи). Максимально допустимая оценка за работу — 10 баллов.\n",
    "\n",
    "Сдавать задание после указанного срока сдачи нельзя. При выставлении неполного балла за задание в связи с наличием ошибок на усмотрение проверяющего предусмотрена возможность исправить работу на указанных в ответном письме условиях.\n",
    "\n",
    "Задание выполняется самостоятельно. «Похожие» решения считаются плагиатом и все задействованные студенты (в том числе те, у кого списали) не могут получить за него больше 0 баллов (подробнее о плагиате см. на странице курса). Если вы нашли решение какого-то из заданий (или его часть) в открытом источнике, необходимо указать ссылку на этот источник в отдельном блоке в конце вашей работы (скорее всего вы будете не единственным, кто это нашел, поэтому чтобы исключить подозрение в плагиате, необходима ссылка на источник).\n",
    "\n",
    "Неэффективная реализация кода может негативно отразиться на оценке.\n",
    "\n",
    "\n",
    "### Формат сдачи\n",
    "Для сдачи задания переименуйте получившийся файл *.ipynb в соответствии со следующим форматом: homework-practice-04-classification-Username.ipynb, где Username — ваша фамилия и имя на латинице именно в таком порядке (например, homework-practice-04-classification-IvanovIvan.ipynb).\n",
    "\n",
    "Для удобства проверки самостоятельно посчитайте свою максимальную оценку (исходя из набора решенных задач) и укажите ниже.\n",
    "\n",
    "**Оценка**: "
   ]
  },
  {
   "cell_type": "code",
   "execution_count": 1,
   "metadata": {
    "id": "AT1ZfSLEsVs7"
   },
   "outputs": [],
   "source": [
    "import numpy as np\n",
    "import pandas as pd\n",
    "import matplotlib.pyplot as plt\n",
    "%matplotlib inline\n",
    "\n",
    "pd.set_option('display.max_rows', 100)\n",
    "pd.set_option('display.max_columns', 100)"
   ]
  },
  {
   "cell_type": "markdown",
   "metadata": {
    "id": "PaXmNM7osVs8"
   },
   "source": [
    "# Часть 0. SVM, LR и калибровка вероятностей. "
   ]
  },
  {
   "cell_type": "markdown",
   "metadata": {
    "id": "V3Bv0E1CsVs8"
   },
   "source": [
    "Сгенерируем синтетические данные."
   ]
  },
  {
   "cell_type": "code",
   "execution_count": 2,
   "metadata": {
    "id": "xvfONCtesVs8"
   },
   "outputs": [],
   "source": [
    "from sklearn.datasets import make_classification\n",
    "from sklearn.model_selection import train_test_split\n",
    "\n",
    "X, y = make_classification(\n",
    "    n_samples=10000, n_features=10, n_informative=5, n_redundant=5,\n",
    "    random_state=107)\n",
    "\n",
    "X_train, X_test, y_train, y_test = train_test_split(\n",
    "    X, y, test_size=0.3, random_state=42)"
   ]
  },
  {
   "cell_type": "markdown",
   "metadata": {
    "id": "7FQCPf9NsVs9"
   },
   "source": [
    "__Задание 1.__ Обучение и применение метода опорных векторов и логистической регрессии.\n",
    "\n",
    "__(1 балл)__\n",
    "\n",
    "Обучите метод опорных векторов. На занятиях мы проходили линейный вариант без ядрового перехода, что соответствует линейному ядру (`LinearSVC` или же `SVC(kernel='linear')` в `sklearn.svm`). Подберите параметр регуляризации `C` (можете воспользоваться кросс-валидацией или отделить валидационную выборку от обучающей). __Здесь и далее, если не сказано иначе, подбирайте оптимальные гиперпараметры с точки зрения AUC-PR.__"
   ]
  },
  {
   "cell_type": "code",
   "execution_count": 3,
   "metadata": {
    "id": "O1IfPic2sVs9"
   },
   "outputs": [],
   "source": [
    "from sklearn.preprocessing import StandardScaler\n",
    "from sklearn.metrics import roc_auc_score\n",
    "from sklearn.model_selection import train_test_split\n",
    "from sklearn.svm import LinearSVC\n",
    "from sklearn.metrics import average_precision_score\n",
    "from sklearn import metrics \n",
    "from sklearn.linear_model import LogisticRegression\n",
    "from sklearn.calibration import CalibratedClassifierCV, calibration_curve\n",
    "from scipy.special import expit\n",
    "from sklearn.metrics import mean_squared_error"
   ]
  },
  {
   "cell_type": "code",
   "execution_count": 4,
   "metadata": {
    "colab": {
     "base_uri": "https://localhost:8080/"
    },
    "id": "xc_kIfCo_RZ2",
    "outputId": "e4972987-8f79-41da-b57d-2fad6182c33b"
   },
   "outputs": [
    {
     "name": "stdout",
     "output_type": "stream",
     "text": [
      "SVC ROC-AUC for c = 0.0001 : 0.8430118592570812\n",
      "SVC ROC-AUC for c = 0.001 : 0.8456908098925152\n",
      "SVC ROC-AUC for c = 0.01 : 0.8460256787219446\n",
      "SVC ROC-AUC for c = 0.1 : 0.8459766735273939\n",
      "SVC ROC-AUC for c = 1 : 0.8460011761246692\n"
     ]
    }
   ],
   "source": [
    "best = 0\n",
    "best_c = 1\n",
    "X_train, X_val, y_train, y_val = train_test_split(X_train, y_train, test_size=0.1, random_state=991)\n",
    "for c in [0.0001, 0.001, 0.01, 0.1, 1]:\n",
    "    svc = LinearSVC(max_iter=100000, C=c).fit(X_train, y_train)\n",
    "    svc_pred = svc.decision_function(X_val)\n",
    "    if best < roc_auc_score(y_val, svc_pred):\n",
    "        best = roc_auc_score(y_val, svc_pred)\n",
    "        best_c = c\n",
    "    print('SVC ROC-AUC for c =', c, ':', roc_auc_score(y_val, svc_pred))"
   ]
  },
  {
   "cell_type": "code",
   "execution_count": 5,
   "metadata": {
    "colab": {
     "base_uri": "https://localhost:8080/"
    },
    "id": "U6BDpVL7Jn2T",
    "outputId": "2d131252-9a0b-4751-b480-d7c8c8efbcfe"
   },
   "outputs": [
    {
     "data": {
      "text/plain": [
       "0.01"
      ]
     },
     "execution_count": 5,
     "metadata": {},
     "output_type": "execute_result"
    }
   ],
   "source": [
    "best_c"
   ]
  },
  {
   "cell_type": "code",
   "execution_count": 6,
   "metadata": {
    "id": "j0J7UcHQJFFe"
   },
   "outputs": [],
   "source": [
    "svc = LinearSVC(max_iter=100000, C=best_c).fit(X_train, y_train)\n",
    "svc_pred = svc.decision_function(X_test)"
   ]
  },
  {
   "cell_type": "markdown",
   "metadata": {
    "id": "naUMHeHVsVs9"
   },
   "source": [
    "На тестовой части постройте ROC и PR кривые, а также посчитайте AUC-ROC, AUC-PR с точностью до 5 знаков. Сравните AUC-ROC и AUC-PR для вашей модели с этими же метриками для случайного классификатора (который на каждом объекте выдаёт один из двух классов с равными вероятностями)."
   ]
  },
  {
   "cell_type": "code",
   "execution_count": 7,
   "metadata": {
    "colab": {
     "base_uri": "https://localhost:8080/",
     "height": 0
    },
    "id": "99qcHu_PsVs-",
    "outputId": "a383553d-f8c1-452c-ad6b-ad352cb4fee9"
   },
   "outputs": [
    {
     "data": {
      "image/png": "[encoded data removed]",
      "text/plain": [
       "<Figure size 1080x504 with 2 Axes>"
      ]
     },
     "metadata": {
      "needs_background": "light"
     },
     "output_type": "display_data"
    }
   ],
   "source": [
    "fig, axs = plt.subplots(1, 2, figsize=(15, 7))\n",
    "\n",
    "svc_tpr, svc_fpr, _ = metrics.roc_curve(y_test, svc_pred)\n",
    "\n",
    "axs[0].plot(svc_tpr, svc_fpr, label='SVC', color='blue')\n",
    "axs[0].plot([0, 1], [0, 1], label='Worst', linestyle='--', color='green')\n",
    "\n",
    "axs[0].set_xlabel('FPR')\n",
    "axs[0].set_ylabel('TPR')\n",
    "axs[0].set_title('ROC curve')\n",
    "\n",
    "svc_pr, svc_rec, _ = metrics.precision_recall_curve(y_test, svc_pred)\n",
    "\n",
    "axs[1].plot(svc_rec, svc_pr, label='SVC', color='blue')\n",
    "\n",
    "axs[1].set_xlabel('Recall')\n",
    "axs[1].set_ylabel('Presision')\n",
    "axs[1].set_title('PR curve')\n",
    "plt.show()"
   ]
  },
  {
   "cell_type": "code",
   "execution_count": 8,
   "metadata": {
    "colab": {
     "base_uri": "https://localhost:8080/"
    },
    "id": "bPL673NHKruW",
    "outputId": "4f4548eb-3f7b-42f0-d77b-1ad62f8ee339"
   },
   "outputs": [
    {
     "name": "stdout",
     "output_type": "stream",
     "text": [
      "SVC AUC-ROC: 0.8419020941710018\n",
      "SVC AUC-PR: 0.8138069689120209\n"
     ]
    }
   ],
   "source": [
    "print('SVC AUC-ROC:', roc_auc_score(y_test, svc_pred))\n",
    "print('SVC AUC-PR:', metrics.average_precision_score(y_test, svc_pred))"
   ]
  },
  {
   "cell_type": "markdown",
   "metadata": {
    "id": "5aRa5Jr9sVs-"
   },
   "source": [
    "А теперь проделайте все то же самое для логистической регрессии (LR) — обучение, подбор параметра регуляризации (используйте L2-регуляризацию), вычисление всех метрик и построение кривых. Сравните результаты LR и SVM с точки зрения всех вычисленных критериев качества, объясните различия (если они есть)."
   ]
  },
  {
   "cell_type": "code",
   "execution_count": 9,
   "metadata": {
    "colab": {
     "base_uri": "https://localhost:8080/"
    },
    "id": "Tc7M3sYbIAZc",
    "outputId": "57ca6c3e-c073-4d99-9879-bc5531401463"
   },
   "outputs": [
    {
     "name": "stdout",
     "output_type": "stream",
     "text": [
      "Logistic Regression ROC-AUC: 0.8419981325863678\n"
     ]
    }
   ],
   "source": [
    "log_reg = LogisticRegression().fit(X_train, y_train) # l2 by default\n",
    "lr_pred = log_reg.decision_function(X_test)\n",
    "print('Logistic Regression ROC-AUC:', roc_auc_score(y_test, lr_pred))"
   ]
  },
  {
   "cell_type": "code",
   "execution_count": 10,
   "metadata": {
    "colab": {
     "base_uri": "https://localhost:8080/",
     "height": 0
    },
    "id": "FzzJI7e6KYE1",
    "outputId": "1ec907ee-b49a-40df-9156-595ee6016e87"
   },
   "outputs": [
    {
     "data": {
      "image/png": "[encoded data removed]",
      "text/plain": [
       "<Figure size 1080x504 with 2 Axes>"
      ]
     },
     "metadata": {
      "needs_background": "light"
     },
     "output_type": "display_data"
    }
   ],
   "source": [
    "fig, axs = plt.subplots(1, 2, figsize=(15, 7))\n",
    "\n",
    "svc_tpr, svc_fpr, _ = metrics.roc_curve(y_test, svc_pred)\n",
    "lr_tpr, lr_fpr, _ = metrics.roc_curve(y_test, lr_pred)\n",
    "\n",
    "axs[0].plot(svc_tpr, svc_fpr, label='SVC', color='blue')\n",
    "axs[0].plot(lr_tpr, lr_fpr, label='LR', color='orange')\n",
    "axs[0].plot([0, 1], [0, 1], label='Worst', linestyle='--', color='green')\n",
    "\n",
    "axs[0].set_xlabel('FPR')\n",
    "axs[0].set_ylabel('TPR')\n",
    "axs[0].set_title('ROC curve')\n",
    "axs[0].legend()\n",
    "\n",
    "svc_pr, svc_rec, _ = metrics.precision_recall_curve(y_test, svc_pred)\n",
    "lr_pr, lr_rec, _ = metrics.precision_recall_curve(y_test, lr_pred)\n",
    "\n",
    "axs[1].plot(svc_rec, svc_pr, label='SVC', color='blue')\n",
    "axs[1].plot(lr_rec, lr_pr, label='LR', color='orange')\n",
    "\n",
    "axs[1].set_xlabel('Recall')\n",
    "axs[1].set_ylabel('Presision')\n",
    "axs[1].set_title('PR curve')\n",
    "axs[1].legend()\n",
    "plt.show()"
   ]
  },
  {
   "cell_type": "code",
   "execution_count": 11,
   "metadata": {
    "colab": {
     "base_uri": "https://localhost:8080/"
    },
    "id": "6CDMNKX9O38G",
    "outputId": "c992821a-acf0-4424-c5cc-0c4b30ee8caa"
   },
   "outputs": [
    {
     "name": "stdout",
     "output_type": "stream",
     "text": [
      "SVC AUC-ROC: 0.8419020941710018\n",
      "LR AUC-ROC: 0.8419981325863678\n",
      "SVC AUC-PR: 0.8138069689120209\n",
      "LR AUC-PR: 0.8152865921074282\n"
     ]
    }
   ],
   "source": [
    "print('SVC AUC-ROC:', roc_auc_score(y_test, svc_pred))\n",
    "print('LR AUC-ROC:', roc_auc_score(y_test, lr_pred))\n",
    "print('SVC AUC-PR:', metrics.average_precision_score(y_test, svc_pred))\n",
    "print('LR AUC-PR:', metrics.average_precision_score(y_test, lr_pred))"
   ]
  },
  {
   "cell_type": "markdown",
   "metadata": {
    "id": "gqu5ipfzPXXH"
   },
   "source": [
    "Различия минимальны"
   ]
  },
  {
   "cell_type": "markdown",
   "metadata": {
    "id": "25W8gYNVsVs-"
   },
   "source": [
    "В названии метода опорных векторов присутствуют некоторые \"опорные векторы\". Сгенерируйте синтетические данные с помощью `make_classification` с 2 признаками, обучите на нём метод опорных векторов. Визуализируйте разделяющую прямую, все объекты и выделите опорные векторы (атрибут `support_vectors_`). В этот раз, если необходимо, вместо `LinearSVC` воспользуйтесь `SVC(kernel='linear')`, так как только в нём есть информация об опорных векторах."
   ]
  },
  {
   "cell_type": "code",
   "execution_count": 12,
   "metadata": {
    "id": "rNSUHRJ4sVs_"
   },
   "outputs": [],
   "source": [
    "from sklearn.svm import SVC"
   ]
  },
  {
   "cell_type": "code",
   "execution_count": 13,
   "metadata": {
    "id": "CbOuOO1AQFAN"
   },
   "outputs": [],
   "source": [
    "X, y = make_classification(\n",
    "    n_samples=10000, n_features=2, n_informative=2, n_redundant=0,\n",
    "    random_state=42)\n",
    "\n",
    "X_train, X_test, y_train, y_test = train_test_split(\n",
    "    X, y, test_size=0.3, random_state=42)"
   ]
  },
  {
   "cell_type": "code",
   "execution_count": 14,
   "metadata": {
    "colab": {
     "base_uri": "https://localhost:8080/"
    },
    "id": "5wbAKoRzQ4TN",
    "outputId": "978c6f05-3bc1-46ab-c8a3-02adbc5951b4"
   },
   "outputs": [
    {
     "name": "stdout",
     "output_type": "stream",
     "text": [
      "SVC ROC-AUC for c = 0.0001 : 0.9413752847147954\n",
      "SVC ROC-AUC for c = 0.001 : 0.9440693601978921\n",
      "SVC ROC-AUC for c = 0.01 : 0.9454735449951425\n",
      "SVC ROC-AUC for c = 0.1 : 0.9455960029716469\n",
      "SVC ROC-AUC for c = 1 : 0.9456776416226498\n"
     ]
    }
   ],
   "source": [
    "best = 0\n",
    "best_c = 1\n",
    "X_train, X_val, y_train, y_val = train_test_split(X_train, y_train, test_size=0.1, random_state=991)\n",
    "for c in [0.0001, 0.001, 0.01, 0.1, 1]:\n",
    "    svc = SVC(kernel='linear', C=c, max_iter=10000).fit(X_train, y_train)\n",
    "    svc_pred = svc.decision_function(X_val)\n",
    "    if best < roc_auc_score(y_val, svc_pred):\n",
    "        best = roc_auc_score(y_val, svc_pred)\n",
    "        best_c = c\n",
    "    print('SVC ROC-AUC for c =', c, ':', roc_auc_score(y_val, svc_pred))"
   ]
  },
  {
   "cell_type": "code",
   "execution_count": 15,
   "metadata": {
    "id": "cMfyf_TuWe58"
   },
   "outputs": [],
   "source": [
    "svc = SVC(kernel='linear', C=best_c).fit(X_train, y_train)\n",
    "svc_pred = svc.decision_function(X_test)"
   ]
  },
  {
   "cell_type": "markdown",
   "metadata": {
    "id": "ccepRG5GX5m8"
   },
   "source": [
    "[Source helper](https://scikit-learn.org/stable/auto_examples/svm/plot_separating_hyperplane.html)"
   ]
  },
  {
   "cell_type": "code",
   "execution_count": 16,
   "metadata": {
    "colab": {
     "base_uri": "https://localhost:8080/",
     "height": 0
    },
    "id": "eP_wzPlqRCHb",
    "outputId": "df30d04d-84f0-48b3-d71f-32f55487fd5d"
   },
   "outputs": [
    {
     "data": {
      "image/png": "[encoded data removed]",
      "text/plain": [
       "<Figure size 432x288 with 1 Axes>"
      ]
     },
     "metadata": {
      "needs_background": "light"
     },
     "output_type": "display_data"
    }
   ],
   "source": [
    "plt.scatter(X_train[:, 0], X_train[:, 1], c=y_train, s=30, cmap=plt.cm.Paired)\n",
    "\n",
    "ax = plt.gca()\n",
    "xlim = ax.get_xlim()\n",
    "ylim = ax.get_ylim()\n",
    "\n",
    "xx = np.linspace(xlim[0], xlim[1], 30)\n",
    "yy = np.linspace(ylim[0], ylim[1], 30)\n",
    "YY, XX = np.meshgrid(yy, xx)\n",
    "xy = np.vstack([XX.ravel(), YY.ravel()]).T\n",
    "Z = svc.decision_function(xy).reshape(XX.shape)\n",
    "\n",
    "# sep lines\n",
    "ax.contour(\n",
    "    XX, YY, Z, colors=\"k\", levels=[0], linestyles=[\"-\"]\n",
    ")\n",
    "\n",
    "# support vectors\n",
    "ax.scatter(\n",
    "    svc.support_vectors_[:, 0],\n",
    "    svc.support_vectors_[:, 1],\n",
    "    s=100,\n",
    "    linewidth=0.05,\n",
    "    facecolors=\"none\",\n",
    "    edgecolors=\"k\",\n",
    ")\n",
    "\n",
    "plt.show()"
   ]
  },
  {
   "cell_type": "markdown",
   "metadata": {
    "id": "ofEm7cJ3sVs_"
   },
   "source": [
    "В отличие от метода опорных векторов, логистическая регрессия не пытается  построить разделяющую гиперплоскость с максимальным отступом, а приближает в каждой точке пространства объектов вероятность положительных ответов $p(y=+1|x)$. Попробуйте нарисовать это распределение на плоскости, не забудьте отметить на ней все объекты. Вам может помочь функция `plt.pcolor`."
   ]
  },
  {
   "cell_type": "code",
   "execution_count": 17,
   "metadata": {
    "id": "v8qCOnoSbl7T"
   },
   "outputs": [],
   "source": [
    "log_reg = LogisticRegression().fit(X_train, y_train) # l2 by default\n",
    "lr_pred = log_reg.predict_proba(X)[:, 1]"
   ]
  },
  {
   "cell_type": "code",
   "execution_count": 18,
   "metadata": {
    "id": "8f9KzNIyhi7T"
   },
   "outputs": [],
   "source": [
    "df = pd.DataFrame(lr_pred)\n",
    "df['real'] = y"
   ]
  },
  {
   "cell_type": "code",
   "execution_count": 19,
   "metadata": {
    "colab": {
     "base_uri": "https://localhost:8080/",
     "height": 0
    },
    "id": "MezYXLKJcCN8",
    "outputId": "d76df5a8-667f-43da-e4a5-2eb3b9594979"
   },
   "outputs": [
    {
     "data": {
      "image/png": "[encoded data removed]",
      "text/plain": [
       "<Figure size 864x504 with 1 Axes>"
      ]
     },
     "metadata": {
      "needs_background": "light"
     },
     "output_type": "display_data"
    }
   ],
   "source": [
    "plt.figure(figsize=(12, 7))\n",
    "\n",
    "plt.hist(df.loc[df['real'] == 0, 0], bins=50, color='blue', density='True', alpha = 0.7)\n",
    "plt.hist(df.loc[df['real'] == 1, 0], bins=50, color='orange', density='True', alpha = 0.7)\n",
    "\n",
    "plt.title('Logistic regression')\n",
    "\n",
    "plt.suptitle('Outputs distribution')\n",
    "plt.show()"
   ]
  },
  {
   "cell_type": "code",
   "execution_count": 20,
   "metadata": {
    "colab": {
     "base_uri": "https://localhost:8080/",
     "height": 0
    },
    "id": "RInlOZIzsVs_",
    "outputId": "c50fb10c-7cbf-4ebe-b1b3-cdad7a19b82b"
   },
   "outputs": [
    {
     "data": {
      "image/png": "[encoded data removed]",
      "text/plain": [
       "<Figure size 432x288 with 1 Axes>"
      ]
     },
     "metadata": {
      "needs_background": "light"
     },
     "output_type": "display_data"
    }
   ],
   "source": [
    "# However hyperplane pretty same with svc\n",
    "plt.scatter(X_train[:, 0], X_train[:, 1], c=y_train, s=30, cmap=plt.cm.Paired)\n",
    "\n",
    "ax = plt.gca()\n",
    "xlim = ax.get_xlim()\n",
    "ylim = ax.get_ylim()\n",
    "\n",
    "xx = np.linspace(xlim[0], xlim[1], 30)\n",
    "yy = np.linspace(ylim[0], ylim[1], 30)\n",
    "YY, XX = np.meshgrid(yy, xx)\n",
    "xy = np.vstack([XX.ravel(), YY.ravel()]).T\n",
    "Z = log_reg.decision_function(xy).reshape(XX.shape)\n",
    "\n",
    "# sep lines\n",
    "ax.contour(\n",
    "    XX, YY, Z, colors=\"k\", levels=[0], linestyles=[\"-\"]\n",
    ")\n",
    "\n",
    "plt.show()"
   ]
  },
  {
   "cell_type": "markdown",
   "metadata": {
    "id": "wCS_yPgTsVtA"
   },
   "source": [
    "__Задание 2.__ Калибровка вероятностей.\n",
    "\n",
    "__(1 балл)__\n",
    "\n",
    "Перейдём к оценке качества выдаваемых алгоритмами вероятностей. Начнём с калибровочных кривых. \n",
    "\n",
    "Допустим, алгоритм возвращает некоторые числа от нуля до единицы. Хорошо ли они оценивают вероятность? Для этого разобьем отрезок $[0, 1]$ на несколько маленьких отрезков одинаковой длины. Рассмотрим $i$-й отрезок с границами $[a_i, b_i]$ и предсказания $p_1, p_2, \\dots, p_k$, которые попали в него. Пусть им соответствуют истинные ответы $y_1, y_2, \\dots, y_k$. Если алгоритм выдает корректные вероятности, то среди этих истинных ответов должно быть примерно $(a_i + b_i) / 2$ единиц. Иными словами, если нарисовать кривую, у которой по оси X отложены центры отрезков, а по оси Y — доли единичных ответов этих в отрезках, то она должна оказаться диагональной. Ниже приведена функция, которая должна рисовать такие кривые. В ней допущено две ошибки — найдите и исправьте их."
   ]
  },
  {
   "cell_type": "code",
   "execution_count": 21,
   "metadata": {
    "id": "aEa9uZPzsVtA"
   },
   "outputs": [],
   "source": [
    "def plot_calibration_curve(y_test, preds):\n",
    "    bin_middle_points = []\n",
    "    bin_real_ratios = []\n",
    "    n_bins = 10\n",
    "    for i in range(n_bins):\n",
    "        l = i / n_bins\n",
    "        r = (i + 1) / n_bins\n",
    "        bin_middle_points.append((l + r) / 2) \n",
    "        bin_real_ratios.append(np.mean(y_test[(preds >= l) & (preds < r)])) \n",
    "    plt.figure(figsize=(6,6))\n",
    "    plt.plot(bin_middle_points, bin_real_ratios)\n",
    "    plt.ylim([-0.05, 1.05])\n",
    "    plt.grid()"
   ]
  },
  {
   "cell_type": "code",
   "execution_count": 22,
   "metadata": {
    "colab": {
     "base_uri": "https://localhost:8080/",
     "height": 0
    },
    "id": "aqgEM6eeqRMc",
    "outputId": "763cf45b-3ae3-4615-ad92-551617246a3b"
   },
   "outputs": [
    {
     "data": {
      "image/png": "[encoded data removed]",
      "text/plain": [
       "<Figure size 432x432 with 1 Axes>"
      ]
     },
     "metadata": {
      "needs_background": "light"
     },
     "output_type": "display_data"
    }
   ],
   "source": [
    "lr_pred = log_reg.predict_proba(X_test)[:, 1]\n",
    "plot_calibration_curve(y_test, lr_pred)"
   ]
  },
  {
   "cell_type": "markdown",
   "metadata": {
    "id": "U68Ucbr8sVtA"
   },
   "source": [
    "Сгенерируйте синтетические данные аналогично использованным в самом первом задании. Постройте калибровочные кривые на тестовой части для логистической регрессии и метода опорных векторов (не забудьте перевести его предсказания в $[0;1]$). Изучите распределение ответов классификаторов (постройте гистограммы с помощью `plt.hist`). Чем они различаются? Чем вы можете объяснить это?"
   ]
  },
  {
   "cell_type": "code",
   "execution_count": 23,
   "metadata": {
    "id": "o7Pcdlr3sVtB"
   },
   "outputs": [],
   "source": [
    "X, y = make_classification(\n",
    "    n_samples=10000, n_features=10, n_informative=5, n_redundant=5,\n",
    "    random_state=107)\n",
    "\n",
    "X_train, X_test, y_train, y_test = train_test_split(\n",
    "    X, y, test_size=0.3, random_state=42)"
   ]
  },
  {
   "cell_type": "code",
   "execution_count": 24,
   "metadata": {
    "colab": {
     "base_uri": "https://localhost:8080/"
    },
    "id": "khXWGgj6tyip",
    "outputId": "25b175de-7283-43aa-f1b2-3bcbfb405957"
   },
   "outputs": [
    {
     "name": "stderr",
     "output_type": "stream",
     "text": [
      "/usr/local/lib/python3.7/dist-packages/sklearn/svm/_base.py:231: ConvergenceWarning: Solver terminated early (max_iter=10000).  Consider pre-processing your data with StandardScaler or MinMaxScaler.\n",
      "  % self.max_iter, ConvergenceWarning)\n"
     ]
    }
   ],
   "source": [
    "svc = SVC(kernel='linear', max_iter=10000).fit(X_train, y_train)\n",
    "svc_pred = svc.decision_function(X_test)\n",
    "svc_pred = (svc_pred - svc_pred.min()) / (svc_pred.max() - svc_pred.min())\n",
    "\n",
    "log_reg = LogisticRegression().fit(X_train, y_train) # l2 by default\n",
    "lr_pred = log_reg.predict_proba(X_test)[:, 1]"
   ]
  },
  {
   "cell_type": "code",
   "execution_count": 25,
   "metadata": {
    "colab": {
     "base_uri": "https://localhost:8080/",
     "height": 0
    },
    "id": "F2TeOLRwuYn5",
    "outputId": "d7d3b08f-145d-40f7-f0a1-7bb6977dd9b1"
   },
   "outputs": [
    {
     "data": {
      "image/png": "[encoded data removed]",
      "text/plain": [
       "<Figure size 432x432 with 1 Axes>"
      ]
     },
     "metadata": {
      "needs_background": "light"
     },
     "output_type": "display_data"
    },
    {
     "data": {
      "image/png": "[encoded data removed]",
      "text/plain": [
       "<Figure size 432x432 with 1 Axes>"
      ]
     },
     "metadata": {
      "needs_background": "light"
     },
     "output_type": "display_data"
    }
   ],
   "source": [
    "plot_calibration_curve(y_test, lr_pred)\n",
    "plt.title('Calibration curve on LR')\n",
    "plt.plot([0, 1], [0, 1], label='Perfect', linestyle='--', color='green')\n",
    "plt.legend()\n",
    "plot_calibration_curve(y_test, svc_pred)\n",
    "plt.title('Calibration curve on svc')\n",
    "plt.plot([0, 1], [0, 1], label='Perfect', linestyle='--', color='green')\n",
    "plt.legend()\n",
    "plt.show()"
   ]
  },
  {
   "cell_type": "markdown",
   "metadata": {
    "id": "1qJ-5uwpsVtB"
   },
   "source": [
    "Воспользуйтесь `CalibratedClassifierCV` из `sklearn` для калибровки вероятностей метода опорных векторов на обучении и постройте с его помощью предсказания для тестовой выборки. Нарисуйте для них калибровочную кривую. Улучшилась ли она?"
   ]
  },
  {
   "cell_type": "code",
   "execution_count": 26,
   "metadata": {
    "colab": {
     "base_uri": "https://localhost:8080/",
     "height": 0
    },
    "id": "xWmGZd3R7d3q",
    "outputId": "f1e5ba89-c131-44df-8219-a8f08f50bc3a"
   },
   "outputs": [
    {
     "name": "stderr",
     "output_type": "stream",
     "text": [
      "/usr/local/lib/python3.7/dist-packages/sklearn/svm/_base.py:231: ConvergenceWarning: Solver terminated early (max_iter=10000).  Consider pre-processing your data with StandardScaler or MinMaxScaler.\n",
      "  % self.max_iter, ConvergenceWarning)\n",
      "/usr/local/lib/python3.7/dist-packages/sklearn/svm/_base.py:231: ConvergenceWarning: Solver terminated early (max_iter=10000).  Consider pre-processing your data with StandardScaler or MinMaxScaler.\n",
      "  % self.max_iter, ConvergenceWarning)\n",
      "/usr/local/lib/python3.7/dist-packages/sklearn/svm/_base.py:231: ConvergenceWarning: Solver terminated early (max_iter=10000).  Consider pre-processing your data with StandardScaler or MinMaxScaler.\n",
      "  % self.max_iter, ConvergenceWarning)\n"
     ]
    },
    {
     "data": {
      "image/png": "[encoded data removed]",
      "text/plain": [
       "<Figure size 432x432 with 1 Axes>"
      ]
     },
     "metadata": {
      "needs_background": "light"
     },
     "output_type": "display_data"
    }
   ],
   "source": [
    "sigmoid_svc = CalibratedClassifierCV(svc, cv=3, method='sigmoid').fit(X_train, y_train)\n",
    "svc_pred = sigmoid_svc.predict_proba(X_test)[:, 1]\n",
    "plot_calibration_curve(y_test, svc_pred)\n",
    "plt.title('Calibration curve on sigmoid_svc')\n",
    "plt.plot([0, 1], [0, 1], label='Perfect', linestyle='--', color='green')\n",
    "plt.legend()\n",
    "plt.show()"
   ]
  },
  {
   "cell_type": "markdown",
   "metadata": {
    "id": "O3UygLIosVtB"
   },
   "source": [
    "__Бонусное задание (0.5 балла).__ Реализуйте свою функцию для калибровки вероятностей. Опишите ваш подход и продемонстрируйте результаты. Ключевые слова для вдохновения: `Platt`, `Isotonic`."
   ]
  },
  {
   "cell_type": "code",
   "execution_count": 27,
   "metadata": {
    "id": "u2w7GtI0sVtC"
   },
   "outputs": [],
   "source": [
    "#your code here"
   ]
  },
  {
   "cell_type": "markdown",
   "metadata": {
    "id": "ADilDEwmsVtC"
   },
   "source": [
    "# Часть 1. Работа с переменными."
   ]
  },
  {
   "cell_type": "markdown",
   "metadata": {
    "id": "f9_-ZHDIsVtC"
   },
   "source": [
    "В этой части мы научимся обрабатывать категориальные переменные, так как закодировать их в виде чисел недостаточно (это задаёт некоторый порядок, которого на категориальных переменных может и не быть). Существует два основных способа обработки категориальных значений:\n",
    "- One-hot-кодирование\n",
    "- Счётчики (CTR, mean-target кодирование, ...) — каждый категориальный признак заменяется на среднее значение целевой переменной по всем объектам, имеющим одинаковое значение в этом признаке.\n",
    "\n",
    "Начнём с one-hot-кодирования. Допустим наш категориальный признак $f_j(x)$ принимает значения из множества $C=\\{c_1, \\dots, c_m\\}$. Заменим его на $m$ бинарных признаков $b_1(x), \\dots, b_m(x)$, каждый из которых является индикатором одного из возможных категориальных значений:\n",
    "$$\n",
    "b_i(x) = [f_j(x) = c_i]\n",
    "$$"
   ]
  },
  {
   "cell_type": "markdown",
   "metadata": {
    "id": "CJJ-Q-VysVtC"
   },
   "source": [
    "__Подготовка данных.__\n",
    "\n",
    "Загрузим данные [UCI Bank Marketing Dataset](https://archive.ics.uci.edu/ml/datasets/bank+marketing). Этот датасет содержит информацию о банковском телефонном маркетинге, объектом в нем является телефонный звонок потенциальному клиенту с предложением некоторой услуги (утверждается, что это краткосрочный депозит), целевой переменной - ответ клиента (согласился ли он открыть депозит?). В качестве признакового описания используются характеристики клиента (образование, брак и т.д.), данные о звонке и различные экономические индикаторы - более подробная информация представлена в файле `bank-additional-names.txt`."
   ]
  },
  {
   "cell_type": "code",
   "execution_count": 28,
   "metadata": {
    "colab": {
     "base_uri": "https://localhost:8080/"
    },
    "id": "2UhuvdB5sVtC",
    "outputId": "787140fd-d7c2-4b90-d378-1816de1a0156"
   },
   "outputs": [
    {
     "name": "stdout",
     "output_type": "stream",
     "text": [
      "--2021-11-10 11:50:50--  https://archive.ics.uci.edu/ml/machine-learning-databases/00222/bank-additional.zip\n",
      "Resolving archive.ics.uci.edu (archive.ics.uci.edu)... 128.195.10.252\n",
      "Connecting to archive.ics.uci.edu (archive.ics.uci.edu)|128.195.10.252|:443... connected.\n",
      "HTTP request sent, awaiting response... 200 OK\n",
      "Length: 444572 (434K) [application/x-httpd-php]\n",
      "Saving to: ‘bank-additional.zip’\n",
      "\n",
      "bank-additional.zip 100%[===================>] 434.15K  --.-KB/s    in 0.1s    \n",
      "\n",
      "2021-11-10 11:50:50 (3.06 MB/s) - ‘bank-additional.zip’ saved [444572/444572]\n",
      "\n",
      "Archive:  bank-additional.zip\n",
      "   creating: bank-additional/\n",
      "  inflating: bank-additional/.DS_Store  \n",
      "   creating: __MACOSX/\n",
      "   creating: __MACOSX/bank-additional/\n",
      "  inflating: __MACOSX/bank-additional/._.DS_Store  \n",
      "  inflating: bank-additional/.Rhistory  \n",
      "  inflating: bank-additional/bank-additional-full.csv  \n",
      "  inflating: bank-additional/bank-additional-names.txt  \n",
      "  inflating: bank-additional/bank-additional.csv  \n",
      "  inflating: __MACOSX/._bank-additional  \n"
     ]
    }
   ],
   "source": [
    "!wget https://archive.ics.uci.edu/ml/machine-learning-databases/00222/bank-additional.zip\n",
    "!unzip bank-additional.zip"
   ]
  },
  {
   "cell_type": "code",
   "execution_count": 29,
   "metadata": {
    "id": "Vs4qSoe7shhp"
   },
   "outputs": [],
   "source": [
    "df = pd.read_csv('bank-additional/bank-additional-full.csv', sep=';')"
   ]
  },
  {
   "cell_type": "code",
   "execution_count": 30,
   "metadata": {
    "colab": {
     "base_uri": "https://localhost:8080/",
     "height": 224
    },
    "id": "pNjbJfp3sVtC",
    "outputId": "8ade15c9-e54f-45df-ea88-ed5301eb5541"
   },
   "outputs": [
    {
     "data": {
      "text/html": [
       "<div>\n",
       "<style scoped>\n",
       "    .dataframe tbody tr th:only-of-type {\n",
       "        vertical-align: middle;\n",
       "    }\n",
       "\n",
       "    .dataframe tbody tr th {\n",
       "        vertical-align: top;\n",
       "    }\n",
       "\n",
       "    .dataframe thead th {\n",
       "        text-align: right;\n",
       "    }\n",
       "</style>\n",
       "<table border=\"1\" class=\"dataframe\">\n",
       "  <thead>\n",
       "    <tr style=\"text-align: right;\">\n",
       "      <th></th>\n",
       "      <th>age</th>\n",
       "      <th>job</th>\n",
       "      <th>marital</th>\n",
       "      <th>education</th>\n",
       "      <th>default</th>\n",
       "      <th>housing</th>\n",
       "      <th>loan</th>\n",
       "      <th>contact</th>\n",
       "      <th>month</th>\n",
       "      <th>day_of_week</th>\n",
       "      <th>duration</th>\n",
       "      <th>campaign</th>\n",
       "      <th>pdays</th>\n",
       "      <th>previous</th>\n",
       "      <th>poutcome</th>\n",
       "      <th>emp.var.rate</th>\n",
       "      <th>cons.price.idx</th>\n",
       "      <th>cons.conf.idx</th>\n",
       "      <th>euribor3m</th>\n",
       "      <th>nr.employed</th>\n",
       "      <th>y</th>\n",
       "    </tr>\n",
       "  </thead>\n",
       "  <tbody>\n",
       "    <tr>\n",
       "      <th>0</th>\n",
       "      <td>56</td>\n",
       "      <td>housemaid</td>\n",
       "      <td>married</td>\n",
       "      <td>basic.4y</td>\n",
       "      <td>no</td>\n",
       "      <td>no</td>\n",
       "      <td>no</td>\n",
       "      <td>telephone</td>\n",
       "      <td>may</td>\n",
       "      <td>mon</td>\n",
       "      <td>261</td>\n",
       "      <td>1</td>\n",
       "      <td>999</td>\n",
       "      <td>0</td>\n",
       "      <td>nonexistent</td>\n",
       "      <td>1.1</td>\n",
       "      <td>93.994</td>\n",
       "      <td>-36.4</td>\n",
       "      <td>4.857</td>\n",
       "      <td>5191.0</td>\n",
       "      <td>no</td>\n",
       "    </tr>\n",
       "    <tr>\n",
       "      <th>1</th>\n",
       "      <td>57</td>\n",
       "      <td>services</td>\n",
       "      <td>married</td>\n",
       "      <td>high.school</td>\n",
       "      <td>unknown</td>\n",
       "      <td>no</td>\n",
       "      <td>no</td>\n",
       "      <td>telephone</td>\n",
       "      <td>may</td>\n",
       "      <td>mon</td>\n",
       "      <td>149</td>\n",
       "      <td>1</td>\n",
       "      <td>999</td>\n",
       "      <td>0</td>\n",
       "      <td>nonexistent</td>\n",
       "      <td>1.1</td>\n",
       "      <td>93.994</td>\n",
       "      <td>-36.4</td>\n",
       "      <td>4.857</td>\n",
       "      <td>5191.0</td>\n",
       "      <td>no</td>\n",
       "    </tr>\n",
       "    <tr>\n",
       "      <th>2</th>\n",
       "      <td>37</td>\n",
       "      <td>services</td>\n",
       "      <td>married</td>\n",
       "      <td>high.school</td>\n",
       "      <td>no</td>\n",
       "      <td>yes</td>\n",
       "      <td>no</td>\n",
       "      <td>telephone</td>\n",
       "      <td>may</td>\n",
       "      <td>mon</td>\n",
       "      <td>226</td>\n",
       "      <td>1</td>\n",
       "      <td>999</td>\n",
       "      <td>0</td>\n",
       "      <td>nonexistent</td>\n",
       "      <td>1.1</td>\n",
       "      <td>93.994</td>\n",
       "      <td>-36.4</td>\n",
       "      <td>4.857</td>\n",
       "      <td>5191.0</td>\n",
       "      <td>no</td>\n",
       "    </tr>\n",
       "    <tr>\n",
       "      <th>3</th>\n",
       "      <td>40</td>\n",
       "      <td>admin.</td>\n",
       "      <td>married</td>\n",
       "      <td>basic.6y</td>\n",
       "      <td>no</td>\n",
       "      <td>no</td>\n",
       "      <td>no</td>\n",
       "      <td>telephone</td>\n",
       "      <td>may</td>\n",
       "      <td>mon</td>\n",
       "      <td>151</td>\n",
       "      <td>1</td>\n",
       "      <td>999</td>\n",
       "      <td>0</td>\n",
       "      <td>nonexistent</td>\n",
       "      <td>1.1</td>\n",
       "      <td>93.994</td>\n",
       "      <td>-36.4</td>\n",
       "      <td>4.857</td>\n",
       "      <td>5191.0</td>\n",
       "      <td>no</td>\n",
       "    </tr>\n",
       "    <tr>\n",
       "      <th>4</th>\n",
       "      <td>56</td>\n",
       "      <td>services</td>\n",
       "      <td>married</td>\n",
       "      <td>high.school</td>\n",
       "      <td>no</td>\n",
       "      <td>no</td>\n",
       "      <td>yes</td>\n",
       "      <td>telephone</td>\n",
       "      <td>may</td>\n",
       "      <td>mon</td>\n",
       "      <td>307</td>\n",
       "      <td>1</td>\n",
       "      <td>999</td>\n",
       "      <td>0</td>\n",
       "      <td>nonexistent</td>\n",
       "      <td>1.1</td>\n",
       "      <td>93.994</td>\n",
       "      <td>-36.4</td>\n",
       "      <td>4.857</td>\n",
       "      <td>5191.0</td>\n",
       "      <td>no</td>\n",
       "    </tr>\n",
       "  </tbody>\n",
       "</table>\n",
       "</div>"
      ],
      "text/plain": [
       "   age        job  marital    education  default housing loan    contact  \\\n",
       "0   56  housemaid  married     basic.4y       no      no   no  telephone   \n",
       "1   57   services  married  high.school  unknown      no   no  telephone   \n",
       "2   37   services  married  high.school       no     yes   no  telephone   \n",
       "3   40     admin.  married     basic.6y       no      no   no  telephone   \n",
       "4   56   services  married  high.school       no      no  yes  telephone   \n",
       "\n",
       "  month day_of_week  duration  campaign  pdays  previous     poutcome  \\\n",
       "0   may         mon       261         1    999         0  nonexistent   \n",
       "1   may         mon       149         1    999         0  nonexistent   \n",
       "2   may         mon       226         1    999         0  nonexistent   \n",
       "3   may         mon       151         1    999         0  nonexistent   \n",
       "4   may         mon       307         1    999         0  nonexistent   \n",
       "\n",
       "   emp.var.rate  cons.price.idx  cons.conf.idx  euribor3m  nr.employed   y  \n",
       "0           1.1          93.994          -36.4      4.857       5191.0  no  \n",
       "1           1.1          93.994          -36.4      4.857       5191.0  no  \n",
       "2           1.1          93.994          -36.4      4.857       5191.0  no  \n",
       "3           1.1          93.994          -36.4      4.857       5191.0  no  \n",
       "4           1.1          93.994          -36.4      4.857       5191.0  no  "
      ]
     },
     "execution_count": 30,
     "metadata": {},
     "output_type": "execute_result"
    }
   ],
   "source": [
    "df.head()"
   ]
  },
  {
   "cell_type": "markdown",
   "metadata": {
    "id": "2lG1PdrssVtD"
   },
   "source": [
    "__Задание 3 (0.5 балла).__ Разделите выборку на обучающую и тестовую в соотношении 3:1. Зафиксируйте `random_state=777`, также используйте `stratify`. Один из столбцов в данных не несет информации для решения задачи — какой? Отбросьте его. \n",
    "\n"
   ]
  },
  {
   "cell_type": "code",
   "execution_count": 31,
   "metadata": {
    "id": "wCJ8wYBEbRAO"
   },
   "outputs": [],
   "source": [
    "def TrainTestSplit(X, y):\n",
    "    return train_test_split(X, y, test_size=0.25, random_state=777)"
   ]
  },
  {
   "cell_type": "code",
   "execution_count": 32,
   "metadata": {
    "id": "XHaYYo0o__lg"
   },
   "outputs": [],
   "source": [
    "X = df.drop(columns=['duration', 'y'])\n",
    "df['target'] = 0\n",
    "df.loc[df['y'] == 'yes', 'target'] = 1\n",
    "y = df['target']\n",
    "X_train, X_test, y_train, y_test = TrainTestSplit(X, y)"
   ]
  },
  {
   "cell_type": "markdown",
   "metadata": {
    "id": "dO0uIR4fsVtD"
   },
   "source": [
    "Закодируйте категориальные признаки с помощью `OrdinalEncoder`. Посчитайте качество (в этом задании будем работать c `AUC-PR`) при применении логистической регрессии. Замерьте время, потребовавшееся на обучение модели (с учетом кодирования признаков).\n",
    "\n",
    "__Вопрос__: почему в данном задании мы выбрали метрикой именно `AUC-PR`, а не, к примеру, `AUC-ROC`?\n",
    "\n",
    "__Ваш ответ__:"
   ]
  },
  {
   "cell_type": "code",
   "execution_count": 33,
   "metadata": {
    "id": "rnWv4rV3bsZG"
   },
   "outputs": [],
   "source": [
    "data_config = {\n",
    "    'numeric': set(['age', 'campaign', 'pdays', 'previous', 'emp.var.rate',\n",
    "                'emp.var.rate', 'cons.price.idx', 'cons.conf.idx', 'euribor3m',\n",
    "                'nr.employed']),\n",
    "    'categorical': set(['job', 'marital', 'education', 'default', 'housing',\n",
    "                   'loan', 'contact', 'month', 'day_of_week', 'poutcome']),\n",
    "}"
   ]
  },
  {
   "cell_type": "code",
   "execution_count": 34,
   "metadata": {
    "id": "QqMy5p6xoyD2"
   },
   "outputs": [],
   "source": [
    "def lr_with_endcoder(enc, df, y, range_):\n",
    "    X = df.drop(columns=['duration', 'y'])\n",
    "    \n",
    "    start = time.time()\n",
    "\n",
    "    X_train, X_test, y_train, y_test = TrainTestSplit(X, y)\n",
    "\n",
    "    enc.fit(X_train[data_config['categorical']])\n",
    "    X_cat = enc.transform(X[data_config['categorical']])\n",
    "    scaler = StandardScaler().fit(X_train[data_config['numeric']])\n",
    "    X_num = scaler.transform(X[data_config['numeric']])\n",
    "    X = np.append(X_cat, X_num, axis=1)\n",
    "    \n",
    "    X_train, X_test, y_train, y_test = TrainTestSplit(X, y)\n",
    "\n",
    "    lr = LogisticRegression(max_iter=10000).fit(X_train, y_train)\n",
    "    lr_pred = lr.predict_proba(X_test)[:, 1]\n",
    "\n",
    "    end = time.time()\n",
    "    return (end - start) / range_, metrics.average_precision_score(y_test, lr_pred)"
   ]
  },
  {
   "cell_type": "code",
   "execution_count": 35,
   "metadata": {
    "colab": {
     "base_uri": "https://localhost:8080/"
    },
    "id": "D_dyYDH7sVtD",
    "outputId": "24d1fc1d-f71b-4701-c50f-7a5d76ff5a8a"
   },
   "outputs": [
    {
     "name": "stdout",
     "output_type": "stream",
     "text": [
      "auc-pr: 0.444635499526789\n",
      "Time taken: 0.848s\n"
     ]
    }
   ],
   "source": [
    "from sklearn.preprocessing import OrdinalEncoder\n",
    "import time\n",
    "time_taken = 0\n",
    "range_ = 10\n",
    "for _ in range(range_):\n",
    "    time_for_1, auc_pr = lr_with_endcoder(OrdinalEncoder(), df, y, range_)\n",
    "    time_taken += time_for_1 \n",
    "print('auc-pr:', auc_pr)\n",
    "print('Time taken: ', \"{:.3f}\".format(time_taken), 's', sep='')"
   ]
  },
  {
   "cell_type": "markdown",
   "metadata": {
    "id": "EyzjlvylsVtD"
   },
   "source": [
    "__Задание 4 (0.5 балла).__ Закодируйте все категориальные признаки с помощью one-hot-кодирования. Обучите логистическую регрессию и посмотрите, как изменилось качество модели (с тем, что было до кодирования). Измерьте время, потребовавшееся на кодирование категориальных признаков и обучение модели.\n",
    "\n"
   ]
  },
  {
   "cell_type": "code",
   "execution_count": 36,
   "metadata": {
    "colab": {
     "base_uri": "https://localhost:8080/"
    },
    "id": "VBak_07JsVtD",
    "outputId": "87edb053-1120-47d4-d386-5533a278eeeb"
   },
   "outputs": [
    {
     "name": "stdout",
     "output_type": "stream",
     "text": [
      "auc-pr: 0.46186219186849026\n",
      "Time taken: 2.208s\n"
     ]
    }
   ],
   "source": [
    "from sklearn.preprocessing import OneHotEncoder\n",
    "\n",
    "time_taken = 0\n",
    "range_ = 10\n",
    "for _ in range(range_):\n",
    "    time_for_1, auc_pr = lr_with_endcoder(OneHotEncoder(sparse=False), df, y, range_)\n",
    "    time_taken += time_for_1\n",
    "\n",
    "print('auc-pr:', auc_pr)\n",
    "print('Time taken: ', \"{:.3f}\".format(time_taken), 's', sep='')"
   ]
  },
  {
   "cell_type": "markdown",
   "metadata": {
    "id": "X1T6W6LbsVtD"
   },
   "source": [
    "Как можно было заменить, one-hot-кодирование может сильно увеличивать количество признаков, что сказывается на памяти, особенно, если некоторый признак имеет большое количество значений. Эту проблему решает другой способ кодирования категориальных признаков — mean-target encoding (для простоты будем называть это счётчиками). Основная идея в том, что нам важны не сами категории, а значения целевой переменной, которые имеют объекты этой категории. Каждый категориальный признак мы заменим средним значением целевой переменной по всем объектам этой же категории:\n",
    "$$\n",
    "g_j(x, X) = \\frac{\\sum_{i=1}^{l} [f_j(x) = f_j(x_i)][y_i = +1]}{\\sum_{i=1}^{l} [f_j(x) = f_j(x_i)]}\n",
    "$$\n",
    "\n",
    "__Задание 5 (1 балл).__ Закодируйте категориальные переменные с помощью счётчиков (ровно так, как описано выше без каких-либо хитростей). Обучите логистическую регрессию и посмотрите на качество модели на тестовом множестве. Сравните время обучения с предыдущими экспериментами (с учетом кодирования признаков). Заметили ли вы что-то интересное?\n",
    "\n",
    "\n",
    "__Бонус (1 балл)__: Здесь и далее реализуйте вычисление счетчиков с помощью трансформера (наследуйтесь от классов `BaseEstimator, TransformerMixin` из `sklearn.base`). Обратите внимание, что все вычисления должны быть векторизованными, трансформер не должен модифицировать передаваемую ему выборку inplace, а все необходимые статистики нужно считать только по обучающей выборке в методе `fit`. Ваш трансформер должен принимать при инициализации список из категориальных признаков и изменять только их. \n"
   ]
  },
  {
   "cell_type": "code",
   "execution_count": 37,
   "metadata": {
    "id": "JMOuCFwXsVtE"
   },
   "outputs": [],
   "source": [
    "from sklearn.base import BaseEstimator, TransformerMixin\n",
    "\n",
    "class MeanTargetEncoding(BaseEstimator, TransformerMixin):\n",
    "    def __init__(self):\n",
    "        self.values_instead_ = dict()\n",
    "\n",
    "    def mean_target_encoding(self, X, y):\n",
    "        denominator = X.value_counts()\n",
    "        numerators = X[y == 1].value_counts()\n",
    "        res = dict()\n",
    "        for value in denominator.keys():\n",
    "            if not value in numerators.keys():\n",
    "                numerators[value] = 0\n",
    "\n",
    "            res.update({value: (numerators[value] / denominator[value])})\n",
    "\n",
    "        return res\n",
    "\n",
    "    def fit(self, X, y):\n",
    "        X_res = pd.DataFrame(np.zeros(X.shape[0]))\n",
    "        for col in X.columns:\n",
    "            self.values_instead_.update(\n",
    "                {col: self.mean_target_encoding(X[col], y)})\n",
    "\n",
    "        return self\n",
    "\n",
    "    def transform(self, X):\n",
    "        res = X.copy()\n",
    "        for i, col in enumerate(X.columns):\n",
    "            res.loc[:, col] = 0\n",
    "            for val in self.values_instead_[col]:\n",
    "                res.loc[X[col] == val, col] = self.values_instead_[col][val]\n",
    "            \n",
    "\n",
    "        return res"
   ]
  },
  {
   "cell_type": "code",
   "execution_count": 38,
   "metadata": {
    "id": "ADJwI7tYhHVC"
   },
   "outputs": [],
   "source": [
    "def Normalize(X_train, X_test):\n",
    "    scaler = StandardScaler().fit(X_train)\n",
    "    return scaler.transform(X_train), scaler.transform(X_test)\n",
    "\n",
    "def PrepareData(X, y, mte=MeanTargetEncoding()):\n",
    "    X_train, X_test, y_train, y_test = TrainTestSplit(X, y)\n",
    "\n",
    "    X_cat_train = mte.fit_transform(X_train[data_config['categorical']], y_train)\n",
    "    X_cat_test = mte.transform(X_test[data_config['categorical']])\n",
    "    X_num_train, X_num_test = Normalize(X_train[data_config['numeric']], X_test[data_config['numeric']])\n",
    "    return np.append(X_cat_train, X_num_train, axis=1), np.append(X_cat_test, X_num_test, axis=1), y_train, y_test"
   ]
  },
  {
   "cell_type": "code",
   "execution_count": 39,
   "metadata": {
    "colab": {
     "base_uri": "https://localhost:8080/"
    },
    "id": "0psqA6uqJAsk",
    "outputId": "2783a35a-0682-4554-9660-ef7938edb4eb"
   },
   "outputs": [
    {
     "name": "stdout",
     "output_type": "stream",
     "text": [
      "auc-pr 0.4483064980757566\n"
     ]
    }
   ],
   "source": [
    "X_train, X_test, y_train, y_test = PrepareData(X, y)\n",
    "\n",
    "lr = LogisticRegression(max_iter=10000).fit(X_train, y_train)\n",
    "lr_pred = lr.predict_proba(X_test)[:, 1]\n",
    "\n",
    "print('auc-pr', metrics.average_precision_score(y_test, lr_pred))"
   ]
  },
  {
   "cell_type": "markdown",
   "metadata": {
    "id": "OxOlzoH0sVtE"
   },
   "source": [
    "Отметим, что такие признаки сами по себе являются классификаторами и, обучаясь  на них, мы допускаем \"утечку\" целевой переменной в признаки. Это ведёт к переобучению, поэтому считать такие признаки необходимо таким образом, чтобы при вычислении для конкретного объекта его целевая метка не использовалась. Это можно делать следующими способами:\n",
    "1. Вычислять значение счётчика по всем объектам расположенным выше в датасете (например, если у нас выборка отсортирована по времени).\n",
    "2. Вычислять по фолдам, то есть делить выборку на некоторое количество частей и подсчитывать значение признаков по всем фолдам кроме текущего (как делается в кросс-валидации).\n",
    "3. Внесение некоторого шума в посчитанные признаки. \n",
    "\n",
    "__Задание 6.__ Реализуйте корректное вычисление счётчиков самым простым способом — добавление шума к значениям (постарайтесь найти баланс между борьбой с переобучением и сохранением полезности признаков). Снова обучите логистическую регрессию, оцените качество. Сделайте выводы.\n",
    "\n",
    "__(0.5 балла)__"
   ]
  },
  {
   "cell_type": "code",
   "execution_count": 40,
   "metadata": {
    "id": "Lqrlktn2XO6i"
   },
   "outputs": [],
   "source": [
    "def MakeSomeNoize(y, percentage=7):\n",
    "    z = np.random.randint(0, 1000, y.shape)\n",
    "    a = y.copy()\n",
    "    a[z < percentage] = 1 - y[z < percentage]\n",
    "    return a"
   ]
  },
  {
   "cell_type": "code",
   "execution_count": 41,
   "metadata": {
    "colab": {
     "base_uri": "https://localhost:8080/"
    },
    "id": "j-5_Kc3ksVtE",
    "outputId": "e6ce21ff-a040-4fe8-d973-2c3bc3db1ff9"
   },
   "outputs": [
    {
     "name": "stdout",
     "output_type": "stream",
     "text": [
      "auc-pr for p = 1: 0.44817256671066086\n",
      "0.08436303786301169\n",
      "auc-pr for p = 2: 0.44866052620752483\n",
      "0.08434478010298323\n",
      "auc-pr for p = 5: 0.44760169375009795\n",
      "0.08434666782109301\n",
      "auc-pr for p = 7: 0.4478919725044419\n",
      "0.08436270718040959\n",
      "auc-pr for p = 10: 0.44764189695264567\n",
      "0.08434679552096169\n",
      "auc-pr for p = 20: 0.4478847619666595\n",
      "0.08445222179694964\n",
      "auc-pr for p = 50: 0.4470533228564265\n",
      "0.08562074508871967\n"
     ]
    }
   ],
   "source": [
    "for p in [1, 2, 5, 7, 10, 20, 50]:\n",
    "    X_train, X_test, y_train, y_test = PrepareData(X, y)\n",
    "    y_train = MakeSomeNoize(y_train, p)\n",
    "\n",
    "    lr = LogisticRegression(max_iter=10000).fit(X_train, y_train)\n",
    "    lr_pred = lr.predict_proba(X_test)[:, 1]\n",
    "    \n",
    "    print('auc-pr for p = ', p, ': ', metrics.average_precision_score(y_test, lr_pred), sep='')\n",
    "    print(mean_squared_error(lr_pred, y_test))"
   ]
  },
  {
   "cell_type": "markdown",
   "metadata": {
    "id": "0OMAz_aTsVtE"
   },
   "source": [
    "__(Бонусная часть, 0.5 балла)__ Посчитайте корректные счётчики первым или вторым способов из описанных выше (не забудьте добавить и шум). \n",
    "\n"
   ]
  },
  {
   "cell_type": "code",
   "execution_count": 42,
   "metadata": {
    "id": "Bidt2TLulhZQ"
   },
   "outputs": [],
   "source": [
    "def PrepareDataV2(X, y, mte=MeanTargetEncoding()):\n",
    "    X_train, X_test, y_train, y_test = TrainTestSplit(X, y)\n",
    "    X_train, X_val, y_train, y_val = train_test_split(X_train, y_train, test_size=0.25, random_state=777)\n",
    "    y_val = MakeSomeNoize(y_val)\n",
    "\n",
    "    X_cat_train = mte.fit(X_val[data_config['categorical']], y_val).transform(X_train[data_config['categorical']])\n",
    "    X_cat_test = mte.transform(X_test[data_config['categorical']])\n",
    "    X_num_train, X_num_test = Normalize(X_train[data_config['numeric']], X_test[data_config['numeric']])\n",
    "    return np.append(X_cat_train, X_num_train, axis=1), np.append(X_cat_test, X_num_test, axis=1), y_train, y_test"
   ]
  },
  {
   "cell_type": "code",
   "execution_count": 43,
   "metadata": {
    "colab": {
     "base_uri": "https://localhost:8080/"
    },
    "id": "3X1JvErDsVtE",
    "outputId": "2dd0122d-645d-444e-9815-09e2e020b17d"
   },
   "outputs": [
    {
     "name": "stdout",
     "output_type": "stream",
     "text": [
      "auc-pr for p = 50: 0.4436237730092504\n",
      "0.08470008292742098\n"
     ]
    }
   ],
   "source": [
    "X_train, X_test, y_train, y_test = PrepareDataV2(X, y)\n",
    "\n",
    "lr = LogisticRegression(max_iter=10000).fit(X_train, y_train)\n",
    "lr_pred = lr.predict_proba(X_test)[:, 1]\n",
    "\n",
    "print('auc-pr for p = ', p, ': ', average_precision_score(y_test, lr_pred), sep='')\n",
    "print(mean_squared_error(lr_pred, y_test))"
   ]
  },
  {
   "cell_type": "markdown",
   "metadata": {
    "id": "p8B2EFfzsVtF"
   },
   "source": [
    "А теперь ответьте на следующий вопрос: что будет, если некоторая категория встречается в выборке всего несколько раз? По этой причине производится сглаживание счётчиков. Например, на практике хорошие результаты показывает использование сглаживания средним по всей выборке:\n",
    "$$\n",
    "g_j(x, X) = \\frac{\\sum_{i=1}^{\\ell} [f_j(x) = f_j(x_i)][y_i = +1] + C \\times global\\_mean}{\\sum_{i=1}^{\\ell} [f_j(x) = f_j(x_i)] + C}\n",
    "$$\n",
    "где $global\\_mean$ — доля объектов положительного класса в выборке, $C$ — параметр, определяющий степень сглаживания (например, можно использовать 10 или подобрать для каждого признака свой). Основная идея в том, что мы \"разбавляем\" среднее значение по некоторой категории глобальным средним значением. И тем меньше, чем большее количество объектов этой категории встречается в выборке. \n",
    "\n",
    "Однако для сглаживания вместо среднего значения целевой переменной можно использовать любое другое значение от 0 до 1 (этот параметр иногда называют $prior$). Можно сделать несколько признаков с разными значениями параметра. На практике в задачах бинарной классификации полезными бывают даже отрицательные значения!\n"
   ]
  },
  {
   "cell_type": "markdown",
   "metadata": {
    "id": "2K-kmfR4sVtF"
   },
   "source": [
    "__Задание 7 (1 балл).__ Добавьте сглаживание, описанное выше и повторите эксперименты."
   ]
  },
  {
   "cell_type": "code",
   "execution_count": 44,
   "metadata": {
    "id": "WioT4kpGsVtF"
   },
   "outputs": [],
   "source": [
    "class SmoothTargetEncoding(MeanTargetEncoding):\n",
    "    def __init__(self, C=0.1):\n",
    "        self.C = 0.1\n",
    "        self.values_instead_ = dict()\n",
    "\n",
    "    def mean_target_encoding(self, X, y):\n",
    "        denominator = X.value_counts()\n",
    "        numerators = X[y == 1].value_counts()\n",
    "        res = dict()\n",
    "        for value in denominator.keys():\n",
    "            if not value in numerators.keys():\n",
    "                numerators[value] = 0\n",
    "\n",
    "            res.update({value: ((numerators[value] + self.C + y.mean()) / (denominator[value] + self.C))})\n",
    "\n",
    "        return res"
   ]
  },
  {
   "cell_type": "code",
   "execution_count": 45,
   "metadata": {
    "colab": {
     "base_uri": "https://localhost:8080/"
    },
    "id": "30GV7rDyq5QX",
    "outputId": "190859fb-365e-4213-c1b3-c03b74ca8d32"
   },
   "outputs": [
    {
     "name": "stdout",
     "output_type": "stream",
     "text": [
      "auc-pr 0.44825591187827635\n"
     ]
    }
   ],
   "source": [
    "X_train, X_test, y_train, y_test = PrepareData(X, y, SmoothTargetEncoding())\n",
    "\n",
    "lr = LogisticRegression(max_iter=10000).fit(X_train, y_train)\n",
    "lr_pred = lr.predict_proba(X_test)[:, 1]\n",
    "\n",
    "print('auc-pr', average_precision_score(y_test, lr_pred))"
   ]
  },
  {
   "cell_type": "code",
   "execution_count": 46,
   "metadata": {
    "colab": {
     "base_uri": "https://localhost:8080/"
    },
    "id": "dQX1qfOjq1YH",
    "outputId": "1b49144a-8df2-4732-9b1a-99e4ede35ddd"
   },
   "outputs": [
    {
     "name": "stdout",
     "output_type": "stream",
     "text": [
      "auc-pr for p = 1: 0.44815165364754467\n",
      "0.08436494828078386\n",
      "auc-pr for p = 2: 0.44814425415452597\n",
      "0.08436743736582088\n",
      "auc-pr for p = 5: 0.4486941950465522\n",
      "0.08433882950295586\n",
      "auc-pr for p = 7: 0.44849261891126313\n",
      "0.08432888450477002\n",
      "auc-pr for p = 10: 0.4484003376219261\n",
      "0.08435501793632284\n",
      "auc-pr for p = 20: 0.44803227063231416\n",
      "0.08449430454146308\n",
      "auc-pr for p = 50: 0.4475422904481764\n",
      "0.08568664380892863\n"
     ]
    }
   ],
   "source": [
    "for p in [1, 2, 5, 7, 10, 20, 50]:\n",
    "    X_train, X_test, y_train, y_test = PrepareData(X, y, SmoothTargetEncoding())\n",
    "    y_train = MakeSomeNoize(y_train, p)\n",
    "\n",
    "    lr = LogisticRegression(max_iter=10000).fit(X_train, y_train)\n",
    "    lr_pred = lr.predict_proba(X_test)[:, 1]\n",
    "    \n",
    "    print('auc-pr for p = ', p, ': ', average_precision_score(y_test, lr_pred), sep='')\n",
    "    print(mean_squared_error(lr_pred, y_test))"
   ]
  },
  {
   "cell_type": "code",
   "execution_count": 47,
   "metadata": {
    "colab": {
     "base_uri": "https://localhost:8080/"
    },
    "id": "xGdKc1ULqTsP",
    "outputId": "dd0ef51b-d732-4ac8-98da-94e395f4b353"
   },
   "outputs": [
    {
     "name": "stdout",
     "output_type": "stream",
     "text": [
      "auc-pr for p = 50: 0.44410824245623787\n",
      "0.08469235018832684\n"
     ]
    }
   ],
   "source": [
    "X_train, X_test, y_train, y_test = PrepareDataV2(X, y, SmoothTargetEncoding())\n",
    "\n",
    "lr = LogisticRegression(max_iter=10000).fit(X_train, y_train)\n",
    "lr_pred = lr.predict_proba(X_test)[:, 1]\n",
    "\n",
    "print('auc-pr for p = ', p, ': ', average_precision_score(y_test, lr_pred), sep='')\n",
    "print(mean_squared_error(lr_pred, y_test))"
   ]
  },
  {
   "cell_type": "markdown",
   "metadata": {
    "id": "usFfWLodsVtF"
   },
   "source": [
    "__Задание 8 (0.5 балла).__ В данных имеется признак \"возраст клиента\". Сейчас мы интерпретируем его как числовой, что в общем случае для линейной модели может быть неверной гипотезой. Тем не менее, у этого признака есть довольно много уникальных значений (сколько?), поэтому применять к нему one-hot кодирование может оказаться излишним. Попробуйте закодировать возраст с помощью счетчиков. Стало ли лучше? Шо то, шо то, где это ваше переобучение то. Или мы это про ~1e-3\n",
    "\n"
   ]
  },
  {
   "cell_type": "code",
   "execution_count": 48,
   "metadata": {
    "colab": {
     "base_uri": "https://localhost:8080/"
    },
    "id": "x8at5O6UuS4i",
    "outputId": "d417ff34-c8cb-4e1b-f10c-40450dac2925"
   },
   "outputs": [
    {
     "data": {
      "text/plain": [
       "78"
      ]
     },
     "execution_count": 48,
     "metadata": {},
     "output_type": "execute_result"
    }
   ],
   "source": [
    "X['age'].value_counts().shape[0]"
   ]
  },
  {
   "cell_type": "code",
   "execution_count": 49,
   "metadata": {
    "id": "eO7OUNSasVtF"
   },
   "outputs": [],
   "source": [
    "data_config['categorical'].add('age')\n",
    "data_config['numeric'].remove('age')"
   ]
  },
  {
   "cell_type": "code",
   "execution_count": 50,
   "metadata": {
    "colab": {
     "base_uri": "https://localhost:8080/"
    },
    "id": "BON5miKrtn9C",
    "outputId": "b37ff7f3-c588-4c1f-9bc7-6aaae2ead37c"
   },
   "outputs": [
    {
     "name": "stdout",
     "output_type": "stream",
     "text": [
      "auc-pr for p = 50: 0.4437946850800899\n",
      "0.08462444293222394\n"
     ]
    }
   ],
   "source": [
    "X_train, X_test, y_train, y_test = PrepareDataV2(X, y, SmoothTargetEncoding())\n",
    "\n",
    "lr = LogisticRegression(max_iter=10000).fit(X_train, y_train)\n",
    "lr_pred = lr.predict_proba(X_test)[:, 1]\n",
    "\n",
    "print('auc-pr for p = ', p, ': ', average_precision_score(y_test, lr_pred), sep='')\n",
    "print(mean_squared_error(lr_pred, y_test))"
   ]
  },
  {
   "cell_type": "markdown",
   "metadata": {
    "id": "DLfGT0TOsVtF"
   },
   "source": [
    "Можно пойти и в обратную сторону. У нас есть признаки \"месяц и день недели\" для звонка. Попробуйте интерпретировать их как числовые (месяц от 0 до 12, дни недели от 0 до 4). Стало ли лучше в этот раз? Ожидаемо хуже"
   ]
  },
  {
   "cell_type": "code",
   "execution_count": 51,
   "metadata": {
    "id": "priE2tAywLxi"
   },
   "outputs": [],
   "source": [
    "config_cat_to_num = {'month': ['jan', 'feb', 'mar', 'apr', 'may', 'jun', 'jul',\n",
    "                               'aug', 'sep', 'oct', 'nov', 'dec'],\n",
    "                     'day_of_week': ['mon', 'tue', 'wed', 'thu', 'fri']}"
   ]
  },
  {
   "cell_type": "code",
   "execution_count": 52,
   "metadata": {
    "id": "7Ar9235VsVtF"
   },
   "outputs": [],
   "source": [
    "for col in ['month', 'day_of_week']:\n",
    "    for i, val in enumerate(config_cat_to_num[col]):\n",
    "        X.loc[X[col] == val, col] = i"
   ]
  },
  {
   "cell_type": "code",
   "execution_count": 53,
   "metadata": {
    "colab": {
     "base_uri": "https://localhost:8080/"
    },
    "id": "I7ts9OxSxIG3",
    "outputId": "19d0ff3b-53ef-4381-e784-00407430ecc9"
   },
   "outputs": [
    {
     "name": "stdout",
     "output_type": "stream",
     "text": [
      "auc-pr for p = 50: 0.443615474918857\n",
      "0.08462351587414631\n"
     ]
    }
   ],
   "source": [
    "X_train, X_test, y_train, y_test = PrepareDataV2(X, y, SmoothTargetEncoding())\n",
    "\n",
    "lr = LogisticRegression(max_iter=10000).fit(X_train, y_train)\n",
    "lr_pred = lr.predict_proba(X_test)[:, 1]\n",
    "\n",
    "print('auc-pr for p = ', p, ': ', average_precision_score(y_test, lr_pred), sep='')\n",
    "print(mean_squared_error(lr_pred, y_test))"
   ]
  },
  {
   "cell_type": "markdown",
   "metadata": {
    "id": "1rpD_SOusVtG"
   },
   "source": [
    "__Замечание.__ Усложнение методов вычисления счётчиков не делают результаты модели гарантированно лучше. Особенно с учётом того, что логистическая регрессия не такая сложная модель, чтобы переобучаться. Поэтому вы необязательно должны были получать на каждом шаге всё лучшие и лучшие результаты (но необходимые результаты у вас должны были получиться).\n",
    "\n",
    "Как вы должны были заметить, счётчики являются хорошей альтернативой one-hot-кодированию. Напишите, какие плюсы и минусы использования счётчиков по сравнению с one-hot-кодированием вы заметили.\n",
    "\n",
    "__Ответ:__ скорость, уменьшение переобучения"
   ]
  },
  {
   "cell_type": "markdown",
   "metadata": {
    "id": "d5a6xZXesVtG"
   },
   "source": [
    "# Часть 2. Отбор признаков"
   ]
  },
  {
   "cell_type": "markdown",
   "metadata": {
    "id": "ba0cmjrgsVtG"
   },
   "source": [
    "Важной частью процесса построения модели является отбор признаков. На практике многие признаки оказывают малое влияние на модель (при этом их расчёт занимает время) или даже негативно сказываются на качестве модели. Попробуем несколько подходов отбора признаков, оценим, как они влияют на качество модели и сколько времени занимают.\n",
    "\n",
    "Обратимся к тем же данным про банковский телефонный маркетинг."
   ]
  },
  {
   "cell_type": "code",
   "execution_count": 54,
   "metadata": {
    "id": "V8K8EbWvsVtG"
   },
   "outputs": [],
   "source": [
    "# df = pd.read_csv('bank-additional/bank-additional-full.csv', sep=';') # не изменял\n",
    "\n",
    "\n",
    "# Чтобы перед глазами было\n",
    "data_config = {\n",
    "    'numeric': set(['age', 'campaign', 'pdays', 'previous', 'emp.var.rate',\n",
    "                'emp.var.rate', 'cons.price.idx', 'cons.conf.idx', 'euribor3m',\n",
    "                'nr.employed']),\n",
    "    'categorical': set(['job', 'marital', 'education', 'default', 'housing',\n",
    "                   'loan', 'contact', 'month', 'day_of_week', 'poutcome']),\n",
    "}\n",
    "\n",
    "\n",
    "df['target'] = 0\n",
    "df.loc[df['y'] == 'yes', 'target'] = 1\n",
    "y = df['target']\n",
    "\n",
    "X_train, X_test, y_train, y_test = train_test_split(X, y, test_size=0.2, random_state=777, stratify=y)"
   ]
  },
  {
   "cell_type": "markdown",
   "metadata": {
    "id": "6B1LY1KAsVtG"
   },
   "source": [
    "Как вы помните, в данных много категориальных признаков (сейчас давайте интерпретировать возраст как числовой). Давайте закодируем их с помощью one-hot кодирования. Исходные колонки с категориальными признаками можно удалить. Сколько признаков мы получили? Мы же уже это делали"
   ]
  },
  {
   "cell_type": "code",
   "execution_count": 55,
   "metadata": {
    "colab": {
     "base_uri": "https://localhost:8080/"
    },
    "id": "N3_YvdMNsVtG",
    "outputId": "72fa4415-2c0c-451e-893f-2d9832aed511"
   },
   "outputs": [
    {
     "data": {
      "text/plain": [
       "62"
      ]
     },
     "execution_count": 55,
     "metadata": {},
     "output_type": "execute_result"
    }
   ],
   "source": [
    "X = df.drop(columns=['duration', 'y'])\n",
    "X_cat = OneHotEncoder(sparse=False).fit_transform(X[data_config['categorical']])\n",
    "# scaler = StandardScaler().fit(X[data_config['numeric']])\n",
    "X_num = X[data_config['numeric']]\n",
    "X = np.append(X_cat, X_num, axis=1)\n",
    "X.shape[1]"
   ]
  },
  {
   "cell_type": "markdown",
   "metadata": {
    "id": "iw80FjL1sVtG"
   },
   "source": [
    "В качестве основной модели будем использовать логистическую регрессию, а целевой метрики — `AUC-PR`. Обучите модель и посчитайте качество на тестовой выборке. Давайте запомним полученное значение."
   ]
  },
  {
   "cell_type": "code",
   "execution_count": 56,
   "metadata": {
    "colab": {
     "base_uri": "https://localhost:8080/"
    },
    "id": "Is1sl5HdsVtH",
    "outputId": "26494a33-e081-4c56-f9b5-40e604941d9d"
   },
   "outputs": [
    {
     "name": "stdout",
     "output_type": "stream",
     "text": [
      "auc-pr: 0.44254067797020924\n"
     ]
    }
   ],
   "source": [
    "def TrainAndTest(X, y):\n",
    "    X_train, X_test, y_train, y_test = train_test_split(X, y, test_size=0.2, random_state=777, stratify=y)\n",
    "    lr = LogisticRegression(max_iter=10000).fit(X_train, y_train)\n",
    "    lr_pred = lr.predict_proba(X_test)[:, 1]\n",
    "\n",
    "    return metrics.average_precision_score(y_test, lr_pred)\n",
    "\n",
    "ohe_auc_pr = TrainAndTest(X, y)\n",
    "print('auc-pr:', ohe_auc_pr)"
   ]
  },
  {
   "cell_type": "markdown",
   "metadata": {
    "id": "L5-oiKOpsVtH"
   },
   "source": [
    "### Встроенные методы"
   ]
  },
  {
   "cell_type": "markdown",
   "metadata": {
    "id": "PDdojBq2sVtH"
   },
   "source": [
    "Допустим, мы хотим оставить только 40 лучших признаков. Попробуем сделать это несколькими способами.\n",
    "\n",
    "Начнём с отборам признаков с помощью линейной модели. Как известно, веса линейной модели означают вклад каждого признака в предсказание модели, а значит, модуль этого вклада можно интерпретировать как важность признаков. Такой метод отбора называются встроенным или embedded method, так как он заложен в особенности модели.\n",
    "\n",
    "__Задание 8 (0.5 балла).__ Оставьте 40 признаков с наибольшим модулем соответствующего параметра линейной модели. Обучите модели заново и оцените её качество. Замерьте скорость такого отбора признаков.\n",
    "\n",
    "Изменилось ли качество? Как?\n",
    "\n"
   ]
  },
  {
   "cell_type": "code",
   "execution_count": 57,
   "metadata": {
    "colab": {
     "base_uri": "https://localhost:8080/"
    },
    "id": "BbGwtphQsVtH",
    "outputId": "b92cab93-3923-4e8f-a777-a01ad94ac30f"
   },
   "outputs": [
    {
     "name": "stdout",
     "output_type": "stream",
     "text": [
      "Time taken: 0.092s; \n"
     ]
    }
   ],
   "source": [
    "from sklearn.linear_model import Ridge\n",
    "\n",
    "start = time.time()\n",
    "\n",
    "X_train, X_test, y_train, y_test = train_test_split(X, y, test_size=0.2, random_state=777, stratify=y)\n",
    "\n",
    "model = Ridge()\n",
    "model.fit(X_train, y_train)\n",
    "\n",
    "coefs_abs = np.absolute(model.coef_)\n",
    "features = np.argpartition(coefs_abs, -40)[-40:]\n",
    "\n",
    "end = time.time()\n",
    "print('Time taken: ', \"{:.3f}\".format(end - start), 's; ', sep='')"
   ]
  },
  {
   "cell_type": "code",
   "execution_count": 58,
   "metadata": {
    "colab": {
     "base_uri": "https://localhost:8080/"
    },
    "id": "xhlV2R1LrEoZ",
    "outputId": "62507807-dddd-44b9-ad46-b467097c24b9"
   },
   "outputs": [
    {
     "name": "stdout",
     "output_type": "stream",
     "text": [
      "auc-pr: 0.44257759536720526\n"
     ]
    }
   ],
   "source": [
    "print('auc-pr:', TrainAndTest(X[:, features], y))"
   ]
  },
  {
   "cell_type": "markdown",
   "metadata": {
    "id": "hOpCNUL9sVtH"
   },
   "source": [
    "А теперь давайте подумаем, что мы не учли. Мы предположили, что признаки вносят вклад равномерно, но не учли их масштаба. Если мы умножим один из признаков в 100 раз, то без учёта регуляризации его вес уменьшится в эти же 100 раз. А мы на основе этого отбираем признаки! Давайте сначала отмасштабируем признаки одним из способов, а только потом будем удалять признаки. А зачему я их везде маштабировал вообще?\n",
    "\n",
    "Кстати, в таком случае надо пересчитать качество на всех признаках (сделайте это ниже). Если вы сделали нормирование признаков в самом начале, то попробуйте отобрать признаки на неотмасштабированных данных.\n",
    "\n",
    "Что получилось?\n",
    "\n",
    "![Лучше](http://risovach.ru/upload/2014/02/mem/snikers_43772304_big_.jpeg)"
   ]
  },
  {
   "cell_type": "code",
   "execution_count": 59,
   "metadata": {
    "colab": {
     "base_uri": "https://localhost:8080/"
    },
    "id": "cmHSbiJosVtH",
    "outputId": "11c21889-940a-4092-f61d-34b990de417e"
   },
   "outputs": [
    {
     "name": "stdout",
     "output_type": "stream",
     "text": [
      "auc-pr: 0.44569402785353057\n"
     ]
    }
   ],
   "source": [
    "X = df.drop(columns=['duration', 'y'])\n",
    "X_cat = OneHotEncoder(sparse=False).fit_transform(X[data_config['categorical']])\n",
    "X_num = StandardScaler().fit_transform(X[data_config['numeric']])\n",
    "X = np.append(X_cat, X_num, axis=1)\n",
    "\n",
    "X_train, X_test, y_train, y_test = train_test_split(X, y, test_size=0.2, random_state=777, stratify=y)\n",
    "\n",
    "model = Ridge()\n",
    "model.fit(X_train, y_train)\n",
    "\n",
    "coefs_abs = np.absolute(model.coef_)\n",
    "features = np.argpartition(coefs_abs, -40)[-40:]\n",
    "\n",
    "print('auc-pr:', TrainAndTest(X[:, features], y))"
   ]
  },
  {
   "cell_type": "markdown",
   "metadata": {
    "id": "dmZMb6qcsVtI"
   },
   "source": [
    "Вопрос на засыпку: one-hot кодирование возвращает нам единичные признаки-индикаторы. Попробуйте также отскалировать их, как и обычные числовые, и снова выбрать 40 главных по вкладу признаков. Изменился ли их список? Изменится ли качество?\n",
    "![Терминатор](https://www.meme-arsenal.com/memes/592db3ba7484fc926827693df8784f75.jpg)"
   ]
  },
  {
   "cell_type": "code",
   "execution_count": 60,
   "metadata": {
    "colab": {
     "base_uri": "https://localhost:8080/"
    },
    "id": "q2qgk6VAsVtI",
    "outputId": "627e7dda-45ae-4a6c-82c3-05ecc1103006"
   },
   "outputs": [
    {
     "name": "stdout",
     "output_type": "stream",
     "text": [
      "auc-pr: 0.4475394098527781\n"
     ]
    }
   ],
   "source": [
    "X_cat = StandardScaler().fit_transform(X_cat)\n",
    "X = np.append(X_cat, X_num, axis=1)\n",
    "X.shape[1]\n",
    "\n",
    "X_train, X_test, y_train, y_test = train_test_split(X, y, test_size=0.2, random_state=777, stratify=y)\n",
    "\n",
    "model = Ridge()\n",
    "model.fit(X_train, y_train)\n",
    "\n",
    "coefs_abs = np.absolute(model.coef_)\n",
    "features = np.argpartition(coefs_abs, -40)[-40:]\n",
    "\n",
    "print('auc-pr:', TrainAndTest(X[:, features], y))"
   ]
  },
  {
   "cell_type": "markdown",
   "metadata": {
    "id": "MAqwY-I7sVtI"
   },
   "source": [
    "### Методы фильтрации\n",
    "\n",
    "\n",
    "Давайте отбирать признаки умнее, а именно через подсчёт некоторой функции для каждого признака. На основании значений этой функции будем оставлять наиболее важные признаки. Методы этого семейства называют фильтрующими или  filter methods. \n",
    "\n",
    "В качестве такой функции будем считать t-статистику:\n",
    "\n",
    "$$t(j) = \\frac{|\\mu_+ - \\mu_-|}{\\sqrt{\\frac{n_+ \\sigma^2_+ + n_- \\sigma^2_-}{n_+ + n_-}}},$$\n",
    "\n",
    "где $\\mu$, $\\sigma$, $n$ соответственно среднее, стандартное отклонение и количество объектов каждого из классов.\n",
    "\n",
    "__Задание 9 (0.5 балла).__ Оставьте 40 признаков с наибольшим значением $t$ и замерьте качество. Не забудьте замерить скорость отбора признаков в этом случае.\n",
    "\n"
   ]
  },
  {
   "cell_type": "code",
   "execution_count": 61,
   "metadata": {
    "id": "c57qoFfQsVtI"
   },
   "outputs": [],
   "source": [
    "def t_stat(X, y):\n",
    "    X_plus = X[y == 1]\n",
    "    X_minus = X[y == 0]\n",
    "    mu_plus = X_plus.mean()\n",
    "    mu_minus = X_minus.mean()\n",
    "    sigma_plus = X_plus.std()\n",
    "    sigma_minus = X_minus.std()\n",
    "    count_plus = X_plus.shape[0]\n",
    "    count_minus = X_minus.shape[0]\n",
    "\n",
    "    return np.absolute(mu_plus - mu_minus) / np.sqrt(\n",
    "        (sigma_plus ** 2 * count_plus + sigma_minus ** 2 * count_minus) / (\n",
    "            count_plus + count_minus))"
   ]
  },
  {
   "cell_type": "code",
   "execution_count": 62,
   "metadata": {
    "colab": {
     "base_uri": "https://localhost:8080/"
    },
    "id": "r73nQKlVz4US",
    "outputId": "bb227b75-809d-4bb0-a2ea-79bdc43d5085"
   },
   "outputs": [
    {
     "name": "stdout",
     "output_type": "stream",
     "text": [
      "Time taken: 0.118s; \n",
      "auc-pr: 0.4519894727216218\n"
     ]
    }
   ],
   "source": [
    "start = time.time()\n",
    "\n",
    "t_stats = np.array(t_stat(X[:, 0], y))\n",
    "for i in range(1, X.shape[1]):\n",
    "    t_stats = np.append(t_stats, t_stat(X[:, i], y))\n",
    "\n",
    "features = np.argpartition(t_stats, -40)[-40:]\n",
    "\n",
    "end = time.time()\n",
    "print('Time taken: ', \"{:.3f}\".format(end - start), 's; ', sep='')\n",
    "print('auc-pr:', TrainAndTest(X[:, features], y))"
   ]
  },
  {
   "cell_type": "markdown",
   "metadata": {
    "id": "iMrnwRejsVtI"
   },
   "source": [
    "### Методы-обёртки\n",
    "\n",
    "__Задание 10 (1 балл).__ \n",
    "\n",
    "Третий из рассматриваемых нами методов работает следующим образом: мы исключаем по очереди один из признаков и смотрим, как это влияет на качество. Удаляем признаки таким жадным способом, пока не окажется выполненым некоторое условие (количество признаков или ухудшение качества).\n",
    "\n",
    "Заметим, что нельзя оценивать качество по тестовой выборке, иначе мы можем переобучиться, как, например, при настройке гиперпараметров. Разделите обучающую выборку на 2 части, на одной из них обучайте модель без одного из признаков,  на второй части оценивайте качество. Исходную тестовую выборку стоит использовать только для финальной оценки качества.\n",
    "\n",
    "Снова оставьте только 40 признаков и оцените качество на тестовой выборке. Сколько времени занял такой отбор признаков?"
   ]
  },
  {
   "cell_type": "code",
   "execution_count": 63,
   "metadata": {
    "colab": {
     "base_uri": "https://localhost:8080/"
    },
    "id": "h-zj1LrcsVtJ",
    "outputId": "d909aeb4-8589-49cb-b95e-65b3cbe28b62"
   },
   "outputs": [
    {
     "name": "stdout",
     "output_type": "stream",
     "text": [
      "Time taken: 333.017s; \n",
      "auc-pr: 0.44889532859281284\n"
     ]
    }
   ],
   "source": [
    "start = time.time()\n",
    "\n",
    "X_train, X_test, y_train, y_test = train_test_split(\n",
    "    X, y, test_size=0.2, random_state=777, stratify=y)\n",
    "\n",
    "features = list(range(X_train.shape[1]))\n",
    "best_auc_pr = TrainAndTest(X_train, y_train)\n",
    "for _ in range(X_train.shape[1]):\n",
    "    best_i = -1\n",
    "    features_cur = features.copy()\n",
    "    for i in features_cur:\n",
    "        features.remove(i)\n",
    "        new_auc_pr = TrainAndTest(X_train[:, features], y_train)\n",
    "\n",
    "        if new_auc_pr >= best_auc_pr:\n",
    "            best_auc_pr = new_auc_pr\n",
    "            best_i = i\n",
    "\n",
    "        features.append(i)\n",
    "        \n",
    "        if len(features) == 40:\n",
    "            break\n",
    "\n",
    "    if best_i < 0 or len(features) == 40:\n",
    "        break\n",
    "    \n",
    "    features.remove(best_i)\n",
    "\n",
    "end = time.time()\n",
    "\n",
    "print('Time taken: ', \"{:.3f}\".format(end - start), 's; ', sep='')\n",
    "print('auc-pr:', TrainAndTest(X[:, features], y))"
   ]
  },
  {
   "cell_type": "markdown",
   "metadata": {
    "id": "cEUgAecgsVtJ"
   },
   "source": [
    "Стоит отметить, что с помощью такого метода можно пойти и в обратную сторону. Попробуйте _добавлять_ по одному самому полезному признаку в выборку до тех пор, пока не наберется 40 штук. Найдется ли порог, при котором добавление следующих признаков будет только ухудшать качество модели?"
   ]
  },
  {
   "cell_type": "code",
   "execution_count": 64,
   "metadata": {
    "colab": {
     "base_uri": "https://localhost:8080/"
    },
    "id": "898xp-_tAm-Q",
    "outputId": "1e8c2f1e-6da8-48f2-dc35-a2f912683562"
   },
   "outputs": [
    {
     "name": "stdout",
     "output_type": "stream",
     "text": [
      "Time taken: 239.396s; \n",
      "auc-pr: 0.4405631910825599\n"
     ]
    }
   ],
   "source": [
    "start = time.time()\n",
    "\n",
    "X_train, X_test, y_train, y_test = train_test_split(\n",
    "    X, y, test_size=0.2, random_state=777, stratify=y)\n",
    "\n",
    "features = list()\n",
    "global_best = 0\n",
    "feat_best = list()\n",
    "for _ in range(X_train.shape[1]):\n",
    "    best_i = -1\n",
    "    features_cur = set(range(X_train.shape[1])) - set(features)\n",
    "    best_auc_pr = 0\n",
    "    for i in features_cur:\n",
    "        features.append(i)\n",
    "        new_auc_pr = TrainAndTest(X_train[:, features], y_train)\n",
    "\n",
    "        if new_auc_pr >= best_auc_pr:\n",
    "            best_auc_pr = new_auc_pr\n",
    "            best_i = i\n",
    "\n",
    "        features.remove(i)\n",
    "        \n",
    "        if len(features) == 40:\n",
    "            break\n",
    "\n",
    "    if best_i < 0 or len(features) == 40:\n",
    "        break\n",
    "    \n",
    "    features.append(best_i)\n",
    "\n",
    "    if global_best < best_auc_pr:\n",
    "        global_best = best_auc_pr\n",
    "        feat_best = features.copy()\n",
    "\n",
    "end = time.time()\n",
    "\n",
    "print('Time taken: ', \"{:.3f}\".format(end - start), 's; ', sep='')\n",
    "print('auc-pr:', TrainAndTest(X[:, features], y))"
   ]
  },
  {
   "cell_type": "code",
   "execution_count": 65,
   "metadata": {
    "colab": {
     "base_uri": "https://localhost:8080/"
    },
    "id": "KgOrn-6gJeiD",
    "outputId": "ededc56f-4622-4593-d7f9-0590bcbd5914"
   },
   "outputs": [
    {
     "name": "stdout",
     "output_type": "stream",
     "text": [
      "0.4432505836814056 [53, 16, 61, 13, 37, 15, 55, 45, 57, 20, 21, 30, 46, 43, 22, 11, 9, 42, 7, 5, 32, 28, 26, 0, 14, 38] ; auc-pr: 0.43988972988417163\n"
     ]
    }
   ],
   "source": [
    "print(global_best, feat_best, '; auc-pr:', TrainAndTest(X[:, feat_best], y))"
   ]
  },
  {
   "cell_type": "markdown",
   "metadata": {
    "id": "QT-SkCXrsVtJ"
   },
   "source": [
    "### Вывод\n",
    "\n",
    "Давайте подведём итоги по отбору признаков. Назовите преимущества и недостатки каждого из методов. Какой метод привёл к наилучшему качеству?\n",
    "\n",
    "**Ответ:** В данной моделе t-статистика была лучшей, и заняла очень мало времени\n",
    "\n",
    "1. При отскаливании всех признаков вариант с обучением линейной модели был быстр и не плох в качестве. Однако такой вариант может не подойти в случае сложной задаче.\n",
    "2. t-статистика была лучшей по времени, хотя немного проиграла 1 варианту в скорости. Этот вариант плох тем, что сильно зависит от функции и при не подходящих под неё параметрах может быть и хуже других.\n",
    "3. Очень долгий метод, однако получилось так, что только 2 признак давал качество лучше, чем любая другая модель, что довольно странно, видимо модель переобучалась (либо же эта метрика не подходила). У метода есть свои плюсы: можно забить на всё и применять в любой модельке без особого изменения."
   ]
  },
  {
   "cell_type": "markdown",
   "metadata": {
    "id": "xfwJs4S4sVtJ"
   },
   "source": [
    "# Часть 3. Оценка экономического эффекта модели\n",
    "\n",
    "В данной части мы займемся тем, что от вас скорее всего потребуется на реальной работе (помимо перекладки `json`, разумеется). А именно: мы соберем несколько специализированных метрик качества, попытаемся настроить модель на максимизацию _прибыли_ и оценим, сколько вообще получится заработать на этом. Разумеется, здесь будет сделано множество упрощающих жизнь допущений, но обо всем по порядку. \n",
    "\n",
    "__Задание 11 (1 балл).__ Допустим, работники вашего колл-центра получают за один звонок клиенту 1 доллар. При согласии клиента на предлагаемые условия он принесет в банк 10 долларов.\n",
    "\n",
    "Если вы всё прослушали на экономике, то напомним, что выручка — это сколько денег нам принесли клиенты, а прибыль — выручка за вычетом расходов на зарплату и прочее.\n",
    "\n",
    "Загрузите данные о телемаркетинге из предыдущего блока заданий. В этой части не нужно делить выборку - мы будем использовать кросс-валидацию. Используйте 5 фолдов, сделайте `shuffle=True, random_state=500`. По кросс-валидации у вас получится 5 вариантов обучающей и тестовой выборки. Обучите логистическую регрессию на каждой обучающей выборке (воспользуйтесь one-hot для категориальных признаков, гиперпараметры оставьте со значениями по умолчанию) и сделайте предсказания для соответствующих тестовых выборок. Допустим, всем положительным прогнозам ваши сотрудники решили позвонить. Посчитайте на всех тестовых выборках выручку и усредните. Сколько денег вы в среднем заработаете? Также вычислите стандартное отклонение.\n",
    "\n",
    "Сколько из заработанных денег придётся отдать операторам вашего колл-центра?"
   ]
  },
  {
   "cell_type": "code",
   "execution_count": 66,
   "metadata": {
    "colab": {
     "base_uri": "https://localhost:8080/"
    },
    "id": "vbqn33g9k0u5",
    "outputId": "11f44d6f-6448-47db-d3d0-ea043f551cfa"
   },
   "outputs": [
    {
     "data": {
      "text/plain": [
       "5"
      ]
     },
     "execution_count": 66,
     "metadata": {},
     "output_type": "execute_result"
    }
   ],
   "source": [
    "from sklearn.model_selection import KFold\n",
    "\n",
    "X = df.drop(columns=['duration', 'y'])\n",
    "X_cat = OneHotEncoder(sparse=False).fit_transform(X[data_config['categorical']])\n",
    "X_num = StandardScaler().fit_transform(X[data_config['numeric']])\n",
    "X = np.append(X_cat, X_num, axis=1)\n",
    "\n",
    "kf = KFold(n_splits=5, random_state=500, shuffle=True)\n",
    "kf.get_n_splits(X)"
   ]
  },
  {
   "cell_type": "code",
   "execution_count": 67,
   "metadata": {
    "id": "RRUqUzWAleDg"
   },
   "outputs": [],
   "source": [
    "def TrainAndPredict(X, y, train_index, test_index, c=1.):\n",
    "    X_train, X_test = X[train_index], X[test_index]\n",
    "    y_train, y_test = y[train_index], y[test_index]\n",
    "    lr = LogisticRegression(max_iter=10000, C=c).fit(X_train, y_train)\n",
    "    return lr.predict(X_test), lr.predict_proba(X_test)[:, 1]"
   ]
  },
  {
   "cell_type": "code",
   "execution_count": 68,
   "metadata": {
    "colab": {
     "base_uri": "https://localhost:8080/"
    },
    "id": "bdRtmaktsVtJ",
    "outputId": "5bce473d-a659-4f4a-9cef-6a8a333150a5"
   },
   "outputs": [
    {
     "name": "stdout",
     "output_type": "stream",
     "text": [
      "Mean profit = 1871.5566116410282 \n",
      "Mean proceed = 2195.9566116410283 \n",
      "Mean pay for call center = 324.4\n"
     ]
    }
   ],
   "source": [
    "profit = 0\n",
    "proceeds = 0\n",
    "\n",
    "for train_index, test_index in kf.split(X):\n",
    "    lr_pred, lr_proba = TrainAndPredict(X, y, train_index, test_index)\n",
    "    profit += (lr_proba[lr_pred == 1] * 10 - 1).sum()\n",
    "    proceeds += (lr_proba[lr_pred == 1] * 10).sum()\n",
    "\n",
    "print('Mean profit =', profit / 5, '\\n'\n",
    "      'Mean proceed =', proceeds / 5, '\\n'\n",
    "      'Mean pay for call center =', (proceeds - profit) / 5)"
   ]
  },
  {
   "cell_type": "markdown",
   "metadata": {
    "id": "8oDWVU93sVtJ"
   },
   "source": [
    "Внесем некоторую долю случайности. Пусть теперь согласный на условия клиент будет приносить не 10 долларов, а случайную величину, равномерно распределенную в интервале $[0;20)$. Проделайте все те же самые действия. Для имитации реальной ситуации **НЕ** фиксируйте `random_seed` при подсчете выручки с клиента. Что получилось?"
   ]
  },
  {
   "cell_type": "code",
   "execution_count": 69,
   "metadata": {
    "colab": {
     "base_uri": "https://localhost:8080/"
    },
    "id": "TuNDuWPDsVtK",
    "outputId": "8c9c5e0e-077e-4c0e-bd9b-556cbb92491d"
   },
   "outputs": [
    {
     "name": "stdout",
     "output_type": "stream",
     "text": [
      "Mean profit = 1898.3462304626107 \n",
      "Mean proceed = 2179.479191362139 \n",
      "Mean pay for call center = 281.1329608995282\n"
     ]
    }
   ],
   "source": [
    "profit = 0\n",
    "proceeds = 0\n",
    "\n",
    "for train_index, test_index in kf.split(X):\n",
    "    lr_pred, lr_proba = TrainAndPredict(X, y, train_index, test_index)\n",
    "    profit += (lr_proba[lr_pred == 1] * np.random.rand(lr_pred.sum()) * 20 - 1).sum()\n",
    "    proceeds += (lr_proba[lr_pred == 1] * np.random.rand(lr_pred.sum()) * 20).sum()\n",
    "\n",
    "print('Mean profit =', profit / 5, '\\n'\n",
    "      'Mean proceed =', proceeds / 5, '\\n'\n",
    "      'Mean pay for call center =', (proceeds - profit) / 5)"
   ]
  },
  {
   "cell_type": "markdown",
   "metadata": {
    "id": "2_hRGfDOsVtK"
   },
   "source": [
    "Настройте по кросс-валидации коэффициент регуляризации модели для максимизации прибыли (считайте как случайную величину выше). Удалось ли получить какой-то выигрыш? При каком коэффициенте регуляризациии прибыль максимальна? Постройте график зависимости ожидаемой прибыли от коэффициента, также укажите стандартные отклонения (вам поможет `plt.errorbar`)."
   ]
  },
  {
   "cell_type": "code",
   "execution_count": 71,
   "metadata": {
    "id": "VPIzOp6fsVtK"
   },
   "outputs": [],
   "source": [
    "c_values = np.logspace(-3, 2, num=10)\n",
    "profits = []\n",
    "profit_error = []\n",
    "for c in c_values:\n",
    "    profit = 0\n",
    "    err = []\n",
    "    for train_index, test_index in kf.split(X):\n",
    "        lr_pred, lr_proba = TrainAndPredict(X, y, train_index, test_index, )\n",
    "        profit_ = (lr_proba[lr_pred == 1] * np.random.rand(lr_pred.sum()) * 20 - 1).sum()\n",
    "        err.append(profit_)\n",
    "        profit += profit_\n",
    "    \n",
    "    profit_error.append(np.std(err))\n",
    "    profits.append(profit / 5)"
   ]
  },
  {
   "cell_type": "code",
   "execution_count": 72,
   "metadata": {
    "colab": {
     "base_uri": "https://localhost:8080/",
     "height": 462
    },
    "id": "Uj4iRhAxrexP",
    "outputId": "6fc1c496-ca9a-4ec8-a565-098cf5107a1e"
   },
   "outputs": [
    {
     "data": {
      "image/png": "[encoded data removed]",
      "text/plain": [
       "<Figure size 864x504 with 1 Axes>"
      ]
     },
     "metadata": {
      "needs_background": "light"
     },
     "output_type": "display_data"
    }
   ],
   "source": [
    "plt.figure(figsize=(12, 7))\n",
    "plt.errorbar(c_values, profits, profit_error, color='blue')\n",
    "plt.xscale('log')\n",
    "plt.xlabel('Reg coefs')\n",
    "plt.ylabel('Profit')\n",
    "plt.title('Profit over reg coefs')\n",
    "plt.show()"
   ]
  },
  {
   "cell_type": "markdown",
   "metadata": {
    "id": "K9BP3IiOsVtK"
   },
   "source": [
    "Попробуйте запустить перебор несколько раз. Находится ли каждый раз один и тот же \"лучший\" коэффициент? Присутствует ли какая-то закономерность? Какие вы можете сделать из этого выводы? Ну как-то не особо закономерно. Думаю вся проблема в рандоме оплаты."
   ]
  },
  {
   "cell_type": "code",
   "execution_count": 73,
   "metadata": {
    "colab": {
     "base_uri": "https://localhost:8080/"
    },
    "id": "1gOHKib6sVtK",
    "outputId": "07b8a335-04ed-482c-fb15-89874d6e2d12"
   },
   "outputs": [
    {
     "name": "stdout",
     "output_type": "stream",
     "text": [
      "7.742636826811277\n",
      "27.825594022071257\n",
      "100.0\n",
      "0.003593813663804626\n",
      "0.003593813663804626\n",
      "0.003593813663804626\n"
     ]
    }
   ],
   "source": [
    "print(c_values[np.argmax(profits)])\n",
    "for _ in range(5):\n",
    "    profits = []\n",
    "    profit_error = []\n",
    "    for c in np.logspace(0.001, 3.0, num=10):\n",
    "        profit = 0\n",
    "        err = []\n",
    "        for train_index, test_index in kf.split(X):\n",
    "            lr_pred, lr_proba = TrainAndPredict(X, y, train_index, test_index, )\n",
    "            profit_ = (lr_proba[lr_pred == 1] * np.random.rand(lr_pred.sum()) * 20 - 1).sum()\n",
    "            err.append(profit_)\n",
    "            profit += profit_\n",
    "\n",
    "        profit_error.append(np.std(err))\n",
    "        profits.append(profit / 5)\n",
    "\n",
    "    print(c_values[np.argmax(profits)])"
   ]
  },
  {
   "cell_type": "markdown",
   "metadata": {
    "id": "y1xviWBJsVtK"
   },
   "source": [
    "__Задание 12 (1 балл).__ Выше мы уже описали примерную экономическую модель вашей задачи. Как вы считаете, что для вашего бизнеса важнее — хороший precision или recall модели? Почему?\n",
    "\n",
    "__Ответ:__ очевидно precision, при любом recall можно взять сколько угодно плохих данных, и по итогу звонок будет стоить больше, чем оплачиваться. А precision даёт нам ту часть звонков, которые реально оплатяться и если мало, то мы знаем что обзвон убыточен.\n",
    "\n"
   ]
  },
  {
   "cell_type": "markdown",
   "metadata": {
    "id": "eIamNcJLsVtK"
   },
   "source": [
    "Вспомним, что на самом деле логистическая регрессия предсказывает нам вероятности положительного класса для объекта. Возможно, путем настройки порога бинаризации этих вероятностей мы сможем получить какой-то выигрыш? Проверьте ваши рассуждения выше с помощью настройки порога бинаризации на кросс-валидации для максимизации прибыли. Воспользуйтесь сеткой от 0 до 1 с шагом 0.01. Напомним, что снижение порога дает нам более высокий recall и более низкий precision, и наоборот."
   ]
  },
  {
   "cell_type": "code",
   "execution_count": 74,
   "metadata": {
    "id": "3gx4l4Qt_xjQ"
   },
   "outputs": [],
   "source": [
    "lr_probas = []\n",
    "for train_index, test_index in kf.split(X):\n",
    "    _, lr_proba = TrainAndPredict(X, y, train_index, test_index)\n",
    "    lr_probas.append(lr_proba)"
   ]
  },
  {
   "cell_type": "code",
   "execution_count": 75,
   "metadata": {
    "id": "c704-vDx_lA6"
   },
   "outputs": [],
   "source": [
    "profits = []\n",
    "profit_error = []\n",
    "bin_values = np.linspace(0, 1, 101)\n",
    "for bin in bin_values:\n",
    "    profit = 0\n",
    "    err = []\n",
    "    for j in range(5):\n",
    "        profit_ = (lr_probas[j][lr_probas[j] > bin] * np.random.rand(\n",
    "            len(lr_probas[j][lr_probas[j] > bin])) * 20 - 1).sum()\n",
    "        \n",
    "        err.append(profit_)\n",
    "        profit += profit_\n",
    "\n",
    "    profit_error.append(np.std(err))\n",
    "    profits.append(profit / 5)"
   ]
  },
  {
   "cell_type": "code",
   "execution_count": 76,
   "metadata": {
    "colab": {
     "base_uri": "https://localhost:8080/",
     "height": 458
    },
    "id": "vr_1_saMBdMx",
    "outputId": "6f852b90-6dc5-44da-a2d4-9a440455d8cc"
   },
   "outputs": [
    {
     "data": {
      "image/png": "[encoded data removed]",
      "text/plain": [
       "<Figure size 864x504 with 1 Axes>"
      ]
     },
     "metadata": {
      "needs_background": "light"
     },
     "output_type": "display_data"
    }
   ],
   "source": [
    "plt.figure(figsize=(12, 7))\n",
    "plt.errorbar(bin_values, profits, profit_error, color='blue')\n",
    "plt.xlabel('Bin')\n",
    "plt.ylabel('Profit')\n",
    "plt.title('Profit over bin')\n",
    "plt.show()"
   ]
  },
  {
   "cell_type": "markdown",
   "metadata": {
    "id": "iNdVb4jtsVtL"
   },
   "source": [
    "Постройте график зависимости прибыли от порога бинаризации, также отметьте на нем стандартные отклонения. Выделите наилучший порог. \n",
    "\n",
    "\n",
    "__Вопрос:__ Замечаете ли вы какую-то закономерность? Для правильного ответа на этот вопрос попробуйте запустить несколько раз и задумайтесь, почему порог получается в какой-то конкретной области?\n",
    "\n",
    "__Ответ:__ На самом деле скорее всего ответ 0.11 (0.1), потому что матожидание таких звонков (и всех у кого больше) не ниже 0.<br>$E[profit] = p * E[rand[0;20]] - 1 = 10p - 1 \\ge 0\\\\ p\\ge 0.1$."
   ]
  },
  {
   "cell_type": "code",
   "execution_count": 77,
   "metadata": {
    "id": "ZqUlYtKXsVtL"
   },
   "outputs": [],
   "source": [
    "bin = bin_values[np.argmax(profits)]"
   ]
  },
  {
   "cell_type": "markdown",
   "metadata": {
    "id": "3BmXP6pDsVtL"
   },
   "source": [
    "Каковы значения precision и recall на выбранном пороге? Оцените по кросс-валидации. Также вычислите стандартное отклонение."
   ]
  },
  {
   "cell_type": "code",
   "execution_count": 78,
   "metadata": {
    "colab": {
     "base_uri": "https://localhost:8080/"
    },
    "id": "L_c-_sjgsVtL",
    "outputId": "10d579fb-4e7e-46a5-b47c-fa5e3146dccb"
   },
   "outputs": [
    {
     "name": "stdout",
     "output_type": "stream",
     "text": [
      "precision:\n",
      "  mean: 0.3148506365679292\n",
      "  std:0.012611920756936868\n",
      "recall:\n",
      "  mean: 0.6603060207962506\n",
      "  std:0.021109271354615194\n"
     ]
    }
   ],
   "source": [
    "from sklearn.metrics import precision_recall_curve\n",
    "\n",
    "precision_ = [[]] * 5\n",
    "recall_ = [[]] * 5\n",
    "max_size = 0\n",
    "for j, (train_index, test_index) in enumerate(kf.split(X)):\n",
    "    precision_[j], recall_[j], _ = precision_recall_curve(y.loc[test_index], lr_probas[j])\n",
    "    if max_size < recall_[j].shape[0]:\n",
    "        max_size = recall_[j].shape[0]\n",
    "\n",
    "precision = []\n",
    "recall = []\n",
    "for j in range(5):\n",
    "    idx = -lr_probas[j][lr_probas[j] > bin].shape[0]\n",
    "    precision.append(precision_[j][idx])\n",
    "    recall.append(recall_[j][idx])\n",
    "\n",
    "mean_precision = np.mean(precision)\n",
    "mean_recall = np.mean(recall)\n",
    "std_precision = np.std(precision)\n",
    "std_recall = np.std(recall)\n",
    "\n",
    "print('precision:\\n  mean: ', mean_precision, '\\n  std:', std_precision,\n",
    "      '\\nrecall:\\n  mean: ', mean_recall, '\\n  std:', std_recall, sep='')"
   ]
  },
  {
   "cell_type": "markdown",
   "metadata": {
    "id": "ScHGNZVMsVtL"
   },
   "source": [
    "Как вы, вероятно, уже поняли, ваша модель склоняется к более высокому recall. Попробуйте оценить качество модели с помощью `PR-AUC` в зоне recall $\\geq$ 0.5. Сделайте это следующим образом - выберите только те пороги, на которых достигается необходимый recall, затем интерпретируйте отсеченный в единичном квадрате прямоугольник как новый единичный квадрат и посчитайте площадь под отсеченной кривой. "
   ]
  },
  {
   "cell_type": "code",
   "execution_count": 79,
   "metadata": {
    "colab": {
     "base_uri": "https://localhost:8080/"
    },
    "id": "tz27lRLtsVtL",
    "outputId": "a8346214-5a3b-4724-dcbc-a55acbaea8cc"
   },
   "outputs": [
    {
     "data": {
      "text/plain": [
       "0.2567861567780288"
      ]
     },
     "execution_count": 79,
     "metadata": {},
     "output_type": "execute_result"
    }
   ],
   "source": [
    "mean_auc = 0\n",
    "\n",
    "for j in range(5):\n",
    "    idx = recall_[j][recall_[j] > 0.5].shape[0]\n",
    "    mean_auc += 2 * metrics.auc(recall_[j][:idx], precision_[j][:idx]) / 5\n",
    "\n",
    "mean_auc"
   ]
  },
  {
   "cell_type": "markdown",
   "metadata": {
    "id": "viEQ2zFxsVtL"
   },
   "source": [
    "__Бонус (0.01 балла):__ что вы кушали в день сдачи данного ДЗ на завтрак?\n",
    "\n",
    "__Ответ:__ Чахоибили с гречкой из вкусвилла :)\n",
    "<br>ПС для разнообразия можно, а так не советую"
   ]
  },
  {
   "cell_type": "markdown",
   "metadata": {
    "id": "fskmTXRIsVtM"
   },
   "source": [
    "__Социализационный бонус (0.1 балл).__\n",
    "Введены новые ограничения, занятия теперь дистанционные. Но это не значит, что не надо общаться с друзьями! Созвонитесь в зуме (или любым другим способом) хотя бы с двумя студентами курса МО-1 этого года, приложите скриншот созвона с включенными камерами и напишите очень кратко, на какие темы были беседы.\n",
    "\n",
    "__Ответ:__ Поговорили про работу, МО, дедлайны, СЛТ :)\n",
    "![Терминатор](meeting.jpg)"
   ]
  }
 ],
 "metadata": {
  "colab": {
   "collapsed_sections": [
    "JvRsAzIosVs3",
    "PaXmNM7osVs8"
   ],
   "name": "homework-practice-04-classification-Panesh.ipynb",
   "provenance": [],
   "toc_visible": true
  },
  "kernelspec": {
   "display_name": "Python 3",
   "language": "python",
   "name": "python3"
  },
  "language_info": {
   "codemirror_mode": {
    "name": "ipython",
    "version": 3
   },
   "file_extension": ".py",
   "mimetype": "text/x-python",
   "name": "python",
   "nbconvert_exporter": "python",
   "pygments_lexer": "ipython3",
   "version": "3.6.13"
  }
 },
 "nbformat": 4,
 "nbformat_minor": 1
}
