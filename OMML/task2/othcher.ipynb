{
 "cells": [
  {
   "cell_type": "code",
   "execution_count": 2,
   "metadata": {},
   "outputs": [],
   "source": [
    "%load_ext autoreload"
   ]
  },
  {
   "cell_type": "code",
   "execution_count": 3,
   "metadata": {},
   "outputs": [],
   "source": [
    "%autoreload 2\n",
    "from optimization import conjugate_gradients, lbfgs\n",
    "import task2_presubmit_tests\n",
    "import oracles"
   ]
  },
  {
   "cell_type": "code",
   "execution_count": 4,
   "metadata": {},
   "outputs": [],
   "source": [
    "import numpy as np\n",
    "from numpy.linalg import norm\n",
    "from scipy.sparse import csr_matrix"
   ]
  },
  {
   "cell_type": "code",
   "execution_count": 5,
   "metadata": {},
   "outputs": [
    {
     "name": "stdout",
     "output_type": "stream",
     "text": [
      "Hessyan and gradient are correct\n"
     ]
    }
   ],
   "source": [
    "shape = 9\n",
    "atol = 1e-1\n",
    "for i in range(100):\n",
    "    A = csr_matrix((np.random.rand(shape, shape) - 0.5) * 10 + 1)\n",
    "    x = (np.random.rand(shape) - 0.5) * 10 + 1\n",
    "    v = (np.random.rand(shape) - 0.5) * 10 + 1\n",
    "    b = np.random.randint(0, 1, size=shape) * 2 - 1\n",
    "    log_reg_oracle = oracles.create_log_reg_oracle(A, b, 2)\n",
    "    hess_vec = log_reg_oracle.hess_vec(x, v)\n",
    "    hess_vec_diff = oracles.hess_vec_finite_diff(log_reg_oracle.func, x, v)\n",
    "    assert np.allclose(hess_vec, hess_vec_diff, atol=atol), 'Elements arent close: %s != %s' % (hess_vec, hess_vec_diff)\n",
    "\n",
    "\n",
    "for i in range(100):\n",
    "    A = (np.random.rand(shape, shape) - 0.5) * 10 + 1\n",
    "    x = (np.random.rand(shape) - 0.5) * 10 + 1\n",
    "    v = (np.random.rand(shape) - 0.5) * 10 + 1\n",
    "    b = np.random.randint(0, 1, size=shape) * 2 - 1\n",
    "    log_reg_oracle = oracles.create_log_reg_oracle(A, b, 2)\n",
    "    hess_vec = log_reg_oracle.hess_vec(x, v)\n",
    "    hess_vec_diff = oracles.hess_vec_finite_diff(log_reg_oracle.func, x, v)\n",
    "    assert np.allclose(hess_vec, hess_vec_diff, atol=atol), 'Elements arent close: %s != %s' % (hess_vec, hess_vec_diff)\n",
    "\n",
    "\n",
    "print('Hessyan and gradient are correct')"
   ]
  }
 ],
 "metadata": {
  "interpreter": {
   "hash": "10432db674fa96a70b9a84b01f304535c194208972c10226c055a15e3a7600a6"
  },
  "kernelspec": {
   "display_name": "Python 3.9.7 ('base')",
   "language": "python",
   "name": "python3"
  },
  "language_info": {
   "codemirror_mode": {
    "name": "ipython",
    "version": 3
   },
   "file_extension": ".py",
   "mimetype": "text/x-python",
   "name": "python",
   "nbconvert_exporter": "python",
   "pygments_lexer": "ipython3",
   "version": "3.9.7"
  },
  "orig_nbformat": 4
 },
 "nbformat": 4,
 "nbformat_minor": 2
}
