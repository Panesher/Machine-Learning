{
  "nbformat": 4,
  "nbformat_minor": 0,
  "metadata": {
    "kernelspec": {
      "display_name": "Python 3 (ipykernel)",
      "language": "python",
      "name": "python3"
    },
    "language_info": {
      "codemirror_mode": {
        "name": "ipython",
        "version": 3
      },
      "file_extension": ".py",
      "mimetype": "text/x-python",
      "name": "python",
      "nbconvert_exporter": "python",
      "pygments_lexer": "ipython3",
      "version": "3.7.11"
    },
    "colab": {
      "name": "homework-practice-03-gd.ipynb",
      "provenance": [],
      "collapsed_sections": []
    }
  },
  "cells": [
    {
      "cell_type": "markdown",
      "metadata": {
        "id": "eiQ05pPTsqCV"
      },
      "source": [
        "# Машинное обучение, ФКН ВШЭ\n",
        "\n",
        "## Практическое задание 3. Градиентный спуск своими руками\n",
        "\n",
        "### Общая информация\n",
        "Дата выдачи: **12.10.2021**\n",
        "\n",
        "Мягкий дедлайн: **27.10.21 23:59** (за каждый день просрочки снимается 1 балл)\n",
        "\n",
        "Жесткий дедлайн: **29.10.21 23:59**"
      ]
    },
    {
      "cell_type": "markdown",
      "metadata": {
        "id": "0Cko8vAAsqCZ"
      },
      "source": [
        "### О задании\n",
        "\n",
        "В данном задании необходимо реализовать обучение линейной регрессии с помощью различных вариантов градиентного спуска.\n",
        "\n",
        "\n",
        "### Оценивание и штрафы\n",
        "Каждая из задач имеет определенную «стоимость» (указана в скобках около задачи). Максимально допустимая оценка за работу — 10 баллов + 2 балла бонус.\n",
        "\n",
        "Сдавать задание после указанного срока сдачи нельзя. При выставлении неполного балла за задание в связи с наличием ошибок на усмотрение проверяющего предусмотрена возможность исправить работу на указанных в ответном письме условиях.\n",
        "\n",
        "Задание выполняется самостоятельно. «Похожие» решения считаются плагиатом и все задействованные студенты (в том числе те, у кого списали) не могут получить за него больше 0 баллов (подробнее о плагиате см. на странице курса). Если вы нашли решение какого-то из заданий (или его часть) в открытом источнике, необходимо указать ссылку на этот источник в отдельном блоке в конце вашей работы (скорее всего вы будете не единственным, кто это нашел, поэтому чтобы исключить подозрение в плагиате, необходима ссылка на источник).\n",
        "\n",
        "Неэффективная реализация кода может негативно отразиться на оценке.\n",
        "Также оценка может быть снижена за плохо читаемый код и плохо считываемые диаграммы.\n",
        "\n",
        "Все ответы должны сопровождаться кодом или комментариями о том, как они были получены.\n",
        "\n",
        "\n",
        "### Формат сдачи\n",
        "Задания сдаются через систему Anytask. Инвайт можно найти на странице курса. Присылать необходимо ноутбук с выполненным заданием. Сам ноутбук называйте в формате homework-practice-03-gd-Username.ipynb, где Username — ваша фамилия.\n",
        "\n",
        "Для удобства проверки самостоятельно посчитайте свою максимальную оценку (исходя из набора решенных задач) и укажите ниже.\n",
        "\n",
        "**Оценка**: ..."
      ]
    },
    {
      "cell_type": "markdown",
      "metadata": {
        "id": "_ikL5R9wsqCa"
      },
      "source": [
        "Напомним, что на лекциях и семинарах мы разбирали некоторые подходы к оптимизации функционалов по параметрам. В частности, был рассмотрен градиентный спуск и различные подходы к его реализации — полный градиентный спуск, стохастический градиентный спуск, метод импульса и другие. В качестве модели у нас будет выступать линейная регрессия.\n",
        "\n",
        "В этом домашнем задании вам предстоит реализовать 4 различных вариации градиентного спуска, написать свою реализацию линейной регресии, сравнить методы градиентного спуска между собой на реальных данных и ещё много чего веселого и интересного!"
      ]
    },
    {
      "cell_type": "markdown",
      "metadata": {
        "id": "B_9eKyH-sqCb"
      },
      "source": [
        "## Задание 1. Реализация градиентного спуска (3.5 балла)\n",
        "\n",
        "В этом задании вам предстоит написать собственные реализации различных подходов к градиентному спуску с опорой на подготовленные шаблоны в файле `descents.py`.\n",
        "\n",
        "**Все реализуемые методы должны быть векторизованы!**"
      ]
    },
    {
      "cell_type": "markdown",
      "metadata": {
        "id": "dMkYVT58sqCc"
      },
      "source": [
        "### Лирическое-теоретическое отступление № 1\n",
        "\n",
        "Основное свойство антиградиента &ndash; он указывает в сторону наискорейшего убывания функции в данной точке. Соответственно, будет логично стартовать из некоторой точки, сдвинуться в сторону антиградиента,\n",
        "пересчитать антиградиент и снова сдвинуться в его сторону и т.д. Запишем это более формально.\n",
        "\n",
        "Пусть $w_0$ &ndash; начальный набор параметров (например, нулевой или сгенерированный из некоторого\n",
        "случайного распределения). Тогда ванильный градиентный спуск состоит в повторении следующих шагов до сходимости:\n",
        "\n",
        "$$\n",
        "    w_{k + 1} = w_{k} - \\eta_{k} \\nabla_{w} Q(w_{k}).\n",
        "$$"
      ]
    },
    {
      "cell_type": "markdown",
      "metadata": {
        "id": "pNYWEmKSsqCc"
      },
      "source": [
        "### Лирическое-теоретическое отступление № 2\n",
        "\n",
        "На семинаре про [матрично-векторное дифференцирование](https://github.com/esokolov/ml-course-hse/blob/master/2021-fall/seminars/sem03-vector-diff.pdf) вы должны были обсуждать дифференцирование функции потерь MSE в матричном виде.\n",
        "\n",
        "### Задание 1.0. Градиент MSE в матричном виде (0 баллов).\n",
        "\n",
        "Напомним, что функция потерь MSE записывается в матричном виде как:\n",
        "\n",
        "$$\n",
        "    Q(w) = \\dfrac{1}{\\ell} \\left( y - Xw \\right)^T \\left( y - Xw \\right)\n",
        "$$\n",
        "\n",
        "Выпишите ниже (подсмотрев в семинар или решив самостоятельно) градиент для функции потерь MSE в матричном виде."
      ]
    },
    {
      "cell_type": "markdown",
      "metadata": {
        "id": "C8kcE_A6sqCd"
      },
      "source": [
        "$\\nabla_w Q = -\\frac{2}{\\ell}(y − Xw)^TX$"
      ]
    },
    {
      "cell_type": "markdown",
      "metadata": {
        "id": "Y0PcKHmesqCd"
      },
      "source": [
        "### Задание 1.1. Родительский класс BaseDescent (0.5 балла).\n",
        "\n",
        "Реализуйте функции `calc_loss` (вычисление MSE для переданных $x$ и $y$) и `predict` (предсказание $y_{pred}$ для переданных $x$) в классе `BaseDescent`.\n",
        "\n",
        "Все вычисления должны быть векторизованы."
      ]
    },
    {
      "cell_type": "markdown",
      "metadata": {
        "id": "4JjSWLNRsqCe"
      },
      "source": [
        "### Задание 1.2. Полный градиентный спуск VanillaGradientDescent (0.5 балла).\n",
        "\n",
        "Реализуйте полный градиентный спуск заполнив пропуски в классе `VanillaGradientDescent` в файле `descents.py`. Для вычисления градиента используйте формулу выше. Шаг оптимизации:\n",
        "\n",
        "$$\n",
        "    w_{k + 1} = w_{k} - \\eta_{k} \\nabla_{w} Q(w_{k}).\n",
        "$$\n",
        "\n",
        "Здесь и далее функция `update_weights` должна возвращать разницу между $w_{k + 1}$ и $w_{k}$: $\\quad w_{k + 1} - w_{k} = -\\eta_{k} \\nabla_{w} Q(w_{k})$.\n",
        "\n",
        "Во всех методах градиентного спуска мы будем использовать следующую формулу для длины шага:\n",
        "\n",
        "$$\n",
        "    \\eta_{k} = \\lambda \\left(\\dfrac{s_0}{s_0 + k}\\right)^p\n",
        "$$\n",
        "\n",
        "На практике достаточно настроить параметр $\\lambda$, а остальным выставить параметры по умолчанию: $s_0 = 1, \\, p = 0.5.$"
      ]
    },
    {
      "cell_type": "markdown",
      "metadata": {
        "id": "-iIm4ysvsqCf"
      },
      "source": [
        "### Лирическое-теоретическое отступление № 3\n",
        "\n",
        "Как правило, в задачах машинного обучения функционал $Q(w)$ представим в виде суммы $\\ell$ функций:\n",
        "\n",
        "$$\n",
        "    Q(w)\n",
        "    =\n",
        "    \\frac{1}{\\ell}\n",
        "    \\sum_{i = 1}^{\\ell}\n",
        "        q_i(w).\n",
        "$$\n",
        "\n",
        "В нашем домашнем задании отдельные функции $q_i(w)$ соответствуют ошибкам на отдельных объектах.\n",
        "\n",
        "Проблема метода градиентного спуска состоит в том, что на каждом шаге необходимо вычислять градиент всей суммы (будем его называть полным градиентом):\n",
        "\n",
        "$$\n",
        "    \\nabla_w Q(w)\n",
        "    =\n",
        "    \\frac{1}{\\ell}\n",
        "    \\sum_{i = 1}^{\\ell}\n",
        "        \\nabla_w q_i(w).\n",
        "$$\n",
        "\n",
        "Это может быть очень трудоёмко при больших размерах выборки. В то же время точное вычисление градиента может быть не так уж необходимо &ndash; как правило, мы делаем не очень большие шаги в сторону антиградиента, и наличие в нём неточностей не должно сильно сказаться на общей траектории.\n",
        "\n",
        "Оценить градиент суммы функций можно средним градиентов случайно взятого подмножества функций:\n",
        "\n",
        "$$\n",
        "    \\nabla_{w} Q(w_{k}) \\approx \\dfrac{1}{|B|}\\sum\\limits_{i \\in B}\\nabla_{w} q_{i}(w_{k}),\n",
        "$$\n",
        "где $B$ - это случайно выбранное подмножество индексов.\n",
        "\n",
        "В этом случае мы получим метод **стохастического градиентного спуска**."
      ]
    },
    {
      "cell_type": "markdown",
      "metadata": {
        "id": "VnKMsx2HsqCf"
      },
      "source": [
        "### Задание 1.3. Стохастический градиентный спуск StochasticDescent (0.5 балла).\n",
        "\n",
        "Реализуйте стохастический градиентный спуск заполнив пропуски в классе `StochasticDescent`. Для оценки градиента используйте формулу выше (среднее градиентов случайно выбранного батча объектов). Шаг оптимизации:\n",
        "\n",
        "$$\n",
        "    w_{k + 1} = w_{k} - \\eta_{k} \\dfrac{1}{|B|}\\sum\\limits_{i \\in B}\\nabla_{w} q_{i}(w_{k}).\n",
        "$$\n",
        "\n",
        "Размер батча будет являться гиперпараметром метода, семплируйте индексы для батча объектов с помощью `np.random.randint`."
      ]
    },
    {
      "cell_type": "markdown",
      "metadata": {
        "id": "X3h0yZg0sqCf"
      },
      "source": [
        "### Лирическое-теоретическое отступление № 4\n",
        "\n",
        "Может оказаться, что направление антиградиента сильно меняется от шага к шагу. Например, если линии уровня функционала сильно вытянуты, то из-за ортогональности градиента линиям уровня он будет менять направление на почти противоположное на каждом шаге. Такие осцилляции будут вносить сильный шум в движение, и процесс оптимизации займёт много итераций. Чтобы избежать этого, можно усреднять векторы антиградиента с нескольких предыдущих шагов &ndash; в этом случае шум уменьшится, и такой средний вектор будет указывать в сторону общего направления движения. Введём для этого вектор инерции:\n",
        "\n",
        "\\begin{align}\n",
        "    &h_0 = 0, \\\\\n",
        "    &h_{k + 1} = \\alpha h_{k} + \\eta_k \\nabla_w Q(w_{k})\n",
        "\\end{align}\n",
        "\n",
        "Здесь $\\alpha$ &ndash; параметр метода, определяющей скорость затухания градиентов с предыдущих шагов. Разумеется, вместо вектора градиента может быть использована его аппроксимация. Чтобы сделать шаг градиентного спуска, просто сдвинем предыдущую точку на вектор инерции:\n",
        "\n",
        "$$\n",
        "    w_{k + 1} = w_{k} - h_{k + 1}.\n",
        "$$\n",
        "\n",
        "Заметим, что если по какой-то координате градиент постоянно меняет знак, то в результате усреднения градиентов в векторе инерции эта координата окажется близкой к нулю. Если же по координате знак градиента всегда одинаковый, то величина соответствующей координаты в векторе инерции будет большой, и мы будем делать большие шаги в соответствующем направлении."
      ]
    },
    {
      "cell_type": "markdown",
      "metadata": {
        "id": "DPdmYoCbsqCg"
      },
      "source": [
        "### Задание 1.4 Метод Momentum MomentumDescent (0.5 балла).\n",
        "\n",
        "Реализуйте градиентный спуск с методом инерции заполнив пропуски в классе `MomentumDescent`. Шаг оптимизации:\n",
        "\n",
        "\\begin{align}\n",
        "    &h_0 = 0, \\\\\n",
        "    &h_{k + 1} = \\alpha h_{k} + \\eta_k \\nabla_w Q(w_{k}) \\\\\n",
        "    &w_{k + 1} = w_{k} - h_{k + 1}.\n",
        "\\end{align}\n",
        "\n",
        "$\\alpha$ будет являться гиперпараметром метода, но в данном домашнем задании мы зафиксируем её за вас $\\alpha = 0.9$."
      ]
    },
    {
      "cell_type": "markdown",
      "metadata": {
        "id": "H1RkEbeQsqCg"
      },
      "source": [
        "### Лирическое-теоретическое отступление № 5\n",
        "\n",
        "Градиентный спуск очень чувствителен к выбору длины шага. Если шаг большой, то есть риск, что мы будем перескакивать через точку минимума; если же шаг маленький, то для нахождения минимума потребуется много итераций. При этом нет способов заранее определить правильный размер шага &ndash; к тому же, схемы с постепенным уменьшением шага по мере итераций могут тоже плохо работать.\n",
        "\n",
        "В методе AdaGrad предлагается сделать свою длину шага для каждой компоненты вектора параметров. При этом шаг будет тем меньше, чем более длинные шаги мы делали на предыдущих итерациях:\n",
        "\n",
        "\\begin{align}\n",
        "    &G_{kj} = G_{k-1,j} + (\\nabla_w Q(w_{k - 1}))_j^2; \\\\\n",
        "    &w_{jk} = w_{j,k-1} - \\frac{\\eta_t}{\\sqrt{G_{kj}} + \\varepsilon} (\\nabla_w Q(w_{k - 1}))_j.\n",
        "\\end{align}\n",
        "\n",
        "Здесь $\\varepsilon$ небольшая константа, которая предотвращает деление на ноль.\n",
        "\n",
        "В данном методе можно зафксировать длину шага (например, $\\eta_k = 0.01$) и не подбирать её в процессе обучения. Отметим, что данный метод подходит для разреженных задач, в которых у каждого объекта большинство признаков равны нулю. Для признаков, у которых ненулевые значения встречаются редко, будут делаться большие шаги; если же какой-то признак часто является ненулевым, то шаги по нему будут небольшими.\n",
        "\n",
        "У метода AdaGrad есть большой недостаток: переменная $G_{kj}$ монотонно растёт, из-за чего шаги становятся всё медленнее и могут остановиться ещё до того, как достигнут минимум функционала. Проблема решается в методе RMSprop, где используется экспоненциальное затухание градиентов:\n",
        "\n",
        "$$\n",
        "    G_{kj} = \\alpha G_{k-1,j} + (1 - \\alpha) (\\nabla_w Q(w^{(k-1)}))_j^2.\n",
        "$$\n",
        "\n",
        "В этом случае размер шага по координате зависит в основном от того, насколько\n",
        "быстро мы двигались по ней на последних итерациях.\n",
        "\n",
        "Можно объединить идеи описанных выше методов: накапливать градиенты со всех прошлых шагов для\n",
        "избежания осцилляций и делать адаптивную длину шага по каждому параметру."
      ]
    },
    {
      "cell_type": "markdown",
      "metadata": {
        "id": "Eb7LoxITsqCh"
      },
      "source": [
        "### Задание 1.5. Метод Adam (Adaptive Moment Estimation) (1.5 балла).\n",
        "\n",
        "![](adam.jpg)\n",
        "\n",
        "Реализуйте градиентный спуск с методом Adam заполнив пропуски в классе `Adam`. Шаг оптимизации:\n",
        "\n",
        "\\begin{align}\n",
        "    &m_0 = 0, \\quad v_0 = 0; \\\\ \\\\\n",
        "    &m_{k + 1} = \\beta_1 m_k + (1 - \\beta_1) \\nabla_w Q(w_{k}); \\\\ \\\\\n",
        "    &v_{k + 1} = \\beta_2 v_k + (1 - \\beta_2) \\left(\\nabla_w Q(w_{k})\\right)^2; \\\\ \\\\\n",
        "    &\\widehat{m}_{k} = \\dfrac{m_k}{1 - \\beta_1^{k}}, \\quad \\widehat{v}_{k} = \\dfrac{v_k}{1 - \\beta_2^{k}}; \\\\ \\\\\n",
        "    &w_{k + 1} = w_{k} - \\dfrac{\\eta_k}{\\sqrt{\\widehat{v}_{k + 1}} + \\varepsilon} \\widehat{m}_{k + 1}.\n",
        "\\end{align}\n",
        "\n",
        "$\\beta_1 = 0.9, \\beta_2 = 0.999$ и $\\varepsilon = 10^{-8}$ будут зафиксированы за вас."
      ]
    },
    {
      "cell_type": "markdown",
      "metadata": {
        "id": "R4AFCh8isqCh"
      },
      "source": [
        "## Задание 2. Реализация линейной регресии (0.5 балла)\n",
        "\n",
        "В этом задании вам предстоит написать свою реализацию линейной регресии, обучаемой с использованием градиентного спуска, с опорой на подготовленные шаблоны в файле `linear_regression.py` - **LinearRegression**. По сути линейная регрессия будет оберткой, которая запускает обучение \n",
        "\n",
        "Необходимо соблюдать следующие условия:\n",
        "\n",
        "* Все вычисления должны быть векторизованы;\n",
        "* Циклы средствами python допускаются только для итераций градиентного спуска;\n",
        "* В качестве критерия останова необходимо использовать (одновременно):\n",
        "    * Квадрат евклидовой нормы разности весов на двух соседних итерациях меньше `tolerance`;\n",
        "    * Разность весов содержит наны;\n",
        "    * Достижение максимального числа итераций `max_iter`.\n",
        "* Будем считать, что все данные, которые поступают на вход имеют столбец единичек последним столбцом;\n",
        "* Чтобы проследить за сходимостью оптимизационного процесса будем использовать `loss_history`, в нём будем хранить значения функции потерь до каждого шага, начиная с нулевого (до первого шага по антиградиенту) и значение функции потерь после оптимизации."
      ]
    },
    {
      "cell_type": "markdown",
      "metadata": {
        "id": "wz4gP33hsqCh"
      },
      "source": [
        "## Задание 3. Проверка кода (0 баллов)"
      ]
    },
    {
      "cell_type": "code",
      "metadata": {
        "id": "967wInfTsqCi",
        "colab": {
          "base_uri": "https://localhost:8080/"
        },
        "outputId": "6f2cb165-ad46-4048-f152-685bd006c252"
      },
      "source": [
        "%load_ext autoreload"
      ],
      "execution_count": 313,
      "outputs": [
        {
          "output_type": "stream",
          "name": "stdout",
          "text": [
            "The autoreload extension is already loaded. To reload it, use:\n",
            "  %reload_ext autoreload\n"
          ]
        }
      ]
    },
    {
      "cell_type": "code",
      "metadata": {
        "colab": {
          "base_uri": "https://localhost:8080/"
        },
        "id": "PPPtjjLRsqCj",
        "outputId": "6fb85e69-ed12-473b-afe4-cd96e023b792"
      },
      "source": [
        "%autoreload 2\n",
        "\n",
        "import numpy as np\n",
        "\n",
        "from descents import get_descent\n",
        "from linear_regression import LinearRegression"
      ],
      "execution_count": 322,
      "outputs": [
        {
          "output_type": "stream",
          "name": "stderr",
          "text": [
            "[autoreload of descents failed: Traceback (most recent call last):\n",
            "  File \"/usr/local/lib/python3.7/dist-packages/IPython/extensions/autoreload.py\", line 247, in check\n",
            "    superreload(m, reload, self.old_objects)\n",
            "RecursionError: maximum recursion depth exceeded while calling a Python object\n",
            "]\n"
          ]
        }
      ]
    },
    {
      "cell_type": "code",
      "metadata": {
        "id": "AWfSXkDBsqCj"
      },
      "source": [
        "num_objects = 100\n",
        "dimension = 5\n",
        "\n",
        "x = np.random.rand(num_objects, dimension)\n",
        "y = np.random.rand(num_objects)"
      ],
      "execution_count": 315,
      "outputs": []
    },
    {
      "cell_type": "code",
      "metadata": {
        "id": "yKpzN2rDsqCj"
      },
      "source": [
        "# Descents\n",
        "\n",
        "descent_config = {\n",
        "    'descent_name': 'some name that we will replace in the future',\n",
        "    'kwargs': {\n",
        "        'dimension': dimension\n",
        "    }\n",
        "}\n",
        "\n",
        "for descent_name in ['full', 'stochastic', 'momentum', 'adam']:\n",
        "    descent_config['descent_name'] = descent_name\n",
        "    descent = get_descent(descent_config)\n",
        "\n",
        "    diff = descent.step(x, y)\n",
        "    gradient = descent.calc_gradient(x, y)\n",
        "    predictions = descent.predict(x)\n",
        "\n",
        "    assert gradient.shape[0] == dimension, f'Gradient failed for descent {descent_name}'\n",
        "    assert diff.shape[0] == dimension, f'Weights failed for descent {descent_name}'\n",
        "    assert predictions.shape == y.shape, f'Prediction failed for descent {descent_name}'"
      ],
      "execution_count": 323,
      "outputs": []
    },
    {
      "cell_type": "code",
      "metadata": {
        "id": "steJpwHdsqCj"
      },
      "source": [
        "# LinearRegression\n",
        "\n",
        "max_iter = 100\n",
        "tolerance = 0\n",
        "\n",
        "descent_config = {\n",
        "    'descent_name': 'stochastic',\n",
        "    'kwargs': {\n",
        "        'dimension': dimension,\n",
        "        'batch_size': 10\n",
        "    }\n",
        "}\n",
        "\n",
        "regression = LinearRegression(\n",
        "    descent_config=descent_config,\n",
        "    tolerance=tolerance,\n",
        "    max_iter=max_iter\n",
        ")\n",
        "\n",
        "regression.fit(x, y)\n",
        "\n",
        "assert len(regression.loss_history) == max_iter + 1, 'Loss history failed'"
      ],
      "execution_count": 326,
      "outputs": []
    },
    {
      "cell_type": "markdown",
      "metadata": {
        "id": "_4CcdMH-sqCk"
      },
      "source": [
        "Если ваше решение прошло все тесты локально, то теперь пришло время протестировать его в [Яндекс Контесте](https://contest.yandex.ru/contest/29933/enter/).\n",
        "\n",
        "Для каждой задачи из контеста вставьте ссылку на успешную посылку:\n",
        "\n",
        "* **VanillaGradientDescent**:\n",
        "\n",
        "\n",
        "* **StochasticDescent**:\n",
        "\n",
        "\n",
        "* **MomentumDescent**:\n",
        "\n",
        "\n",
        "* **Adam**:\n",
        "\n",
        "\n",
        "* **LinearRegression**:"
      ]
    },
    {
      "cell_type": "markdown",
      "metadata": {
        "id": "ZpINQSD3sqCk"
      },
      "source": [
        "## Задание 4. Работа с данными (1 балл)\n",
        "\n",
        "Мы будем использовать датасет объявлений по продаже машин на немецком Ebay. В задаче предсказания целевой переменной для нас будет являться цена."
      ]
    },
    {
      "cell_type": "markdown",
      "metadata": {
        "id": "8GSjs9kEsqCk"
      },
      "source": [
        "* Постройте график распределения целевой переменной в данных, подумайте, нужно ли заменить её на логарифм. Присутствуют ли выбросы в данных с аномальной ценой? Если да, то удалите их из данных.\n",
        "\n",
        "* Проведите исследование данных:\n",
        "    * Проанализируйте тип столбцов, постройте графики зависимости целевой переменной от признака, распределения значений признака;\n",
        "    * Подумайте, какие признаки могут быть полезными на основе этих графиков, обработайте выбросы;\n",
        "    * Подумайте, какие трансформации признаков из известных вам будет уместно применить;\n",
        "    * Разделите полезные признаки на категориальные, вещественные и те, которые не надо предобрабатывать.\n",
        "* Разделите данные на обучающую, валидационную и тестовую выборки в отношении 8:1:1."
      ]
    },
    {
      "cell_type": "code",
      "metadata": {
        "id": "XGMa6YSMsqCk"
      },
      "source": [
        "import numpy as np\n",
        "import pandas as pd\n",
        "\n",
        "import matplotlib.pyplot as plt\n",
        "import seaborn as sns\n",
        "\n",
        "from descents import get_descent\n",
        "from linear_regression import LinearRegression\n",
        "\n",
        "sns.set(style='darkgrid')"
      ],
      "execution_count": 517,
      "outputs": []
    },
    {
      "cell_type": "code",
      "metadata": {
        "id": "0I1j7MuusqCl"
      },
      "source": [
        "data = pd.read_csv('autos.csv')"
      ],
      "execution_count": 381,
      "outputs": []
    },
    {
      "cell_type": "code",
      "metadata": {
        "id": "Xzx9eWy2sqCl",
        "colab": {
          "base_uri": "https://localhost:8080/"
        },
        "outputId": "e1c159f0-5225-493e-9bae-3f5069d2694c"
      },
      "source": [
        "data['price']"
      ],
      "execution_count": 382,
      "outputs": [
        {
          "output_type": "execute_result",
          "data": {
            "text/plain": [
              "0          1500\n",
              "1          3600\n",
              "2           650\n",
              "3          2200\n",
              "4          2000\n",
              "          ...  \n",
              "241185     7900\n",
              "241186     3200\n",
              "241187     1199\n",
              "241188     9200\n",
              "241189    28990\n",
              "Name: price, Length: 241190, dtype: int64"
            ]
          },
          "metadata": {},
          "execution_count": 382
        }
      ]
    },
    {
      "cell_type": "markdown",
      "metadata": {
        "id": "8nFD3Bt7sqCl"
      },
      "source": [
        "Колонки в данных:\n",
        "\n",
        "* `brand` - название бренда автомобиля\n",
        "* `model` - название модели автомобиля\n",
        "* `vehicleType` - тип транспортного средства\n",
        "* `gearbox` - тип трансмисcии\n",
        "* `fuelType` - какой вид топлива использует автомобиль\n",
        "* `notRepairedDamage` - есть ли в автомобиле неисправность, которая еще не устранена\n",
        "* `powerPS` - мощность автомобиля в PS (метрическая лошадиная сила)\n",
        "* `kilometer` - сколько километров проехал автомобиль, пробег\n",
        "* `autoAgeMonths` - возраст автомобиля в месяцах\n",
        "\n",
        "\n",
        "* `price` - цена, указанная в объявлении о продаже автомобиля (целевая переменная)"
      ]
    },
    {
      "cell_type": "code",
      "metadata": {
        "id": "ilEoJeiQo715"
      },
      "source": [
        "def EmplaceBinaryValuesWithOnes(data, col, numeric):\n",
        "    if len(data[col].unique()) > 2:\n",
        "        return\n",
        "\n",
        "    data[col + '_num'] = -1\n",
        "    data.loc[data[col] == data[col][0], col + '_num'] = 1\n",
        "    numeric += [col + '_num']\n",
        "\n",
        "\n",
        "def EmplaceLowCountValues(data, col):\n",
        "    grouped = data.groupby(col, as_index=False).count()\n",
        "    low_in_col = list(grouped[grouped['price'] < 500][col])\n",
        "    for val in low_in_col:\n",
        "        data.loc[data[col] == val, col] = 'other'\n",
        "\n",
        "\n",
        "categorical = []\n",
        "numeric = []\n",
        "\n",
        "for col in data.columns:\n",
        "    if data[col].dtype == int:\n",
        "        if col != 'price': # target\n",
        "            numeric += [col]\n",
        "        continue\n",
        "\n",
        "    if len(data[col].unique()) < 3:\n",
        "        EmplaceBinaryValuesWithOnes(data, col, numeric)\n",
        "        continue\n",
        "\n",
        "    categorical += [col]\n",
        "    EmplaceLowCountValues(data, col)"
      ],
      "execution_count": 383,
      "outputs": []
    },
    {
      "cell_type": "code",
      "metadata": {
        "id": "0HeRlqobNBCr"
      },
      "source": [
        "from sklearn.utils import shuffle\n",
        "\n",
        "data = shuffle(data)"
      ],
      "execution_count": 384,
      "outputs": []
    },
    {
      "cell_type": "code",
      "metadata": {
        "id": "hJurR4rnsqCl"
      },
      "source": [
        "data['bias'] = 1\n",
        "other = ['bias']\n",
        "\n",
        "x = data[categorical + numeric + other]\n",
        "y = np.array(data['price'])"
      ],
      "execution_count": 385,
      "outputs": []
    },
    {
      "cell_type": "code",
      "metadata": {
        "id": "2WbPezESsqCm"
      },
      "source": [
        "from sklearn.compose import ColumnTransformer\n",
        "from sklearn.preprocessing import OneHotEncoder\n",
        "from sklearn.preprocessing import StandardScaler\n",
        "\n",
        "\n",
        "column_transformer = ColumnTransformer([\n",
        "    ('ohe', OneHotEncoder(handle_unknown='ignore'), categorical),\n",
        "    ('scaling', StandardScaler(), numeric),\n",
        "    ('other',  'passthrough', other)\n",
        "])\n",
        "\n",
        "x = (column_transformer.fit_transform(x)).toarray()"
      ],
      "execution_count": 386,
      "outputs": []
    },
    {
      "cell_type": "code",
      "metadata": {
        "id": "cOeemRHGsqCm"
      },
      "source": [
        "train_size = data.shape[0] * 8 // 10\n",
        "val_size = data.shape[0] // 10\n",
        "x_train = x[:train_size]\n",
        "y_train = y[:train_size]\n",
        "x_val = x[train_size:train_size + val_size]\n",
        "y_val = y[train_size:train_size + val_size]\n",
        "x_test = x[train_size + val_size:]\n",
        "y_test = y[train_size + val_size:]"
      ],
      "execution_count": 387,
      "outputs": []
    },
    {
      "cell_type": "markdown",
      "metadata": {
        "id": "RFhoGFbasqCm"
      },
      "source": [
        "## Задание 5. Сравнение методов градиентного спуска (2 балла)\n",
        "\n",
        "В этом задании вам предстоит сравнить методы градиентного спуска на подготовленных вами данных из предыдущего задания."
      ]
    },
    {
      "cell_type": "code",
      "metadata": {
        "colab": {
          "base_uri": "https://localhost:8080/"
        },
        "id": "M_GP4r4tDgKZ",
        "outputId": "372f941e-b846-4f14-a7c7-4e3193e1bfac"
      },
      "source": [
        "print('constant RMSE =',  np.sqrt(np.transpose(y_test - y_test.mean()).\n",
        "                                  dot(y_test - y_test.mean()) / y_test.shape[0]))"
      ],
      "execution_count": 388,
      "outputs": [
        {
          "output_type": "stream",
          "name": "stdout",
          "text": [
            "constant RMSE = 8041.486858702302\n"
          ]
        }
      ]
    },
    {
      "cell_type": "code",
      "metadata": {
        "id": "wr0kikQwI2YB"
      },
      "source": [
        "def Train(descent_name, lambd, tolerance, max_iter, x_train, y_train):\n",
        "    descent_config = {\n",
        "        'descent_name': descent_name,\n",
        "        'kwargs': {\n",
        "            'dimension': x_train.shape[1],\n",
        "            'lambda_': lambd\n",
        "        }\n",
        "    }\n",
        "\n",
        "    regression = LinearRegression(\n",
        "        descent_config=descent_config,\n",
        "        tolerance=tolerance,\n",
        "        max_iter=max_iter\n",
        "    )\n",
        "    \n",
        "    regression.fit(x_train, y_train)\n",
        "    \n",
        "    return regression"
      ],
      "execution_count": 401,
      "outputs": []
    },
    {
      "cell_type": "code",
      "metadata": {
        "colab": {
          "base_uri": "https://localhost:8080/"
        },
        "id": "RoKyq0sdCV1B",
        "outputId": "09cf16e5-c6cd-4b18-bc74-f10d7235d1b8"
      },
      "source": [
        "import time\n",
        "\n",
        "lambdas = [1e5, 1e4, 1e3, 1e2, 1e1, 1, 1e-1, 1e-2, 1e-3]\n",
        "max_iter = int(1e3)\n",
        "tolerance = 1e-8\n",
        "\n",
        "for descent_name in ['full', 'stochastic', 'momentum', 'adam']:\n",
        "    print('Descent', descent_name, end=':\\n')\n",
        "    for lambd in lambdas:\n",
        "        if lambd > 10 and descent_name != 'adam':\n",
        "            continue\n",
        "        \n",
        "        start = time.time()\n",
        "\n",
        "        regression = Train(descent_name, lambd, tolerance,\n",
        "                           max_iter, x_train, y_train)\n",
        "        end = time.time()\n",
        "\n",
        "        print('lambda: ', lambd, ', RMSE loss: ', \n",
        "            np.sqrt(regression.calc_loss(x_test, y_test)),\n",
        "            ', education time: ', end - start, sep='')\n",
        "\n",
        "    print()"
      ],
      "execution_count": 533,
      "outputs": [
        {
          "output_type": "stream",
          "name": "stdout",
          "text": [
            "Descent full:\n",
            "lambda: 10.0, RMSE loss: 8.238572312751303e+106, education time: 68.11126589775085\n",
            "lambda: 1, RMSE loss: 4334.8358082311215, education time: 67.95595645904541\n",
            "lambda: 0.1, RMSE loss: 4629.011388673984, education time: 67.9197940826416\n",
            "lambda: 0.01, RMSE loss: 5014.460947614057, education time: 68.00269937515259\n",
            "lambda: 0.001, RMSE loss: 7178.963124592825, education time: 68.07967877388\n",
            "\n",
            "Descent stochastic:\n",
            "lambda: 10.0, RMSE loss: 6.492991957343073e+116, education time: 21.894602060317993\n",
            "lambda: 1, RMSE loss: 4366.889171886498, education time: 21.804616689682007\n",
            "lambda: 0.1, RMSE loss: 4633.546355847842, education time: 21.807295083999634\n",
            "lambda: 0.01, RMSE loss: 5008.999262786137, education time: 21.77726411819458\n",
            "lambda: 0.001, RMSE loss: 7173.069458081847, education time: 21.861521244049072\n",
            "\n",
            "Descent momentum:\n",
            "lambda: 10.0, RMSE loss: 1.4711445757475468e+40, education time: 67.8332040309906\n",
            "lambda: 1, RMSE loss: 4206.770229304779, education time: 67.95969796180725\n",
            "lambda: 0.1, RMSE loss: 4334.156303254991, education time: 68.00926852226257\n",
            "lambda: 0.01, RMSE loss: 4628.823820401331, education time: 67.95002961158752\n",
            "lambda: 0.001, RMSE loss: 5008.467740474905, education time: 67.94765567779541\n",
            "\n",
            "Descent adam:\n",
            "lambda: 100000.0, RMSE loss: 4199.197992653362, education time: 68.21340942382812\n",
            "lambda: 10000.0, RMSE loss: 4199.208528506796, education time: 67.99691677093506\n",
            "lambda: 1000.0, RMSE loss: 4198.955264509984, education time: 67.85295009613037\n",
            "lambda: 100.0, RMSE loss: 4325.738316740144, education time: 67.95370841026306\n",
            "lambda: 10.0, RMSE loss: 6478.724432350608, education time: 68.45132803916931\n",
            "lambda: 1, RMSE loss: 7854.382317030944, education time: 68.17412400245667\n",
            "lambda: 0.1, RMSE loss: 8022.675937585384, education time: 67.97217679023743\n",
            "lambda: 0.01, RMSE loss: 8039.856938701972, education time: 68.07370591163635\n",
            "lambda: 0.001, RMSE loss: 8041.758828494755, education time: 68.01796388626099\n",
            "\n"
          ]
        }
      ]
    },
    {
      "cell_type": "markdown",
      "metadata": {
        "id": "zvKkWlA0KfSh"
      },
      "source": [
        "Как видно лучше всего справились adam и momentum, а лучший результат в скорости показал stochastic (около 3 раз быстрее).\n",
        "\n",
        "ПС Стоит заметить, что начинаю я с коэфицента при биасе равному среднему значению (по сути двигаю y)."
      ]
    },
    {
      "cell_type": "markdown",
      "metadata": {
        "id": "c5b2V1W5sqCm"
      },
      "source": [
        "### Задание 5.1. Подбор оптимальной длины шага (1 балл)\n",
        "\n",
        "Подберите по валидационной выборке наилучшую длину шага $\\lambda$ для каждого метода с точки зрения ошибки. Для этого сделайте перебор по логарифмической сетке. Для каждого метода посчитайте ошибку на обучающей и тестовой выборках, посчитайте качество по метрике $R^2$, сохраните количество итераций до сходимости.\n",
        "\n",
        "Все параметры кроме `lambda_` стоит выставить равным значениям по умолчанию."
      ]
    },
    {
      "cell_type": "code",
      "metadata": {
        "id": "C_nYX7dVsqCm",
        "colab": {
          "base_uri": "https://localhost:8080/"
        },
        "outputId": "a676bbc9-932e-4637-f2e8-905f5c9ed0f6"
      },
      "source": [
        "best_lambdas = [0.0] * 4\n",
        "best_scores = [float(1e15)] * 4\n",
        "\n",
        "for i, descent_name in enumerate(['full', 'stochastic', 'momentum', 'adam']):\n",
        "    for lambd in lambdas:\n",
        "        if lambd > 10 and descent_name != 'adam':\n",
        "            continue\n",
        "\n",
        "        regression = Train(descent_name, lambd, tolerance,\n",
        "                           max_iter, x_train, y_train)\n",
        "\n",
        "        if best_scores[i] > regression.calc_loss(x_val, y_val):\n",
        "            best_lambdas[i] = lambd\n",
        "            best_scores[i] = regression.calc_loss(x_val, y_val)\n",
        "\n",
        "    print('Descent ', descent_name, ', best score RMSE (val): ',\n",
        "          np.sqrt(best_scores[i]), ', best_lambdas_val: ',\n",
        "          best_lambdas[i], sep='')"
      ],
      "execution_count": 534,
      "outputs": [
        {
          "output_type": "stream",
          "name": "stdout",
          "text": [
            "Descent full, best score RMSE (val): 4345.338967869316, best_lambdas_val: 1\n",
            "Descent stochastic, best score RMSE (val): 4390.182151292503, best_lambdas_val: 1\n",
            "Descent momentum, best score RMSE (val): 4160.441468834695, best_lambdas_val: 1\n",
            "Descent adam, best score RMSE (val): 4150.772481177128, best_lambdas_val: 10000.0\n"
          ]
        }
      ]
    },
    {
      "cell_type": "markdown",
      "metadata": {
        "id": "z4anfmiUsqCm"
      },
      "source": [
        "### Задание 5.2. Сравнение методов (1 балла) \n",
        "\n",
        "Постройте график зависимости ошибки на обучающей выборке от номера итерации (все методы на одном графике).\n",
        "\n",
        "Посмотрите на получившиеся результаты (таблички с метриками и график). Сравните методы между собой.\n",
        "\n",
        "Добавлю от себя: буду использовать лучшие лямбда из прошлого пункта."
      ]
    },
    {
      "cell_type": "code",
      "metadata": {
        "id": "_6zTSaNqsqCn"
      },
      "source": [
        "RMSE_losses = list(list())\n",
        "\n",
        "for i, descent_name in enumerate(['full', 'stochastic', 'momentum', 'adam']):\n",
        "    regression = Train(descent_name, best_lambdas[i], tolerance,\n",
        "                        max_iter, x_train, y_train)\n",
        "    \n",
        "    RMSE_losses += [np.sqrt(regression.loss_history)]"
      ],
      "execution_count": 535,
      "outputs": []
    },
    {
      "cell_type": "code",
      "metadata": {
        "colab": {
          "base_uri": "https://localhost:8080/",
          "height": 660
        },
        "id": "TNuN74sQiIZj",
        "outputId": "d5728e2c-7138-49f2-8471-ed39293b72d8"
      },
      "source": [
        "import pylab\n",
        "\n",
        "pylab.subplot(1, 1, 1)\n",
        "for i, descent_name in enumerate(['full', 'stochastic', 'momentum', 'adam']):\n",
        "    pylab.plot(RMSE_losses[i], label=descent_name)\n",
        "plt.gcf().set_size_inches(16, 10)\n",
        "plt.yscale('log')\n",
        "plt.xscale('log')\n",
        "plt.xlabel('epoch')\n",
        "plt.ylabel('RMSE')\n",
        "plt.title('Losses')\n",
        "plt.axis([0, max_iter, 4000, 30000])\n",
        "plt.legend()\n",
        "plt.show()"
      ],
      "execution_count": 542,
      "outputs": [
        {
          "output_type": "stream",
          "name": "stderr",
          "text": [
            "/usr/local/lib/python3.7/dist-packages/ipykernel_launcher.py:12: UserWarning: Attempted to set non-positive left xlim on a log-scaled axis.\n",
            "Invalid limit will be ignored.\n",
            "  if sys.path[0] == '':\n"
          ]
        },
        {
          "output_type": "display_data",
          "data": {
            "image/png": "[encoded data removed]",
            "text/plain": [
              "<Figure size 1152x720 with 1 Axes>"
            ]
          },
          "metadata": {}
        }
      ]
    },
    {
      "cell_type": "markdown",
      "metadata": {
        "id": "lnkvAjpSsqCn"
      },
      "source": [
        "Вспоминаем экз по англу. Как там графики описывать надо было :-)\n",
        "\n",
        "According to the graph, all graphics dramaticly rising in first 2-3 iterations.\n",
        "\n",
        "Заметно, что full сходиться (становяться близки к итоговому значению) быстрее всех (по итерациям), где-то на ровне momentum и stochastic. Однако у stochastic есть скачки, которые объяснимы плохим батчем. Adam дольше всех, хотя и эффиктивнее.\n",
        "\n",
        "Видно, что adam и momentum колеблются довольно сильно, что можно объяснить шагами оптимизации. "
      ]
    },
    {
      "cell_type": "markdown",
      "metadata": {
        "id": "-B8cRWeksqCn"
      },
      "source": [
        "## Задание 6. Стохастический градиентный спуск и размер батча (1 балл)\n",
        "\n",
        "В этом задании вам предстоит исследовать влияние размера батча на работу стохастического градиентного спуска. \n",
        "\n",
        "* Сделайте по несколько запусков (например, k = 10) стохастического градиентного спуска на обучающей выборке для каждого размера батча из перебираемого списка. Замерьте время в секундах и количество итераций до сходимости. Посчитайте среднее этих значений для каждого размера батча.\n",
        "* Постройте график зависимости количества шагов до сходимости от размера батча.\n",
        "* Постройте график зависимости времени до сходимости от размера батча.\n",
        "\n",
        "Посмотрите на получившиеся результаты. Какие выводы можно сделать про подбор размера батча для стохастического градиентного спуска?"
      ]
    },
    {
      "cell_type": "code",
      "metadata": {
        "id": "I1wUNII1noSO"
      },
      "source": [
        "def TrainStochastic(batch_size, lambd, tolerance, max_iter, x_train, y_train):\n",
        "    descent_config = {\n",
        "        'descent_name': 'stochastic',\n",
        "        'kwargs': {\n",
        "            'dimension': x_train.shape[1],\n",
        "            'lambda_': lambd,\n",
        "            'batch_size': batch_size\n",
        "        }\n",
        "    }\n",
        "\n",
        "    regression = LinearRegression(\n",
        "        descent_config=descent_config,\n",
        "        tolerance=tolerance,\n",
        "        max_iter=max_iter\n",
        "    )\n",
        "    \n",
        "    regression.fit(x_train, y_train)\n",
        "    \n",
        "    return regression"
      ],
      "execution_count": 544,
      "outputs": []
    },
    {
      "cell_type": "code",
      "metadata": {
        "id": "rTYZpJLHsqCn",
        "colab": {
          "base_uri": "https://localhost:8080/",
          "height": 374
        },
        "outputId": "19a42cf5-46a1-40ce-a37f-9af526cd9159"
      },
      "source": [
        "batch_sizes = list(range(5, 40, 10)) + list(range(45, 500, 50))\n",
        "tolerance = 1\n",
        "max_iter = 10000\n",
        "education_time = []\n",
        "iterations = []\n",
        "\n",
        "for batch_size in batch_sizes:\n",
        "    start = time.time()\n",
        "\n",
        "    regression = TrainStochastic(batch_size, best_lambdas[1], tolerance,\n",
        "                                 max_iter, x_train, y_train)\n",
        "    \n",
        "    education_time += [time.time() - start]\n",
        "    iterations += [len(regression.loss_history) - 1]\n",
        "    if iterations[-1] < max_iter:\n",
        "        print(iterations[-1])"
      ],
      "execution_count": 546,
      "outputs": [
        {
          "output_type": "error",
          "ename": "KeyboardInterrupt",
          "evalue": "ignored",
          "traceback": [
            "\u001b[0;31m---------------------------------------------------------------------------\u001b[0m",
            "\u001b[0;31mKeyboardInterrupt\u001b[0m                         Traceback (most recent call last)",
            "\u001b[0;32m<ipython-input-546-5e47d4458e58>\u001b[0m in \u001b[0;36m<module>\u001b[0;34m()\u001b[0m\n\u001b[1;32m      9\u001b[0m \u001b[0;34m\u001b[0m\u001b[0m\n\u001b[1;32m     10\u001b[0m     regression = TrainStochastic(batch_size, best_lambdas[1], tolerance,\n\u001b[0;32m---> 11\u001b[0;31m                                  max_iter, x_train, y_train)\n\u001b[0m\u001b[1;32m     12\u001b[0m \u001b[0;34m\u001b[0m\u001b[0m\n\u001b[1;32m     13\u001b[0m     \u001b[0meducation_time\u001b[0m \u001b[0;34m+=\u001b[0m \u001b[0;34m[\u001b[0m\u001b[0mtime\u001b[0m\u001b[0;34m.\u001b[0m\u001b[0mtime\u001b[0m\u001b[0;34m(\u001b[0m\u001b[0;34m)\u001b[0m \u001b[0;34m-\u001b[0m \u001b[0mstart\u001b[0m\u001b[0;34m]\u001b[0m\u001b[0;34m\u001b[0m\u001b[0;34m\u001b[0m\u001b[0m\n",
            "\u001b[0;32m<ipython-input-544-13b7d56d78ed>\u001b[0m in \u001b[0;36mTrainStochastic\u001b[0;34m(batch_size, lambd, tolerance, max_iter, x_train, y_train)\u001b[0m\n\u001b[1;32m     15\u001b[0m     )\n\u001b[1;32m     16\u001b[0m \u001b[0;34m\u001b[0m\u001b[0m\n\u001b[0;32m---> 17\u001b[0;31m     \u001b[0mregression\u001b[0m\u001b[0;34m.\u001b[0m\u001b[0mfit\u001b[0m\u001b[0;34m(\u001b[0m\u001b[0mx_train\u001b[0m\u001b[0;34m,\u001b[0m \u001b[0my_train\u001b[0m\u001b[0;34m)\u001b[0m\u001b[0;34m\u001b[0m\u001b[0;34m\u001b[0m\u001b[0m\n\u001b[0m\u001b[1;32m     18\u001b[0m \u001b[0;34m\u001b[0m\u001b[0m\n\u001b[1;32m     19\u001b[0m     \u001b[0;32mreturn\u001b[0m \u001b[0mregression\u001b[0m\u001b[0;34m\u001b[0m\u001b[0;34m\u001b[0m\u001b[0m\n",
            "\u001b[0;32m/content/linear_regression.py\u001b[0m in \u001b[0;36mfit\u001b[0;34m(self, x, y)\u001b[0m\n\u001b[1;32m     38\u001b[0m         \u001b[0;32mfor\u001b[0m \u001b[0miter\u001b[0m \u001b[0;32min\u001b[0m \u001b[0mrange\u001b[0m\u001b[0;34m(\u001b[0m\u001b[0;36m1\u001b[0m\u001b[0;34m,\u001b[0m \u001b[0mself\u001b[0m\u001b[0;34m.\u001b[0m\u001b[0mmax_iter\u001b[0m \u001b[0;34m+\u001b[0m \u001b[0;36m1\u001b[0m\u001b[0;34m)\u001b[0m\u001b[0;34m:\u001b[0m\u001b[0;34m\u001b[0m\u001b[0;34m\u001b[0m\u001b[0m\n\u001b[1;32m     39\u001b[0m             \u001b[0mdiff\u001b[0m \u001b[0;34m=\u001b[0m \u001b[0mself\u001b[0m\u001b[0;34m.\u001b[0m\u001b[0mdescent\u001b[0m\u001b[0;34m.\u001b[0m\u001b[0mupdate_weights\u001b[0m\u001b[0;34m(\u001b[0m\u001b[0mself\u001b[0m\u001b[0;34m.\u001b[0m\u001b[0mdescent\u001b[0m\u001b[0;34m.\u001b[0m\u001b[0mcalc_gradient\u001b[0m\u001b[0;34m(\u001b[0m\u001b[0mx\u001b[0m\u001b[0;34m,\u001b[0m \u001b[0my\u001b[0m\u001b[0;34m)\u001b[0m\u001b[0;34m)\u001b[0m\u001b[0;34m\u001b[0m\u001b[0;34m\u001b[0m\u001b[0m\n\u001b[0;32m---> 40\u001b[0;31m             \u001b[0mself\u001b[0m\u001b[0;34m.\u001b[0m\u001b[0mloss_history\u001b[0m \u001b[0;34m+=\u001b[0m \u001b[0;34m[\u001b[0m\u001b[0mself\u001b[0m\u001b[0;34m.\u001b[0m\u001b[0mcalc_loss\u001b[0m\u001b[0;34m(\u001b[0m\u001b[0mx\u001b[0m\u001b[0;34m,\u001b[0m \u001b[0my\u001b[0m\u001b[0;34m)\u001b[0m\u001b[0;34m]\u001b[0m\u001b[0;34m\u001b[0m\u001b[0;34m\u001b[0m\u001b[0m\n\u001b[0m\u001b[1;32m     41\u001b[0m             \u001b[0;32mif\u001b[0m \u001b[0mnp\u001b[0m\u001b[0;34m.\u001b[0m\u001b[0misnan\u001b[0m\u001b[0;34m(\u001b[0m\u001b[0mdiff\u001b[0m\u001b[0;34m)\u001b[0m\u001b[0;34m.\u001b[0m\u001b[0many\u001b[0m\u001b[0;34m(\u001b[0m\u001b[0;34m)\u001b[0m \u001b[0;32mor\u001b[0m \u001b[0mdiff\u001b[0m\u001b[0;34m.\u001b[0m\u001b[0mdot\u001b[0m\u001b[0;34m(\u001b[0m\u001b[0mdiff\u001b[0m\u001b[0;34m)\u001b[0m \u001b[0;34m<\u001b[0m \u001b[0mself\u001b[0m\u001b[0;34m.\u001b[0m\u001b[0mtolerance\u001b[0m\u001b[0;34m:\u001b[0m\u001b[0;34m\u001b[0m\u001b[0;34m\u001b[0m\u001b[0m\n\u001b[1;32m     42\u001b[0m                 \u001b[0;32mbreak\u001b[0m\u001b[0;34m\u001b[0m\u001b[0;34m\u001b[0m\u001b[0m\n",
            "\u001b[0;32m/content/linear_regression.py\u001b[0m in \u001b[0;36mcalc_loss\u001b[0;34m(self, x, y)\u001b[0m\n\u001b[1;32m     56\u001b[0m         \u001b[0;34m:\u001b[0m\u001b[0mparam\u001b[0m \u001b[0my\u001b[0m\u001b[0;34m:\u001b[0m \u001b[0mtargets\u001b[0m \u001b[0marray\u001b[0m\u001b[0;34m\u001b[0m\u001b[0;34m\u001b[0m\u001b[0m\n\u001b[1;32m     57\u001b[0m         \"\"\"\n\u001b[0;32m---> 58\u001b[0;31m         \u001b[0;32mreturn\u001b[0m \u001b[0mself\u001b[0m\u001b[0;34m.\u001b[0m\u001b[0mdescent\u001b[0m\u001b[0;34m.\u001b[0m\u001b[0mcalc_loss\u001b[0m\u001b[0;34m(\u001b[0m\u001b[0mx\u001b[0m\u001b[0;34m,\u001b[0m \u001b[0my\u001b[0m\u001b[0;34m)\u001b[0m\u001b[0;34m\u001b[0m\u001b[0;34m\u001b[0m\u001b[0m\n\u001b[0m",
            "\u001b[0;32m/content/descents.py\u001b[0m in \u001b[0;36mcalc_loss\u001b[0;34m(self, x, y)\u001b[0m\n\u001b[1;32m     75\u001b[0m         \u001b[0;34m:\u001b[0m\u001b[0;32mreturn\u001b[0m\u001b[0;34m:\u001b[0m \u001b[0mloss\u001b[0m\u001b[0;34m:\u001b[0m \u001b[0mfloat\u001b[0m\u001b[0;34m\u001b[0m\u001b[0;34m\u001b[0m\u001b[0m\n\u001b[1;32m     76\u001b[0m         \"\"\"\n\u001b[0;32m---> 77\u001b[0;31m         \u001b[0mdiff_predict\u001b[0m \u001b[0;34m=\u001b[0m \u001b[0mself\u001b[0m\u001b[0;34m.\u001b[0m\u001b[0mpredict\u001b[0m\u001b[0;34m(\u001b[0m\u001b[0mx\u001b[0m\u001b[0;34m)\u001b[0m \u001b[0;34m-\u001b[0m \u001b[0my\u001b[0m\u001b[0;34m\u001b[0m\u001b[0;34m\u001b[0m\u001b[0m\n\u001b[0m\u001b[1;32m     78\u001b[0m         \u001b[0;32mreturn\u001b[0m \u001b[0mdiff_predict\u001b[0m\u001b[0;34m.\u001b[0m\u001b[0mdot\u001b[0m\u001b[0;34m(\u001b[0m\u001b[0mnp\u001b[0m\u001b[0;34m.\u001b[0m\u001b[0mtranspose\u001b[0m\u001b[0;34m(\u001b[0m\u001b[0mdiff_predict\u001b[0m\u001b[0;34m)\u001b[0m\u001b[0;34m)\u001b[0m \u001b[0;34m/\u001b[0m \u001b[0my\u001b[0m\u001b[0;34m.\u001b[0m\u001b[0mshape\u001b[0m\u001b[0;34m[\u001b[0m\u001b[0;36m0\u001b[0m\u001b[0;34m]\u001b[0m\u001b[0;34m\u001b[0m\u001b[0;34m\u001b[0m\u001b[0m\n\u001b[1;32m     79\u001b[0m \u001b[0;34m\u001b[0m\u001b[0m\n",
            "\u001b[0;32m/content/descents.py\u001b[0m in \u001b[0;36mpredict\u001b[0;34m(self, x)\u001b[0m\n\u001b[1;32m     84\u001b[0m         \u001b[0;34m:\u001b[0m\u001b[0;32mreturn\u001b[0m\u001b[0;34m:\u001b[0m \u001b[0mprediction\u001b[0m\u001b[0;34m:\u001b[0m \u001b[0mnp\u001b[0m\u001b[0;34m.\u001b[0m\u001b[0mndarray\u001b[0m\u001b[0;34m\u001b[0m\u001b[0;34m\u001b[0m\u001b[0m\n\u001b[1;32m     85\u001b[0m         \"\"\"\n\u001b[0;32m---> 86\u001b[0;31m         \u001b[0;32mreturn\u001b[0m \u001b[0mx\u001b[0m\u001b[0;34m.\u001b[0m\u001b[0mdot\u001b[0m\u001b[0;34m(\u001b[0m\u001b[0mself\u001b[0m\u001b[0;34m.\u001b[0m\u001b[0mw\u001b[0m\u001b[0;34m)\u001b[0m\u001b[0;34m\u001b[0m\u001b[0;34m\u001b[0m\u001b[0m\n\u001b[0m\u001b[1;32m     87\u001b[0m \u001b[0;34m\u001b[0m\u001b[0m\n\u001b[1;32m     88\u001b[0m \u001b[0;34m\u001b[0m\u001b[0m\n",
            "\u001b[0;31mKeyboardInterrupt\u001b[0m: "
          ]
        }
      ]
    },
    {
      "cell_type": "code",
      "metadata": {
        "id": "5rBMcmNkuWMY"
      },
      "source": [
        "iterations, education_time"
      ],
      "execution_count": null,
      "outputs": []
    },
    {
      "cell_type": "markdown",
      "metadata": {
        "id": "HTQlLOPisqCn"
      },
      "source": [
        "`### ваше решение тут ###`"
      ]
    },
    {
      "cell_type": "markdown",
      "metadata": {
        "id": "P2RyO6T3sqCn"
      },
      "source": [
        "## Задание 7. Регуляризация (1 балл)\n",
        "\n",
        "В этом задании вам предстоит исследовать влияние регуляризации на работу различных методов градиентного спуска. Напомним, регуляризация - это добавка к функции потерь, которая штрафует за норму весов. Мы будем использовать l2 регуляризацию, таким образом функция потерь приобретает следующий вид:\n",
        "\n",
        "$$\n",
        "    Q(w) = \\dfrac{1}{\\ell} \\sum\\limits_{i=1}^{\\ell} (a_w(x_i) - y_i)^2 + \\dfrac{\\mu}{2} \\| w \\|^2\n",
        "$$"
      ]
    },
    {
      "cell_type": "markdown",
      "metadata": {
        "id": "Aheso9zHsqCn"
      },
      "source": [
        "Допишите класс **BaseDescentReg** в файле `descents.py`.\n",
        "\n",
        "Протестируйте ваше решение в контесте.\n",
        "\n",
        "Вставьте ссылку на успешную посылку:\n",
        "\n",
        "* **BaseDescentReg**:"
      ]
    },
    {
      "cell_type": "markdown",
      "metadata": {
        "id": "glvGN3f6sqCo"
      },
      "source": [
        "Найдите лучшие параметры обучения с регуляризацией аналогично 5 заданию. Будем подбирать длину шага $\\lambda$ (`lambda_`) и коэффициент регуляризации $\\mu$ (`mu`).\n",
        "\n",
        "Сравните для каждого метода результаты с регуляризацией и без регуляризации (нужно опять сохранить ошибку и качество по метрике $R^2$ на обучающей и тестовой выборках и количество итераций до сходимости).\n",
        "\n",
        "Постройте для каждого метода график со значениями функции потерь MSE с регуляризацией и без регуляризации (всего должно получиться 4 графика).\n",
        "\n",
        "Посмотрите на получившиеся результаты. Какие можно сделать выводы, как регуляризация влияет на сходимость? Как изменилось качество на обучающей выборке? На тестовой? Чем вы можете объяснить это?"
      ]
    },
    {
      "cell_type": "code",
      "metadata": {
        "id": "SkXk9OVmsqCo"
      },
      "source": [
        "# YOUR CODE:"
      ],
      "execution_count": null,
      "outputs": []
    },
    {
      "cell_type": "markdown",
      "metadata": {
        "id": "wJ5iU1e0sqCo"
      },
      "source": [
        "`### ваше решение тут ###`"
      ]
    },
    {
      "cell_type": "markdown",
      "metadata": {
        "id": "jFfUNEUHsqCo"
      },
      "source": [
        "## Задание 8. Альтернативная функция потерь (1 балл)\n",
        "\n",
        "В этом задании вам предстоит использовать другую функцию потерь для нашей задачи регресии. В качестве функции потерь мы выбрали **Log-Cosh**:\n",
        "\n",
        "$$\n",
        "    L(y, a)\n",
        "    =\n",
        "    \\log\\left(\\cosh(a - y)\\right).\n",
        "$$"
      ]
    },
    {
      "cell_type": "markdown",
      "metadata": {
        "id": "fWPp8ZXzsqCo"
      },
      "source": [
        "Самостоятельно продифференцируйте данную функцию потерь чтобы найти её градиент:\n",
        "\n",
        "`### ваше решение тут ###`"
      ]
    },
    {
      "cell_type": "markdown",
      "metadata": {
        "id": "r0VQMjqmsqCo"
      },
      "source": [
        "Программно реализуйте градиентный спуск с данной функцией потерь в файле `descents.py`, обучите все четыре метода (без регуляризации) аналогично 5 заданию, сравните их качество с четырьмя методами из 5 задания."
      ]
    },
    {
      "cell_type": "code",
      "metadata": {
        "id": "xcoGHqbtsqCp"
      },
      "source": [
        "# YOUR CODE:"
      ],
      "execution_count": null,
      "outputs": []
    },
    {
      "cell_type": "markdown",
      "metadata": {
        "id": "BivGDSpqsqCp"
      },
      "source": [
        "### Социализационный бонус. (0.5 балла).\n",
        "\n",
        "Как мы знаем, осень прекрасная пора, пора гулять в парках и общаться со своими одногруппниками. Прикрепите фотографию вашей прогулки с минимум пятью одногруппниками по какому-нибудь парку или бульвару. Кратко опишите ваши впечатления."
      ]
    },
    {
      "cell_type": "markdown",
      "metadata": {
        "id": "ZX1ApEyzsqCp"
      },
      "source": [
        "`### ваша прогулка тут ###`"
      ]
    },
    {
      "cell_type": "markdown",
      "metadata": {
        "id": "rRl2XtAVsqCp"
      },
      "source": [
        "### Бонус 1. Другие методы градиентного спуска (1 балл).\n",
        "\n",
        "По желанию выберите метод градиентного спуска из следующего списка и самостоятельно реализуйте его в файле `descents.py`. Обучите линейную регрессию с помощью этого метода, сравните с методами из основной части домашнего задания.\n",
        "\n",
        "`AdaMax` (вариация Adam основанная на $l_{\\infty}$), `Nadam` (вариация Adam совмещенная с методом импульса Нестерова), `AMSGrad` (ещё одна вариация Adam)."
      ]
    },
    {
      "cell_type": "code",
      "metadata": {
        "id": "qiG6qxb-sqCp"
      },
      "source": [
        "# YOUR CODE:"
      ],
      "execution_count": null,
      "outputs": []
    },
    {
      "cell_type": "markdown",
      "metadata": {
        "id": "4CZ8PGjSsqCq"
      },
      "source": [
        "### Бонус 2. Другие функции потерь (1 балл).\n",
        "\n",
        "Аналогично 8 заданию реализуйте две функции потерь - **MAE** и **Huber**."
      ]
    },
    {
      "cell_type": "markdown",
      "metadata": {
        "id": "vq22x4UIsqCq"
      },
      "source": [
        "Самостоятельно продифференцируйте данные функции потерь, чтобы найти их градиенты:\n",
        "\n",
        "`### ваше решение тут ###`"
      ]
    },
    {
      "cell_type": "markdown",
      "metadata": {
        "id": "JxgCaliosqCq"
      },
      "source": [
        "Программно реализуйте градиентный спуск с данными функциями потерь в файле `descents.py`, обучите все четыре метода (без регуляризации) аналогично 5 заданию, сравните их качество с четырьмя методами из 5 задания.\n",
        "\n",
        "Сравните между собой *для каждого метода отдельно* качество для разных функций потерь. Какая оказалась лучше? Как вы думаете почему?"
      ]
    },
    {
      "cell_type": "code",
      "metadata": {
        "id": "eSRhn4uysqCq"
      },
      "source": [
        "# YOUR CODE:"
      ],
      "execution_count": null,
      "outputs": []
    }
  ]
}