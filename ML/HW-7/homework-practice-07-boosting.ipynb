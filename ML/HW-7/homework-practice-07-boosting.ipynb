{
 "cells": [
  {
   "cell_type": "markdown",
   "metadata": {},
   "source": [
    "# Машинное обучение, ФКН ВШЭ\n",
    "\n",
    "# Практическое задание 7. Бустинговое\n",
    "\n",
    "## Общая информация\n",
    "\n",
    "Дата выдачи: 06.12.2021\n",
    "\n",
    "Мягкий дедлайн: 18.12.2021 23:59 MSK\n",
    "\n",
    "Жёсткий дедлайн: 19.12.2021 23:59 MSK\n",
    "\n",
    "## Оценивание и штрафы\n",
    "\n",
    "Каждая из задач имеет определенную «стоимость» (указана в скобках около задачи). Максимально допустимая оценка за работу — 10 баллов.\n",
    "\n",
    "Сдавать задание после указанного срока сдачи нельзя. При выставлении неполного балла за задание в связи с наличием ошибок на усмотрение проверяющего предусмотрена возможность исправить работу на указанных в ответном письме условиях.\n",
    "\n",
    "Задание выполняется самостоятельно. «Похожие» решения считаются плагиатом и все задействованные студенты (в том числе те, у кого списали) не могут получить за него больше 0 баллов (подробнее о плагиате см. на странице курса). Если вы нашли решение какого-то из заданий (или его часть) в открытом источнике, необходимо указать ссылку на этот источник в отдельном блоке в конце вашей работы (скорее всего вы будете не единственным, кто это нашел, поэтому чтобы исключить подозрение в плагиате, необходима ссылка на источник).\n",
    "\n",
    "Неэффективная реализация кода может негативно отразиться на оценке.\n",
    "\n",
    "## Формат сдачи\n",
    "Задания сдаются через систему anytask. Посылка должна содержать:\n",
    "* Ноутбук homework-practice-07-Username.ipynb\n",
    "\n",
    "Username — ваша фамилия на латинице"
   ]
  },
  {
   "cell_type": "markdown",
   "metadata": {},
   "source": [
    "## О задании\n",
    "\n",
    "В этом задании вам предстоит вручную запрограммировать один из самых мощных алгоритмов машинного обучения — бустинг."
   ]
  },
  {
   "cell_type": "code",
   "execution_count": 1,
   "metadata": {},
   "outputs": [],
   "source": [
    "from warnings import filterwarnings\n",
    "\n",
    "import matplotlib.pyplot as plt\n",
    "import numpy as np\n",
    "import seaborn as sns\n",
    "from scipy.sparse import load_npz\n",
    "from sklearn.model_selection import train_test_split\n",
    "\n",
    "\n",
    "sns.set(style='darkgrid')\n",
    "filterwarnings('ignore')"
   ]
  },
  {
   "cell_type": "code",
   "execution_count": 2,
   "metadata": {},
   "outputs": [],
   "source": [
    "x = load_npz('x.npz')\n",
    "y = np.load('y.npy')"
   ]
  },
  {
   "cell_type": "markdown",
   "metadata": {},
   "source": [
    "Разделим на обучающую, валидационную и тестовую выборки (`random_state` оставьте равным 1337 для воспроизводимости)."
   ]
  },
  {
   "cell_type": "code",
   "execution_count": 3,
   "metadata": {},
   "outputs": [
    {
     "data": {
      "text/plain": [
       "((18825, 169), (2354, 169), (2353, 169))"
      ]
     },
     "execution_count": 3,
     "metadata": {},
     "output_type": "execute_result"
    }
   ],
   "source": [
    "x_train, x_test, y_train, y_test = train_test_split(x, y, test_size=0.2, random_state=1337)\n",
    "\n",
    "x_test, x_valid, y_test, y_valid = train_test_split(x_test, y_test, test_size=0.5, random_state=1337)\n",
    "\n",
    "x_train.shape, x_valid.shape, x_test.shape"
   ]
  },
  {
   "cell_type": "markdown",
   "metadata": {},
   "source": [
    "## Задание 1. Реализация градиентного бустинга (4 балла)\n",
    "\n",
    "Вам нужно дописать код в файлике `boosting.py`. Для вас уже подготовлен шаблон класса `Boosting`, вы можете менять его по своему усмотрению.\n",
    "\n",
    "### Инструкции для функций:\n",
    "\n",
    "#### `__init__`\n",
    "\n",
    "В `__init__` приходит кучка параметров, распишем что есть что:\n",
    "\n",
    " - `base_model_class` - класс базовой модели нашего бустинга\n",
    " - `base_model_params` - словарь с гиперпараметрами для базовой модели\n",
    " - `n_estimators` - какое количество базовых моделей нужно обучить\n",
    " - `learning_rate` - темп обучения, должен быть из полуинтервала $(0, 1]$\n",
    " - `subsample` - доля объектов, на которой будет обучаться базовая модель (какую часть составляет бутстрапная выборка от исходной обучающей)\n",
    " - `early_stopping_rounds` - число итераций, после которых при отсутствии улучшения качества на валидационной выборке обучение останавливается\n",
    " - `plot (is_plotting)` - строить ли после обучения всех базовых моделей график с качеством\n",
    "\n",
    "#### `fit`\n",
    "\n",
    "В `fit` приходит две выборки, обучающая и валидационная. На обучающей мы обучаем новые базовые модели, на валидационной считаем качество для ранней остановки (если это предусматривают параметры).\n",
    "\n",
    "Сначала нам нужно сделать какую-то нулевую модель, сделать предсказания для обучающей и валидационной выборок (в шаблоне это нулевая модель, соответственно предсказания это просто `np.zeros`). После этого нужно обучить `n_estimators` базовых моделей (как и на что обучаются базовые модели смотрите в лекциях и семинарах). После каждой обученной базовой модели мы должны обновить текущие предсказания, посчитать ошибку на обучающей и валидационной выборках (используем `loss_fn` для этого), проверить на раннюю остановку.\n",
    "\n",
    "После всего цикла обучения надо нарисовать график (если `plot (is_plotting)`).\n",
    "\n",
    "\n",
    "#### `fit_new_base_model`\n",
    "\n",
    "В `fit_new_base_model` приходит обучающая выборка (целиком) и текущие предсказания для неё. Мы должны сгенерировать бутстрап выборку для обучения базовой модели и обучить базовую модель. После обучения модели запускаем поиск оптимальной гаммы, добавляем новую модель и гамму (не забываем про темп обучения) в соответствующие списки.\n",
    "\n",
    "#### `predict_proba`\n",
    "\n",
    "В `predict_proba` приходит выборка, нужно предсказать вероятности для неё. Суммируем предсказания базовых моделей на этой выборке (не забываем про гаммы) и накидываем сигмоиду."
   ]
  },
  {
   "cell_type": "code",
   "execution_count": 16,
   "metadata": {},
   "outputs": [],
   "source": [
    "%load_ext autoreload"
   ]
  },
  {
   "cell_type": "code",
   "execution_count": 53,
   "metadata": {},
   "outputs": [],
   "source": [
    "%autoreload 2\n",
    "\n",
    "from boosting import Boosting"
   ]
  },
  {
   "cell_type": "markdown",
   "metadata": {},
   "source": [
    "### Проверка кода\n",
    "\n",
    "У автора задания всё учится около одной секунды."
   ]
  },
  {
   "cell_type": "code",
   "execution_count": 105,
   "metadata": {},
   "outputs": [
    {
     "name": "stdout",
     "output_type": "stream",
     "text": [
      "CPU times: user 1.45 s, sys: 0 ns, total: 1.45 s\n",
      "Wall time: 1.45 s\n",
      "Train ROC-AUC 0.9881\n",
      "Valid ROC-AUC 0.9154\n",
      "Test ROC-AUC 0.9205\n"
     ]
    }
   ],
   "source": [
    "boosting = Boosting()\n",
    "\n",
    "%time boosting.fit(x_train, y_train, x_valid, y_valid)\n",
    "\n",
    "assert len(boosting.models) == boosting.n_estimators\n",
    "assert len(boosting.gammas) == boosting.n_estimators\n",
    "\n",
    "assert boosting.predict_proba(x_test).shape == (x_test.shape[0], 2)\n",
    "\n",
    "print(f'Train ROC-AUC {boosting.score(x_train, y_train):.4f}')\n",
    "print(f'Valid ROC-AUC {boosting.score(x_valid, y_valid):.4f}')\n",
    "print(f'Test ROC-AUC {boosting.score(x_test, y_test):.4f}')"
   ]
  },
  {
   "cell_type": "markdown",
   "metadata": {},
   "source": [
    "## Задание 2. Обучение градиентного бустинга (1 балл)\n",
    "\n",
    "Оцените качество на тестовой выборке вашей имплементации бустинга для различной максимальной глубины решающего дерева в качестве базовой модели. Здесь и далее мы будем использовать метрику ROC-AUC.\n",
    "\n",
    "Перебирайте максимальную глубину от 1 до 30 с шагом 2 (остальные параметры бустинга стоит оставить равными по умолчанию). Постройте график зависимости качества на обучающей и тестовой выборке в зависимости от глубины."
   ]
  },
  {
   "cell_type": "code",
   "execution_count": 107,
   "metadata": {},
   "outputs": [
    {
     "data": {
      "image/png": "[encoded data removed]",
      "text/plain": [
       "<Figure size 432x288 with 1 Axes>"
      ]
     },
     "metadata": {},
     "output_type": "display_data"
    }
   ],
   "source": [
    "results = []\n",
    "\n",
    "depths = range(1, 30, 2)\n",
    "\n",
    "for depth in depths:\n",
    "    boosting = Boosting(base_model_params={'max_depth' : depth})\n",
    "    boosting.fit(x_train, y_train, x_valid, y_valid)\n",
    "    \n",
    "    results += [boosting.score(x_test, y_test)]\n",
    "\n",
    "plt.plot(depths, results)\n",
    "plt.title('Test AUC-ROC by max depth of base tree')\n",
    "plt.xlabel('Max depth')\n",
    "plt.ylabel('AUC-ROC')\n",
    "plt.show()"
   ]
  },
  {
   "cell_type": "code",
   "execution_count": 108,
   "metadata": {},
   "outputs": [
    {
     "data": {
      "text/plain": [
       "9"
      ]
     },
     "execution_count": 108,
     "metadata": {},
     "output_type": "execute_result"
    }
   ],
   "source": [
    "depths[np.argmax(results)]"
   ]
  },
  {
   "cell_type": "markdown",
   "metadata": {},
   "source": [
    "* Какая из моделей имеет лучшее качество? С глубиной базового дерева 9.\n",
    "* Как вы можете это объяснить? Переобучение, недообучение моделей в других случаях."
   ]
  },
  {
   "cell_type": "markdown",
   "metadata": {},
   "source": [
    "## Задание 3. Подбираем гиперпараметры и ищем лучшую модель (2 балла)\n",
    "\n",
    "Подберите по валидационной выборке основные гиперпараметры для вашей модели бустинга. Следует подобрать все основные параметры для самого градиентного бустинга и для самих базовых моделей."
   ]
  },
  {
   "cell_type": "code",
   "execution_count": 111,
   "metadata": {},
   "outputs": [],
   "source": [
    "import pandas as pd"
   ]
  },
  {
   "cell_type": "code",
   "execution_count": 225,
   "metadata": {},
   "outputs": [],
   "source": [
    "# This works 5.4 mins\n",
    "hyper_config = {\n",
    "    'subsample': list(np.linspace(0.1, 1, 3)),\n",
    "    'learning_rate' : list(np.logspace(-2, 0, 3)),\n",
    "    'max_depth' : list(range(1, 10, 3)),\n",
    "    'min_samples_leaf': list(range(2, 8, 2)),\n",
    "    'n_estimators' : list(range(1, 70, 5))\n",
    "}\n",
    "\n",
    "\n",
    "df = pd.DataFrame({'val_auc_roc' : [0.]})\n",
    "\n",
    "for col, val in hyper_config.items():\n",
    "    df2 = pd.DataFrame({col : val})\n",
    "    df2['val_auc_roc'] = 0.\n",
    "    df = df.merge(df2, how='outer')\n",
    "\n",
    "for idx, config in df.iterrows():\n",
    "    if config['n_estimators'] < hyper_config['n_estimators'][-1]:\n",
    "        continue\n",
    "\n",
    "    boosting = Boosting(n_estimators=int(config['n_estimators']), \\\n",
    "        subsample=config['subsample'], learning_rate=config['learning_rate'], \\\n",
    "        base_model_params={'max_depth': int(config['max_depth']), 'min_samples_leaf': int(config['min_samples_leaf'])})\n",
    "    boosting.fit(x_train, y_train, x_valid, y_valid)\n",
    "    for i in range(idx - 13, idx + 1):\n",
    "        df.at[i, 'val_auc_roc'] = boosting.history['auc_roc'][df.at[i, 'n_estimators'] - 1]"
   ]
  },
  {
   "cell_type": "code",
   "execution_count": 226,
   "metadata": {},
   "outputs": [
    {
     "data": {
      "text/html": [
       "<div>\n",
       "<style scoped>\n",
       "    .dataframe tbody tr th:only-of-type {\n",
       "        vertical-align: middle;\n",
       "    }\n",
       "\n",
       "    .dataframe tbody tr th {\n",
       "        vertical-align: top;\n",
       "    }\n",
       "\n",
       "    .dataframe thead th {\n",
       "        text-align: right;\n",
       "    }\n",
       "</style>\n",
       "<table border=\"1\" class=\"dataframe\">\n",
       "  <thead>\n",
       "    <tr style=\"text-align: right;\">\n",
       "      <th></th>\n",
       "      <th>val_auc_roc</th>\n",
       "      <th>subsample</th>\n",
       "      <th>learning_rate</th>\n",
       "      <th>max_depth</th>\n",
       "      <th>min_samples_leaf</th>\n",
       "      <th>n_estimators</th>\n",
       "    </tr>\n",
       "  </thead>\n",
       "  <tbody>\n",
       "    <tr>\n",
       "      <th>1133</th>\n",
       "      <td>0.941206</td>\n",
       "      <td>1.0</td>\n",
       "      <td>1.0</td>\n",
       "      <td>7</td>\n",
       "      <td>6</td>\n",
       "      <td>66</td>\n",
       "    </tr>\n",
       "  </tbody>\n",
       "</table>\n",
       "</div>"
      ],
      "text/plain": [
       "      val_auc_roc  subsample  learning_rate  max_depth  min_samples_leaf  \\\n",
       "1133     0.941206        1.0            1.0          7                 6   \n",
       "\n",
       "      n_estimators  \n",
       "1133            66  "
      ]
     },
     "execution_count": 226,
     "metadata": {},
     "output_type": "execute_result"
    }
   ],
   "source": [
    "idx = np.argmax(df['val_auc_roc'])\n",
    "df[idx:idx + 1]"
   ]
  },
  {
   "cell_type": "markdown",
   "metadata": {},
   "source": [
    "## Задание 4. Пробуем разные библиотеки (2 балла)\n",
    "\n",
    "Выберите себе библиотеку с реализацией градиентного бустинга по вкусу из следующих трёх - [XGBoost](https://xgboost.readthedocs.io/en/stable/python/python_intro.html), [LightGBM](https://lightgbm.readthedocs.io/en/latest/Python-Intro.html), [CatBoost](https://catboost.ai/en/docs/concepts/python-quickstart). Подберите основные гиперпараметры, постарайтесь добиться наилучшего качества на тестовых данных. Сравните результаты своей реализации с результатами библиотечного бустинга."
   ]
  },
  {
   "cell_type": "code",
   "execution_count": 242,
   "metadata": {},
   "outputs": [],
   "source": [
    "import xgboost as xgb\n",
    "from sklearn.metrics import roc_auc_score\n",
    "from copy import deepcopy"
   ]
  },
  {
   "cell_type": "code",
   "execution_count": 243,
   "metadata": {},
   "outputs": [],
   "source": [
    "dtrain = xgb.DMatrix(x_train, label=y_train)\n",
    "dvalid = xgb.DMatrix(x_valid)"
   ]
  },
  {
   "cell_type": "code",
   "execution_count": 255,
   "metadata": {},
   "outputs": [],
   "source": [
    "hyper_config = {\n",
    "    'subsample': list(np.linspace(0.1, 1, 3)),\n",
    "    'eta' : list(np.logspace(-2, 0, 3)),\n",
    "    'max_depth' : list(range(1, 10, 3)),\n",
    "    'gamma': list(np.logspace(0, 3, 4)),\n",
    "    'n_estimators' : list(range(1, 70, 5))\n",
    "}\n",
    "\n",
    "\n",
    "df_xgb = pd.DataFrame({'val_auc_roc' : [0.]})\n",
    "\n",
    "for col, val in hyper_config.items():\n",
    "    df2 = pd.DataFrame({col : val})\n",
    "    df2['val_auc_roc'] = 0.\n",
    "    df_xgb = df_xgb.merge(df2, how='outer')"
   ]
  },
  {
   "cell_type": "code",
   "execution_count": 260,
   "metadata": {},
   "outputs": [],
   "source": [
    "# This works 5.5 mins\n",
    "def MakeDictParamsFromConfig(config):\n",
    "    res = dict()\n",
    "    res.update({'subsample' : config['subsample']})\n",
    "    res.update({'eta' : config['eta']})\n",
    "    res.update({'gamma' : config['gamma']})\n",
    "    res.update({'max_depth' : int(config['max_depth'])})\n",
    "    return res\n",
    "\n",
    "\n",
    "for idx, config in df_xgb.iterrows():\n",
    "    bst = xgb.train(MakeDictParamsFromConfig(config), dtrain, int(config['n_estimators']))\n",
    "\n",
    "    df_xgb.at[idx, 'val_auc_roc_xgb'] = roc_auc_score(y_valid, bst.predict(dvalid))"
   ]
  },
  {
   "cell_type": "code",
   "execution_count": 264,
   "metadata": {},
   "outputs": [
    {
     "data": {
      "text/html": [
       "<div>\n",
       "<style scoped>\n",
       "    .dataframe tbody tr th:only-of-type {\n",
       "        vertical-align: middle;\n",
       "    }\n",
       "\n",
       "    .dataframe tbody tr th {\n",
       "        vertical-align: top;\n",
       "    }\n",
       "\n",
       "    .dataframe thead th {\n",
       "        text-align: right;\n",
       "    }\n",
       "</style>\n",
       "<table border=\"1\" class=\"dataframe\">\n",
       "  <thead>\n",
       "    <tr style=\"text-align: right;\">\n",
       "      <th></th>\n",
       "      <th>val_auc_roc</th>\n",
       "      <th>subsample</th>\n",
       "      <th>eta</th>\n",
       "      <th>max_depth</th>\n",
       "      <th>gamma</th>\n",
       "      <th>n_estimators</th>\n",
       "      <th>val_auc_roc_xgb</th>\n",
       "    </tr>\n",
       "  </thead>\n",
       "  <tbody>\n",
       "    <tr>\n",
       "      <th>795</th>\n",
       "      <td>0.0</td>\n",
       "      <td>0.55</td>\n",
       "      <td>0.1</td>\n",
       "      <td>7</td>\n",
       "      <td>1.0</td>\n",
       "      <td>56</td>\n",
       "      <td>0.942788</td>\n",
       "    </tr>\n",
       "  </tbody>\n",
       "</table>\n",
       "</div>"
      ],
      "text/plain": [
       "     val_auc_roc  subsample  eta  max_depth  gamma  n_estimators  \\\n",
       "795          0.0       0.55  0.1          7    1.0            56   \n",
       "\n",
       "     val_auc_roc_xgb  \n",
       "795         0.942788  "
      ]
     },
     "execution_count": 264,
     "metadata": {},
     "output_type": "execute_result"
    }
   ],
   "source": [
    "idx = np.argmax(df_xgb['val_auc_roc_xgb'])\n",
    "df_xgb[idx:idx + 1]"
   ]
  },
  {
   "cell_type": "markdown",
   "metadata": {},
   "source": [
    "### Задание 5 (бонус). Пробуем ещё немножко библиотек (1 балл)\n",
    "\n",
    "Существуют библиотеки для подбора гиперпараметров, попробуйте использовать какую-нибудь из следующих двух - [Hyperopt](https://github.com/hyperopt/hyperopt), [Optuna](https://optuna.org/). Сравните полученное качество с вашим ручным перебором. Используйте эту библиотеку чтобы подобрать параметры и для своей реалзиации и для библиотечной.\n",
    "\n",
    "* Тупой перебор в обоих случаях дал чуть лучше рузультат, хоть и совсем чуток. Скорее всего это из-за количества итераций, возможно ещё рандомизации бустрапа."
   ]
  },
  {
   "cell_type": "code",
   "execution_count": 286,
   "metadata": {},
   "outputs": [],
   "source": [
    "from IPython.display import clear_output\n",
    "import optuna"
   ]
  },
  {
   "cell_type": "code",
   "execution_count": 296,
   "metadata": {},
   "outputs": [],
   "source": [
    "def train_and_test_xgb(trial):\n",
    "    params = dict()\n",
    "    params.update({'subsample' : trial.suggest_float('subsample', 0.0001, 1)})\n",
    "    params.update({'learning_rate' : trial.suggest_float('eta', 0.0001, 1)})\n",
    "    params.update({'gamma' : trial.suggest_float('gamma', 0, 10)})\n",
    "    params.update({'max_depth' : trial.suggest_int('max_depth', 1, 50)})\n",
    "\n",
    "    bst = xgb.train(params, dtrain, trial.suggest_int('n_estimators', 1, 100))\n",
    "    return roc_auc_score(y_valid, bst.predict(dvalid))\n",
    "\n",
    "def train_and_test_my_gb(trial):\n",
    "    params = dict()\n",
    "    params.update({'max_depth' : trial.suggest_int('max_depth', 1, 50)})\n",
    "    params.update({'min_samples_leaf' : trial.suggest_int('min_samples_leaf', 1, 10)})\n",
    "\n",
    "    boosting = Boosting(base_model_params=params, n_estimators=trial.suggest_int('n_estimators', 1, 100),\\\n",
    "        subsample=trial.suggest_float('subsample', 0.0001, 1), learning_rate=trial.suggest_float('learning_rate', 0.0001, 1))\n",
    "    boosting.fit(x_train, y_train, x_valid, y_valid)\n",
    "    return boosting.score(x_valid, y_valid)"
   ]
  },
  {
   "cell_type": "code",
   "execution_count": 305,
   "metadata": {},
   "outputs": [
    {
     "name": "stdout",
     "output_type": "stream",
     "text": [
      "Best params: {'subsample': 0.6363735659810423, 'eta': 0.10377537444847165, 'gamma': 5.784200103615684, 'max_depth': 23, 'n_estimators': 68} \n",
      "Result: 0.942706250553745\n"
     ]
    }
   ],
   "source": [
    "# This works 3.5 mins\n",
    "study_xgb = optuna.create_study(direction='maximize')\n",
    "study_xgb.optimize(train_and_test_xgb, n_trials=100)\n",
    "clear_output()\n",
    "\n",
    "print('Best params:', study_xgb.best_params, '\\nResult:', study_xgb.best_value)"
   ]
  },
  {
   "cell_type": "code",
   "execution_count": 306,
   "metadata": {},
   "outputs": [
    {
     "name": "stdout",
     "output_type": "stream",
     "text": [
      "Best params: {'max_depth': 9, 'min_samples_leaf': 10, 'n_estimators': 46, 'subsample': 0.5642066980296775, 'learning_rate': 0.6049526326622348} \n",
      "Result: 0.9393538484379003\n"
     ]
    }
   ],
   "source": [
    "# This works 3.3 mins\n",
    "study_my_gb = optuna.create_study(direction='maximize')\n",
    "study_my_gb.optimize(train_and_test_my_gb, n_trials=25)\n",
    "clear_output()\n",
    "\n",
    "print('Best params:', study_my_gb.best_params, '\\nResult:', study_my_gb.best_value)"
   ]
  },
  {
   "cell_type": "markdown",
   "metadata": {},
   "source": [
    "## Задание 6. Интерпретация бустингового (1 балл)\n",
    "\n",
    "Постройте калибровочную кривую для вашей лучшей модели бустинга (из тех, что используют вашу реализацию).\n",
    "Насколько хорошо бустинг оценивает вероятности? Постройте также калибровочную кривую для логистической регресии, сравните их между собой. Проанализируйте полученные результаты."
   ]
  },
  {
   "cell_type": "code",
   "execution_count": 318,
   "metadata": {},
   "outputs": [],
   "source": [
    "from sklearn.calibration import calibration_curve\n",
    "from sklearn.linear_model import LogisticRegression"
   ]
  },
  {
   "cell_type": "code",
   "execution_count": 313,
   "metadata": {},
   "outputs": [],
   "source": [
    "idx = np.argmax(df['val_auc_roc'])\n",
    "subsample = df[idx:idx + 1]['subsample']\n",
    "learning_rate = df[idx:idx + 1]['learning_rate']\n",
    "max_depth = int(df[idx:idx + 1]['max_depth'])\n",
    "min_samples_leaf = int(df[idx:idx + 1]['min_samples_leaf'])\n",
    "n_estimators = int(df[idx:idx + 1]['n_estimators'])"
   ]
  },
  {
   "cell_type": "code",
   "execution_count": 348,
   "metadata": {},
   "outputs": [
    {
     "data": {
      "image/png": "[encoded data removed]",
      "text/plain": [
       "<Figure size 576x576 with 1 Axes>"
      ]
     },
     "metadata": {},
     "output_type": "display_data"
    }
   ],
   "source": [
    "def PlotCalibrationCurve(ax, clf, name, x_valid, y_valid):\n",
    "    x_values, y_values = calibration_curve(y_valid, clf.predict_proba(x_valid)[:, 1])\n",
    "    ax.plot(x_values, y_values)\n",
    "    ax.set_title('Plot calibration curve')\n",
    "    ax.set_xlabel('Mean predicted probability')\n",
    "    ax.set_ylabel('Fraction of positives')\n",
    "\n",
    "\n",
    "# training\n",
    "boosting = Boosting(n_estimators=n_estimators, subsample=subsample, learning_rate=learning_rate,\\\n",
    "    base_model_params={'max_depth': max_depth, 'min_samples_leaf': min_samples_leaf})\n",
    "boosting.fit(x_train, y_train, x_valid, y_valid)\n",
    "\n",
    "model = LogisticRegression()\n",
    "model.fit(x_train, y_train)\n",
    "\n",
    "# plotting\n",
    "_, axs = plt.subplots(1, 1, figsize=(8, 8))\n",
    "PlotCalibrationCurve(axs, boosting, 'boosting', x_valid, y_valid)\n",
    "PlotCalibrationCurve(axs, model, 'logistic regression', x_valid, y_valid)\n",
    "axs.plot([0, 1], [0, 1], linestyle = '--', color='black')\n",
    "plt.legend(['boosting', 'logistic regression'])\n",
    "plt.show()"
   ]
  },
  {
   "cell_type": "markdown",
   "metadata": {},
   "source": [
    "Теперь попробуем оценить важность признаков для бустинга.\n",
    "\n",
    "Поскольку наша базовая модель - это дерево из `sklearn`, мы можем вычислить важность признака отдельно для каждого дерева и усреднить (воспользуйтесь `feature_importances_` у `DecisionTreeRegressor`), после этого нормировать значения, чтобы они суммировались в единицу (обратите внимание, что они должны быть неотрицательными - иначе вы что-то сделали не так).\n",
    "\n",
    "Допишите в вашей реализации бустинга функцию `feature_importances_` чтобы она возвращала описанные выше важности признаков.\n",
    "\n",
    "Нарисуйте столбчатую диаграмму важности признаков. На соседнем графике нарисуйте важность признаков для логистической регрессии, для этого используйте модули весов. Сравните графики. Проанализируйте полученные результаты."
   ]
  },
  {
   "cell_type": "code",
   "execution_count": 398,
   "metadata": {},
   "outputs": [
    {
     "data": {
      "image/png": "[encoded data removed]",
      "text/plain": [
       "<Figure size 1152x576 with 2 Axes>"
      ]
     },
     "metadata": {},
     "output_type": "display_data"
    }
   ],
   "source": [
    "def PlotFeatureImportances(ax, array, name):\n",
    "    ax.bar(range(len(array)), array)\n",
    "    ax.set_title('Feature importances for ' + name)\n",
    "    ax.set_xlabel('Feature')\n",
    "    ax.set_ylabel('Importances')\n",
    "\n",
    "_, axs = plt.subplots(1, 2, figsize=(16, 8))\n",
    "PlotFeatureImportances(axs[0], boosting.feature_importances_, 'boosting')\n",
    "PlotFeatureImportances(axs[1], np.abs(model.coef_[0]) / np.abs(model.coef_[0]).sum(), 'logistic regression')\n",
    "plt.show()"
   ]
  },
  {
   "cell_type": "markdown",
   "metadata": {},
   "source": [
    "Кстати, чаще всего излишние признаки могут вредить качеству бустинга. Попробуйте отфильтровать на основании диаграммы хвост наименее важных признаков и снова обучить модель (с теми же гиперпараметрами). Стало ли лучше?"
   ]
  },
  {
   "cell_type": "code",
   "execution_count": 418,
   "metadata": {},
   "outputs": [
    {
     "data": {
      "text/plain": [
       "(0.9397784860392405, 0.9412726995537315)"
      ]
     },
     "execution_count": 418,
     "metadata": {},
     "output_type": "execute_result"
    }
   ],
   "source": [
    "def DropNQuantile(model, previos_model, x_train, y_train, x_valid, y_valid, quantile_to_drop=0.2):\n",
    "    quant = np.quantile(previos_model.feature_importances_, quantile_to_drop)\n",
    "    feature_needed = previos_model.feature_importances_ > quant\n",
    "    model.fit(x_train[:, feature_needed], y_train, x_valid[:, feature_needed], y_valid)\n",
    "    return feature_needed\n",
    "\n",
    "brand_new_boosting = Boosting(n_estimators=n_estimators, subsample=subsample, learning_rate=learning_rate,\\\n",
    "    base_model_params={'max_depth': max_depth, 'min_samples_leaf': min_samples_leaf})\n",
    "DropNQuantile(brand_new_boosting, boosting, x_train, y_train, x_valid, y_valid)\n",
    "brand_new_boosting.history['auc_roc'][-1], boosting.history['auc_roc'][-1]"
   ]
  },
  {
   "cell_type": "code",
   "execution_count": 419,
   "metadata": {},
   "outputs": [
    {
     "data": {
      "text/plain": [
       "(0.9398279738799984, 0.9412726995537315)"
      ]
     },
     "execution_count": 419,
     "metadata": {},
     "output_type": "execute_result"
    }
   ],
   "source": [
    "brand_new_boosting = Boosting(n_estimators=n_estimators, subsample=subsample, learning_rate=learning_rate,\\\n",
    "    base_model_params={'max_depth': max_depth, 'min_samples_leaf': min_samples_leaf})\n",
    "DropNQuantile(brand_new_boosting, boosting, x_train, y_train, x_valid, y_valid, quantile_to_drop=0.5)\n",
    "brand_new_boosting.history['auc_roc'][-1], boosting.history['auc_roc'][-1]"
   ]
  },
  {
   "cell_type": "code",
   "execution_count": 420,
   "metadata": {},
   "outputs": [
    {
     "data": {
      "text/plain": [
       "(0.940332031483845, 0.9412726995537315)"
      ]
     },
     "execution_count": 420,
     "metadata": {},
     "output_type": "execute_result"
    }
   ],
   "source": [
    "brand_new_boosting = Boosting(n_estimators=n_estimators, subsample=subsample, learning_rate=learning_rate,\\\n",
    "    base_model_params={'max_depth': max_depth, 'min_samples_leaf': min_samples_leaf})\n",
    "DropNQuantile(brand_new_boosting, boosting, x_train, y_train, x_valid, y_valid, quantile_to_drop=0.1)\n",
    "brand_new_boosting.history['auc_roc'][-1], boosting.history['auc_roc'][-1]"
   ]
  },
  {
   "cell_type": "markdown",
   "metadata": {},
   "source": [
    "Все опробованные квантили давали результат хуже, однако это может быть следствием рандомности бустрапа."
   ]
  },
  {
   "cell_type": "markdown",
   "metadata": {},
   "source": [
    "## Задание 7 (бонус). Блендинговое (1 балл)\n",
    "\n",
    "Реализуйте блендинг над вашими лучшими моделями (ваша реализация с лучшими гиперпараметрами + все модели из библиотек с лучшими гиперпараметрами). Улучшилось ли качество?"
   ]
  },
  {
   "cell_type": "code",
   "execution_count": null,
   "metadata": {},
   "outputs": [],
   "source": []
  },
  {
   "cell_type": "markdown",
   "metadata": {},
   "source": [
    "## Социализационный бонус. Новогоднее 🎆 (0.5 балла)\n",
    "\n",
    "Сфотографируйтесь с наряженной новогодней или рождественской ёлкой! Приложите фотографию, опишите свои впечатления, чего вы ждете от нового 2022 года?"
   ]
  }
 ],
 "metadata": {
  "kernelspec": {
   "display_name": "Python 3 (ipykernel)",
   "language": "python",
   "name": "python3"
  },
  "language_info": {
   "codemirror_mode": {
    "name": "ipython",
    "version": 3
   },
   "file_extension": ".py",
   "mimetype": "text/x-python",
   "name": "python",
   "nbconvert_exporter": "python",
   "pygments_lexer": "ipython3",
   "version": "3.8.10"
  },
  "nbTranslate": {
   "displayLangs": [
    "*"
   ],
   "hotkey": "alt-t",
   "langInMainMenu": true,
   "sourceLang": "en",
   "targetLang": "fr",
   "useGoogleTranslate": true
  },
  "toc": {
   "base_numbering": 1,
   "nav_menu": {
    "height": "210px",
    "width": "492px"
   },
   "number_sections": false,
   "sideBar": true,
   "skip_h1_title": false,
   "title_cell": "Table of Contents",
   "title_sidebar": "Contents",
   "toc_cell": false,
   "toc_position": {},
   "toc_section_display": true,
   "toc_window_display": true
  },
  "varInspector": {
   "cols": {
    "lenName": 16,
    "lenType": 16,
    "lenVar": 40
   },
   "kernels_config": {
    "python": {
     "delete_cmd_postfix": "",
     "delete_cmd_prefix": "del ",
     "library": "var_list.py",
     "varRefreshCmd": "print(var_dic_list())"
    },
    "r": {
     "delete_cmd_postfix": ") ",
     "delete_cmd_prefix": "rm(",
     "library": "var_list.r",
     "varRefreshCmd": "cat(var_dic_list()) "
    }
   },
   "types_to_exclude": [
    "module",
    "function",
    "builtin_function_or_method",
    "instance",
    "_Feature"
   ],
   "window_display": false
  }
 },
 "nbformat": 4,
 "nbformat_minor": 4
}
